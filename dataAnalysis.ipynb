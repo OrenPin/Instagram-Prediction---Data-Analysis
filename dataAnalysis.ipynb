{
 "cells": [
  {
   "cell_type": "markdown",
   "metadata": {},
   "source": [
    "# Here we will go through the data we collected from instagram posts:\n",
    "\n",
    "- Problem definition - Post success recognition\n",
    "- Preliminary preparations for the solution - Done\n",
    "- Intention to the solution - EDA\n",
    "- Assimilation in the field"
   ]
  },
  {
   "cell_type": "markdown",
   "metadata": {},
   "source": [
    "Let's do here the import:"
   ]
  },
  {
   "cell_type": "code",
   "execution_count": 96,
   "metadata": {},
   "outputs": [],
   "source": [
    "import pandas as pd\n",
    "import numpy as np\n",
    "from scipy.stats import chi2_contingency\n",
    "import matplotlib.pyplot as plt\n",
    "import seaborn as sns\n",
    "%matplotlib inline\n",
    "import re # Regular expression \n",
    "from langdetect import detect #Language detection\n",
    "import sklearn\n",
    "from sklearn import preprocessing, model_selection, feature_extraction\n",
    "from sklearn import metrics\n",
    "from sklearn.feature_extraction import text\n",
    "from sklearn.preprocessing import Normalizer\n",
    "from sklearn.feature_extraction.text import CountVectorizer\n",
    "from PIL import Image\n",
    "from wordcloud import WordCloud\n",
    "from sklearn.metrics import accuracy_score\n",
    "from sklearn.preprocessing import StandardScaler, MinMaxScaler\n",
    "from sklearn.linear_model import LogisticRegression\n",
    "from sklearn.model_selection import train_test_split\n",
    "from sklearn.metrics import r2_score, f1_score"
   ]
  },
  {
   "cell_type": "markdown",
   "metadata": {},
   "source": [
    "Loading file:"
   ]
  },
  {
   "cell_type": "code",
   "execution_count": 97,
   "metadata": {},
   "outputs": [],
   "source": [
    "df = pd.read_csv(\"total_data.csv\")"
   ]
  },
  {
   "cell_type": "markdown",
   "metadata": {},
   "source": [
    "Dataframe description:"
   ]
  },
  {
   "cell_type": "code",
   "execution_count": 98,
   "metadata": {},
   "outputs": [
    {
     "data": {
      "text/html": [
       "<div>\n",
       "<style scoped>\n",
       "    .dataframe tbody tr th:only-of-type {\n",
       "        vertical-align: middle;\n",
       "    }\n",
       "\n",
       "    .dataframe tbody tr th {\n",
       "        vertical-align: top;\n",
       "    }\n",
       "\n",
       "    .dataframe thead th {\n",
       "        text-align: right;\n",
       "    }\n",
       "</style>\n",
       "<table border=\"1\" class=\"dataframe\">\n",
       "  <thead>\n",
       "    <tr style=\"text-align: right;\">\n",
       "      <th></th>\n",
       "      <th>id</th>\n",
       "      <th>likes</th>\n",
       "      <th>following</th>\n",
       "      <th>followers</th>\n",
       "      <th>posts_amount</th>\n",
       "      <th>celeb</th>\n",
       "      <th>pic_vid</th>\n",
       "      <th>hashtag</th>\n",
       "      <th>hashtag_amount</th>\n",
       "      <th>pCo</th>\n",
       "      <th>content</th>\n",
       "      <th>post_date</th>\n",
       "      <th>curr_date</th>\n",
       "      <th>predict</th>\n",
       "    </tr>\n",
       "  </thead>\n",
       "  <tbody>\n",
       "    <tr>\n",
       "      <th>count</th>\n",
       "      <td>7342</td>\n",
       "      <td>6.863000e+03</td>\n",
       "      <td>6980.000000</td>\n",
       "      <td>6.980000e+03</td>\n",
       "      <td>6980.000000</td>\n",
       "      <td>7342.000000</td>\n",
       "      <td>7342.000000</td>\n",
       "      <td>5963</td>\n",
       "      <td>7342.000000</td>\n",
       "      <td>6924</td>\n",
       "      <td>7326</td>\n",
       "      <td>7340</td>\n",
       "      <td>7342</td>\n",
       "      <td>6523.000000</td>\n",
       "    </tr>\n",
       "    <tr>\n",
       "      <th>unique</th>\n",
       "      <td>6654</td>\n",
       "      <td>NaN</td>\n",
       "      <td>NaN</td>\n",
       "      <td>NaN</td>\n",
       "      <td>NaN</td>\n",
       "      <td>NaN</td>\n",
       "      <td>NaN</td>\n",
       "      <td>5270</td>\n",
       "      <td>NaN</td>\n",
       "      <td>5597</td>\n",
       "      <td>6225</td>\n",
       "      <td>166</td>\n",
       "      <td>15</td>\n",
       "      <td>NaN</td>\n",
       "    </tr>\n",
       "    <tr>\n",
       "      <th>top</th>\n",
       "      <td>Cd3IHD_KmBW</td>\n",
       "      <td>NaN</td>\n",
       "      <td>NaN</td>\n",
       "      <td>NaN</td>\n",
       "      <td>NaN</td>\n",
       "      <td>NaN</td>\n",
       "      <td>NaN</td>\n",
       "      <td></td>\n",
       "      <td>NaN</td>\n",
       "      <td>text</td>\n",
       "      <td></td>\n",
       "      <td>1h</td>\n",
       "      <td>06/06/2022</td>\n",
       "      <td>NaN</td>\n",
       "    </tr>\n",
       "    <tr>\n",
       "      <th>freq</th>\n",
       "      <td>9</td>\n",
       "      <td>NaN</td>\n",
       "      <td>NaN</td>\n",
       "      <td>NaN</td>\n",
       "      <td>NaN</td>\n",
       "      <td>NaN</td>\n",
       "      <td>NaN</td>\n",
       "      <td>119</td>\n",
       "      <td>NaN</td>\n",
       "      <td>103</td>\n",
       "      <td>459</td>\n",
       "      <td>815</td>\n",
       "      <td>1141</td>\n",
       "      <td>NaN</td>\n",
       "    </tr>\n",
       "    <tr>\n",
       "      <th>mean</th>\n",
       "      <td>NaN</td>\n",
       "      <td>1.081872e+04</td>\n",
       "      <td>1171.248281</td>\n",
       "      <td>8.590198e+04</td>\n",
       "      <td>1319.232235</td>\n",
       "      <td>0.032280</td>\n",
       "      <td>0.164941</td>\n",
       "      <td>NaN</td>\n",
       "      <td>16.219423</td>\n",
       "      <td>NaN</td>\n",
       "      <td>NaN</td>\n",
       "      <td>NaN</td>\n",
       "      <td>NaN</td>\n",
       "      <td>0.132608</td>\n",
       "    </tr>\n",
       "    <tr>\n",
       "      <th>std</th>\n",
       "      <td>NaN</td>\n",
       "      <td>2.969207e+05</td>\n",
       "      <td>1616.284394</td>\n",
       "      <td>3.351094e+05</td>\n",
       "      <td>2701.106340</td>\n",
       "      <td>0.176755</td>\n",
       "      <td>0.371153</td>\n",
       "      <td>NaN</td>\n",
       "      <td>11.517614</td>\n",
       "      <td>NaN</td>\n",
       "      <td>NaN</td>\n",
       "      <td>NaN</td>\n",
       "      <td>NaN</td>\n",
       "      <td>0.339176</td>\n",
       "    </tr>\n",
       "    <tr>\n",
       "      <th>min</th>\n",
       "      <td>NaN</td>\n",
       "      <td>2.000000e+00</td>\n",
       "      <td>0.000000</td>\n",
       "      <td>1.000000e+00</td>\n",
       "      <td>1.000000</td>\n",
       "      <td>0.000000</td>\n",
       "      <td>0.000000</td>\n",
       "      <td>NaN</td>\n",
       "      <td>0.000000</td>\n",
       "      <td>NaN</td>\n",
       "      <td>NaN</td>\n",
       "      <td>NaN</td>\n",
       "      <td>NaN</td>\n",
       "      <td>0.000000</td>\n",
       "    </tr>\n",
       "    <tr>\n",
       "      <th>25%</th>\n",
       "      <td>NaN</td>\n",
       "      <td>2.165000e+02</td>\n",
       "      <td>195.000000</td>\n",
       "      <td>4.268000e+03</td>\n",
       "      <td>188.000000</td>\n",
       "      <td>0.000000</td>\n",
       "      <td>0.000000</td>\n",
       "      <td>NaN</td>\n",
       "      <td>4.000000</td>\n",
       "      <td>NaN</td>\n",
       "      <td>NaN</td>\n",
       "      <td>NaN</td>\n",
       "      <td>NaN</td>\n",
       "      <td>0.000000</td>\n",
       "    </tr>\n",
       "    <tr>\n",
       "      <th>50%</th>\n",
       "      <td>NaN</td>\n",
       "      <td>6.040000e+02</td>\n",
       "      <td>609.000000</td>\n",
       "      <td>1.480000e+04</td>\n",
       "      <td>504.500000</td>\n",
       "      <td>0.000000</td>\n",
       "      <td>0.000000</td>\n",
       "      <td>NaN</td>\n",
       "      <td>18.000000</td>\n",
       "      <td>NaN</td>\n",
       "      <td>NaN</td>\n",
       "      <td>NaN</td>\n",
       "      <td>NaN</td>\n",
       "      <td>0.000000</td>\n",
       "    </tr>\n",
       "    <tr>\n",
       "      <th>75%</th>\n",
       "      <td>NaN</td>\n",
       "      <td>2.187000e+03</td>\n",
       "      <td>1315.000000</td>\n",
       "      <td>5.570000e+04</td>\n",
       "      <td>1340.000000</td>\n",
       "      <td>0.000000</td>\n",
       "      <td>0.000000</td>\n",
       "      <td>NaN</td>\n",
       "      <td>27.000000</td>\n",
       "      <td>NaN</td>\n",
       "      <td>NaN</td>\n",
       "      <td>NaN</td>\n",
       "      <td>NaN</td>\n",
       "      <td>0.000000</td>\n",
       "    </tr>\n",
       "    <tr>\n",
       "      <th>max</th>\n",
       "      <td>NaN</td>\n",
       "      <td>2.425880e+07</td>\n",
       "      <td>7561.000000</td>\n",
       "      <td>1.440000e+07</td>\n",
       "      <td>53792.000000</td>\n",
       "      <td>1.000000</td>\n",
       "      <td>1.000000</td>\n",
       "      <td>NaN</td>\n",
       "      <td>59.000000</td>\n",
       "      <td>NaN</td>\n",
       "      <td>NaN</td>\n",
       "      <td>NaN</td>\n",
       "      <td>NaN</td>\n",
       "      <td>1.000000</td>\n",
       "    </tr>\n",
       "  </tbody>\n",
       "</table>\n",
       "</div>"
      ],
      "text/plain": [
       "                 id         likes    following     followers  posts_amount  \\\n",
       "count          7342  6.863000e+03  6980.000000  6.980000e+03   6980.000000   \n",
       "unique         6654           NaN          NaN           NaN           NaN   \n",
       "top     Cd3IHD_KmBW           NaN          NaN           NaN           NaN   \n",
       "freq              9           NaN          NaN           NaN           NaN   \n",
       "mean            NaN  1.081872e+04  1171.248281  8.590198e+04   1319.232235   \n",
       "std             NaN  2.969207e+05  1616.284394  3.351094e+05   2701.106340   \n",
       "min             NaN  2.000000e+00     0.000000  1.000000e+00      1.000000   \n",
       "25%             NaN  2.165000e+02   195.000000  4.268000e+03    188.000000   \n",
       "50%             NaN  6.040000e+02   609.000000  1.480000e+04    504.500000   \n",
       "75%             NaN  2.187000e+03  1315.000000  5.570000e+04   1340.000000   \n",
       "max             NaN  2.425880e+07  7561.000000  1.440000e+07  53792.000000   \n",
       "\n",
       "              celeb      pic_vid hashtag  hashtag_amount    pCo content  \\\n",
       "count   7342.000000  7342.000000    5963     7342.000000   6924    7326   \n",
       "unique          NaN          NaN    5270             NaN   5597    6225   \n",
       "top             NaN          NaN                     NaN  text            \n",
       "freq            NaN          NaN     119             NaN    103     459   \n",
       "mean       0.032280     0.164941     NaN       16.219423    NaN     NaN   \n",
       "std        0.176755     0.371153     NaN       11.517614    NaN     NaN   \n",
       "min        0.000000     0.000000     NaN        0.000000    NaN     NaN   \n",
       "25%        0.000000     0.000000     NaN        4.000000    NaN     NaN   \n",
       "50%        0.000000     0.000000     NaN       18.000000    NaN     NaN   \n",
       "75%        0.000000     0.000000     NaN       27.000000    NaN     NaN   \n",
       "max        1.000000     1.000000     NaN       59.000000    NaN     NaN   \n",
       "\n",
       "       post_date   curr_date      predict  \n",
       "count       7340        7342  6523.000000  \n",
       "unique       166          15          NaN  \n",
       "top           1h  06/06/2022          NaN  \n",
       "freq         815        1141          NaN  \n",
       "mean         NaN         NaN     0.132608  \n",
       "std          NaN         NaN     0.339176  \n",
       "min          NaN         NaN     0.000000  \n",
       "25%          NaN         NaN     0.000000  \n",
       "50%          NaN         NaN     0.000000  \n",
       "75%          NaN         NaN     0.000000  \n",
       "max          NaN         NaN     1.000000  "
      ]
     },
     "execution_count": 98,
     "metadata": {},
     "output_type": "execute_result"
    }
   ],
   "source": [
    "df.describe(include='all')"
   ]
  },
  {
   "cell_type": "code",
   "execution_count": 99,
   "metadata": {},
   "outputs": [
    {
     "data": {
      "text/html": [
       "<div>\n",
       "<style scoped>\n",
       "    .dataframe tbody tr th:only-of-type {\n",
       "        vertical-align: middle;\n",
       "    }\n",
       "\n",
       "    .dataframe tbody tr th {\n",
       "        vertical-align: top;\n",
       "    }\n",
       "\n",
       "    .dataframe thead th {\n",
       "        text-align: right;\n",
       "    }\n",
       "</style>\n",
       "<table border=\"1\" class=\"dataframe\">\n",
       "  <thead>\n",
       "    <tr style=\"text-align: right;\">\n",
       "      <th></th>\n",
       "      <th>id</th>\n",
       "      <th>likes</th>\n",
       "      <th>following</th>\n",
       "      <th>followers</th>\n",
       "      <th>posts_amount</th>\n",
       "      <th>celeb</th>\n",
       "      <th>pic_vid</th>\n",
       "      <th>hashtag</th>\n",
       "      <th>hashtag_amount</th>\n",
       "      <th>pCo</th>\n",
       "      <th>content</th>\n",
       "      <th>post_date</th>\n",
       "      <th>curr_date</th>\n",
       "      <th>predict</th>\n",
       "    </tr>\n",
       "  </thead>\n",
       "  <tbody>\n",
       "    <tr>\n",
       "      <th>0</th>\n",
       "      <td>CeRUvKzq3n4</td>\n",
       "      <td>407.0</td>\n",
       "      <td>867.0</td>\n",
       "      <td>32400.0</td>\n",
       "      <td>792.0</td>\n",
       "      <td>0</td>\n",
       "      <td>1</td>\n",
       "      <td>diormakeup diorbeautylovers</td>\n",
       "      <td>2</td>\n",
       "      <td>person text hairpiece human face clothing scre...</td>\n",
       "      <td>אם את טסה בקרוב או שסתם באלך להתפנק במותג מהמם...</td>\n",
       "      <td>4d</td>\n",
       "      <td>05/06/2022</td>\n",
       "      <td>0.0</td>\n",
       "    </tr>\n",
       "    <tr>\n",
       "      <th>1</th>\n",
       "      <td>Cd4EPrQqumz</td>\n",
       "      <td>697.0</td>\n",
       "      <td>450.0</td>\n",
       "      <td>40600.0</td>\n",
       "      <td>125.0</td>\n",
       "      <td>0</td>\n",
       "      <td>0</td>\n",
       "      <td>NaN</td>\n",
       "      <td>0</td>\n",
       "      <td>NaN</td>\n",
       "      <td>أذكر تلك المقولة الس اخرة ثمة نوعان من الأغبيا...</td>\n",
       "      <td>1w</td>\n",
       "      <td>05/06/2022</td>\n",
       "      <td>0.0</td>\n",
       "    </tr>\n",
       "    <tr>\n",
       "      <th>2</th>\n",
       "      <td>CeT8winMlKi</td>\n",
       "      <td>928.0</td>\n",
       "      <td>234.0</td>\n",
       "      <td>5910.0</td>\n",
       "      <td>105.0</td>\n",
       "      <td>0</td>\n",
       "      <td>0</td>\n",
       "      <td>NaN</td>\n",
       "      <td>0</td>\n",
       "      <td>outdoor person sky clothing girl summer furnit...</td>\n",
       "      <td>תודה רבה על כל הברכות והאיחולים חיממתם לי ת לב</td>\n",
       "      <td>3d</td>\n",
       "      <td>05/06/2022</td>\n",
       "      <td>0.0</td>\n",
       "    </tr>\n",
       "    <tr>\n",
       "      <th>3</th>\n",
       "      <td>CeGNHlljW1M</td>\n",
       "      <td>22607.0</td>\n",
       "      <td>6.0</td>\n",
       "      <td>166000.0</td>\n",
       "      <td>2124.0</td>\n",
       "      <td>0</td>\n",
       "      <td>0</td>\n",
       "      <td>NaN</td>\n",
       "      <td>0</td>\n",
       "      <td>clothing human face person tie smile</td>\n",
       "      <td>تابعوا قناتنا تليجرام موجودة بالبايو من اجمل ا...</td>\n",
       "      <td>1w</td>\n",
       "      <td>05/06/2022</td>\n",
       "      <td>0.0</td>\n",
       "    </tr>\n",
       "    <tr>\n",
       "      <th>4</th>\n",
       "      <td>CeRBpNosRXh</td>\n",
       "      <td>1239.0</td>\n",
       "      <td>676.0</td>\n",
       "      <td>6542.0</td>\n",
       "      <td>40.0</td>\n",
       "      <td>0</td>\n",
       "      <td>0</td>\n",
       "      <td>foryou muscle musica fortnite 🌴 motivation for...</td>\n",
       "      <td>6</td>\n",
       "      <td>NaN</td>\n",
       "      <td>page</td>\n",
       "      <td>4d</td>\n",
       "      <td>05/06/2022</td>\n",
       "      <td>0.0</td>\n",
       "    </tr>\n",
       "  </tbody>\n",
       "</table>\n",
       "</div>"
      ],
      "text/plain": [
       "            id    likes  following  followers  posts_amount  celeb  pic_vid  \\\n",
       "0  CeRUvKzq3n4    407.0      867.0    32400.0         792.0      0        1   \n",
       "1  Cd4EPrQqumz    697.0      450.0    40600.0         125.0      0        0   \n",
       "2  CeT8winMlKi    928.0      234.0     5910.0         105.0      0        0   \n",
       "3  CeGNHlljW1M  22607.0        6.0   166000.0        2124.0      0        0   \n",
       "4  CeRBpNosRXh   1239.0      676.0     6542.0          40.0      0        0   \n",
       "\n",
       "                                             hashtag  hashtag_amount  \\\n",
       "0                       diormakeup diorbeautylovers                2   \n",
       "1                                                NaN               0   \n",
       "2                                                NaN               0   \n",
       "3                                                NaN               0   \n",
       "4  foryou muscle musica fortnite 🌴 motivation for...               6   \n",
       "\n",
       "                                                 pCo  \\\n",
       "0  person text hairpiece human face clothing scre...   \n",
       "1                                                NaN   \n",
       "2  outdoor person sky clothing girl summer furnit...   \n",
       "3              clothing human face person tie smile    \n",
       "4                                                NaN   \n",
       "\n",
       "                                             content post_date   curr_date  \\\n",
       "0  אם את טסה בקרוב או שסתם באלך להתפנק במותג מהמם...        4d  05/06/2022   \n",
       "1  أذكر تلك المقولة الس اخرة ثمة نوعان من الأغبيا...        1w  05/06/2022   \n",
       "2    תודה רבה על כל הברכות והאיחולים חיממתם לי ת לב         3d  05/06/2022   \n",
       "3  تابعوا قناتنا تليجرام موجودة بالبايو من اجمل ا...        1w  05/06/2022   \n",
       "4                                              page         4d  05/06/2022   \n",
       "\n",
       "   predict  \n",
       "0      0.0  \n",
       "1      0.0  \n",
       "2      0.0  \n",
       "3      0.0  \n",
       "4      0.0  "
      ]
     },
     "execution_count": 99,
     "metadata": {},
     "output_type": "execute_result"
    }
   ],
   "source": [
    "df.head()"
   ]
  },
  {
   "cell_type": "code",
   "execution_count": 100,
   "metadata": {},
   "outputs": [
    {
     "name": "stdout",
     "output_type": "stream",
     "text": [
      "<class 'pandas.core.frame.DataFrame'>\n",
      "RangeIndex: 7342 entries, 0 to 7341\n",
      "Data columns (total 14 columns):\n",
      " #   Column          Non-Null Count  Dtype  \n",
      "---  ------          --------------  -----  \n",
      " 0   id              7342 non-null   object \n",
      " 1   likes           6863 non-null   float64\n",
      " 2   following       6980 non-null   float64\n",
      " 3   followers       6980 non-null   float64\n",
      " 4   posts_amount    6980 non-null   float64\n",
      " 5   celeb           7342 non-null   int64  \n",
      " 6   pic_vid         7342 non-null   int64  \n",
      " 7   hashtag         5963 non-null   object \n",
      " 8   hashtag_amount  7342 non-null   int64  \n",
      " 9   pCo             6924 non-null   object \n",
      " 10  content         7326 non-null   object \n",
      " 11  post_date       7340 non-null   object \n",
      " 12  curr_date       7342 non-null   object \n",
      " 13  predict         6523 non-null   float64\n",
      "dtypes: float64(5), int64(3), object(6)\n",
      "memory usage: 803.2+ KB\n"
     ]
    }
   ],
   "source": [
    "df.info()"
   ]
  },
  {
   "cell_type": "code",
   "execution_count": 101,
   "metadata": {},
   "outputs": [
    {
     "data": {
      "text/plain": [
       "array([[<AxesSubplot:title={'center':'likes'}>,\n",
       "        <AxesSubplot:title={'center':'following'}>,\n",
       "        <AxesSubplot:title={'center':'followers'}>],\n",
       "       [<AxesSubplot:title={'center':'posts_amount'}>,\n",
       "        <AxesSubplot:title={'center':'celeb'}>,\n",
       "        <AxesSubplot:title={'center':'pic_vid'}>],\n",
       "       [<AxesSubplot:title={'center':'hashtag_amount'}>,\n",
       "        <AxesSubplot:title={'center':'predict'}>, <AxesSubplot:>]],\n",
       "      dtype=object)"
      ]
     },
     "execution_count": 101,
     "metadata": {},
     "output_type": "execute_result"
    },
    {
     "data": {
      "image/png": "[encoded data removed]",
      "text/plain": [
       "<Figure size 432x288 with 9 Axes>"
      ]
     },
     "metadata": {
      "needs_background": "light"
     },
     "output_type": "display_data"
    }
   ],
   "source": [
    "df.hist()"
   ]
  },
  {
   "cell_type": "code",
   "execution_count": 102,
   "metadata": {},
   "outputs": [
    {
     "data": {
      "text/plain": [
       "<AxesSubplot:>"
      ]
     },
     "execution_count": 102,
     "metadata": {},
     "output_type": "execute_result"
    },
    {
     "data": {
      "image/png": "[encoded data removed]",
      "text/plain": [
       "<Figure size 432x288 with 1 Axes>"
      ]
     },
     "metadata": {
      "needs_background": "light"
     },
     "output_type": "display_data"
    }
   ],
   "source": [
    "df['predict'].value_counts().plot(kind='bar', color=['blue', 'green'])"
   ]
  },
  {
   "cell_type": "code",
   "execution_count": 103,
   "metadata": {},
   "outputs": [
    {
     "data": {
      "text/plain": [
       "(7342, 14)"
      ]
     },
     "execution_count": 103,
     "metadata": {},
     "output_type": "execute_result"
    }
   ],
   "source": [
    "df.shape"
   ]
  },
  {
   "cell_type": "code",
   "execution_count": 104,
   "metadata": {},
   "outputs": [
    {
     "data": {
      "text/html": [
       "<div>\n",
       "<style scoped>\n",
       "    .dataframe tbody tr th:only-of-type {\n",
       "        vertical-align: middle;\n",
       "    }\n",
       "\n",
       "    .dataframe tbody tr th {\n",
       "        vertical-align: top;\n",
       "    }\n",
       "\n",
       "    .dataframe thead th {\n",
       "        text-align: right;\n",
       "    }\n",
       "</style>\n",
       "<table border=\"1\" class=\"dataframe\">\n",
       "  <thead>\n",
       "    <tr style=\"text-align: right;\">\n",
       "      <th></th>\n",
       "      <th>likes</th>\n",
       "      <th>following</th>\n",
       "      <th>followers</th>\n",
       "      <th>posts_amount</th>\n",
       "      <th>celeb</th>\n",
       "      <th>pic_vid</th>\n",
       "      <th>hashtag_amount</th>\n",
       "      <th>predict</th>\n",
       "    </tr>\n",
       "  </thead>\n",
       "  <tbody>\n",
       "    <tr>\n",
       "      <th>likes</th>\n",
       "      <td>1.000000</td>\n",
       "      <td>0.001672</td>\n",
       "      <td>0.526538</td>\n",
       "      <td>0.008988</td>\n",
       "      <td>0.069112</td>\n",
       "      <td>0.021585</td>\n",
       "      <td>-0.019700</td>\n",
       "      <td>0.070163</td>\n",
       "    </tr>\n",
       "    <tr>\n",
       "      <th>following</th>\n",
       "      <td>0.001672</td>\n",
       "      <td>1.000000</td>\n",
       "      <td>-0.063522</td>\n",
       "      <td>0.069225</td>\n",
       "      <td>-0.024452</td>\n",
       "      <td>-0.082334</td>\n",
       "      <td>0.075980</td>\n",
       "      <td>-0.066072</td>\n",
       "    </tr>\n",
       "    <tr>\n",
       "      <th>followers</th>\n",
       "      <td>0.526538</td>\n",
       "      <td>-0.063522</td>\n",
       "      <td>1.000000</td>\n",
       "      <td>0.319790</td>\n",
       "      <td>0.287803</td>\n",
       "      <td>0.092441</td>\n",
       "      <td>-0.084035</td>\n",
       "      <td>-0.054100</td>\n",
       "    </tr>\n",
       "    <tr>\n",
       "      <th>posts_amount</th>\n",
       "      <td>0.008988</td>\n",
       "      <td>0.069225</td>\n",
       "      <td>0.319790</td>\n",
       "      <td>1.000000</td>\n",
       "      <td>0.168610</td>\n",
       "      <td>0.028316</td>\n",
       "      <td>-0.023277</td>\n",
       "      <td>-0.118411</td>\n",
       "    </tr>\n",
       "    <tr>\n",
       "      <th>celeb</th>\n",
       "      <td>0.069112</td>\n",
       "      <td>-0.024452</td>\n",
       "      <td>0.287803</td>\n",
       "      <td>0.168610</td>\n",
       "      <td>1.000000</td>\n",
       "      <td>-0.002266</td>\n",
       "      <td>-0.175045</td>\n",
       "      <td>-0.024641</td>\n",
       "    </tr>\n",
       "    <tr>\n",
       "      <th>pic_vid</th>\n",
       "      <td>0.021585</td>\n",
       "      <td>-0.082334</td>\n",
       "      <td>0.092441</td>\n",
       "      <td>0.028316</td>\n",
       "      <td>-0.002266</td>\n",
       "      <td>1.000000</td>\n",
       "      <td>0.021041</td>\n",
       "      <td>0.171019</td>\n",
       "    </tr>\n",
       "    <tr>\n",
       "      <th>hashtag_amount</th>\n",
       "      <td>-0.019700</td>\n",
       "      <td>0.075980</td>\n",
       "      <td>-0.084035</td>\n",
       "      <td>-0.023277</td>\n",
       "      <td>-0.175045</td>\n",
       "      <td>0.021041</td>\n",
       "      <td>1.000000</td>\n",
       "      <td>-0.065574</td>\n",
       "    </tr>\n",
       "    <tr>\n",
       "      <th>predict</th>\n",
       "      <td>0.070163</td>\n",
       "      <td>-0.066072</td>\n",
       "      <td>-0.054100</td>\n",
       "      <td>-0.118411</td>\n",
       "      <td>-0.024641</td>\n",
       "      <td>0.171019</td>\n",
       "      <td>-0.065574</td>\n",
       "      <td>1.000000</td>\n",
       "    </tr>\n",
       "  </tbody>\n",
       "</table>\n",
       "</div>"
      ],
      "text/plain": [
       "                   likes  following  followers  posts_amount     celeb  \\\n",
       "likes           1.000000   0.001672   0.526538      0.008988  0.069112   \n",
       "following       0.001672   1.000000  -0.063522      0.069225 -0.024452   \n",
       "followers       0.526538  -0.063522   1.000000      0.319790  0.287803   \n",
       "posts_amount    0.008988   0.069225   0.319790      1.000000  0.168610   \n",
       "celeb           0.069112  -0.024452   0.287803      0.168610  1.000000   \n",
       "pic_vid         0.021585  -0.082334   0.092441      0.028316 -0.002266   \n",
       "hashtag_amount -0.019700   0.075980  -0.084035     -0.023277 -0.175045   \n",
       "predict         0.070163  -0.066072  -0.054100     -0.118411 -0.024641   \n",
       "\n",
       "                 pic_vid  hashtag_amount   predict  \n",
       "likes           0.021585       -0.019700  0.070163  \n",
       "following      -0.082334        0.075980 -0.066072  \n",
       "followers       0.092441       -0.084035 -0.054100  \n",
       "posts_amount    0.028316       -0.023277 -0.118411  \n",
       "celeb          -0.002266       -0.175045 -0.024641  \n",
       "pic_vid         1.000000        0.021041  0.171019  \n",
       "hashtag_amount  0.021041        1.000000 -0.065574  \n",
       "predict         0.171019       -0.065574  1.000000  "
      ]
     },
     "execution_count": 104,
     "metadata": {},
     "output_type": "execute_result"
    }
   ],
   "source": [
    "df.corr()"
   ]
  },
  {
   "cell_type": "code",
   "execution_count": 105,
   "metadata": {},
   "outputs": [
    {
     "data": {
      "text/plain": [
       "array([[<AxesSubplot:xlabel='likes', ylabel='likes'>,\n",
       "        <AxesSubplot:xlabel='following', ylabel='likes'>,\n",
       "        <AxesSubplot:xlabel='followers', ylabel='likes'>,\n",
       "        <AxesSubplot:xlabel='posts_amount', ylabel='likes'>,\n",
       "        <AxesSubplot:xlabel='celeb', ylabel='likes'>,\n",
       "        <AxesSubplot:xlabel='pic_vid', ylabel='likes'>,\n",
       "        <AxesSubplot:xlabel='hashtag_amount', ylabel='likes'>,\n",
       "        <AxesSubplot:xlabel='predict', ylabel='likes'>],\n",
       "       [<AxesSubplot:xlabel='likes', ylabel='following'>,\n",
       "        <AxesSubplot:xlabel='following', ylabel='following'>,\n",
       "        <AxesSubplot:xlabel='followers', ylabel='following'>,\n",
       "        <AxesSubplot:xlabel='posts_amount', ylabel='following'>,\n",
       "        <AxesSubplot:xlabel='celeb', ylabel='following'>,\n",
       "        <AxesSubplot:xlabel='pic_vid', ylabel='following'>,\n",
       "        <AxesSubplot:xlabel='hashtag_amount', ylabel='following'>,\n",
       "        <AxesSubplot:xlabel='predict', ylabel='following'>],\n",
       "       [<AxesSubplot:xlabel='likes', ylabel='followers'>,\n",
       "        <AxesSubplot:xlabel='following', ylabel='followers'>,\n",
       "        <AxesSubplot:xlabel='followers', ylabel='followers'>,\n",
       "        <AxesSubplot:xlabel='posts_amount', ylabel='followers'>,\n",
       "        <AxesSubplot:xlabel='celeb', ylabel='followers'>,\n",
       "        <AxesSubplot:xlabel='pic_vid', ylabel='followers'>,\n",
       "        <AxesSubplot:xlabel='hashtag_amount', ylabel='followers'>,\n",
       "        <AxesSubplot:xlabel='predict', ylabel='followers'>],\n",
       "       [<AxesSubplot:xlabel='likes', ylabel='posts_amount'>,\n",
       "        <AxesSubplot:xlabel='following', ylabel='posts_amount'>,\n",
       "        <AxesSubplot:xlabel='followers', ylabel='posts_amount'>,\n",
       "        <AxesSubplot:xlabel='posts_amount', ylabel='posts_amount'>,\n",
       "        <AxesSubplot:xlabel='celeb', ylabel='posts_amount'>,\n",
       "        <AxesSubplot:xlabel='pic_vid', ylabel='posts_amount'>,\n",
       "        <AxesSubplot:xlabel='hashtag_amount', ylabel='posts_amount'>,\n",
       "        <AxesSubplot:xlabel='predict', ylabel='posts_amount'>],\n",
       "       [<AxesSubplot:xlabel='likes', ylabel='celeb'>,\n",
       "        <AxesSubplot:xlabel='following', ylabel='celeb'>,\n",
       "        <AxesSubplot:xlabel='followers', ylabel='celeb'>,\n",
       "        <AxesSubplot:xlabel='posts_amount', ylabel='celeb'>,\n",
       "        <AxesSubplot:xlabel='celeb', ylabel='celeb'>,\n",
       "        <AxesSubplot:xlabel='pic_vid', ylabel='celeb'>,\n",
       "        <AxesSubplot:xlabel='hashtag_amount', ylabel='celeb'>,\n",
       "        <AxesSubplot:xlabel='predict', ylabel='celeb'>],\n",
       "       [<AxesSubplot:xlabel='likes', ylabel='pic_vid'>,\n",
       "        <AxesSubplot:xlabel='following', ylabel='pic_vid'>,\n",
       "        <AxesSubplot:xlabel='followers', ylabel='pic_vid'>,\n",
       "        <AxesSubplot:xlabel='posts_amount', ylabel='pic_vid'>,\n",
       "        <AxesSubplot:xlabel='celeb', ylabel='pic_vid'>,\n",
       "        <AxesSubplot:xlabel='pic_vid', ylabel='pic_vid'>,\n",
       "        <AxesSubplot:xlabel='hashtag_amount', ylabel='pic_vid'>,\n",
       "        <AxesSubplot:xlabel='predict', ylabel='pic_vid'>],\n",
       "       [<AxesSubplot:xlabel='likes', ylabel='hashtag_amount'>,\n",
       "        <AxesSubplot:xlabel='following', ylabel='hashtag_amount'>,\n",
       "        <AxesSubplot:xlabel='followers', ylabel='hashtag_amount'>,\n",
       "        <AxesSubplot:xlabel='posts_amount', ylabel='hashtag_amount'>,\n",
       "        <AxesSubplot:xlabel='celeb', ylabel='hashtag_amount'>,\n",
       "        <AxesSubplot:xlabel='pic_vid', ylabel='hashtag_amount'>,\n",
       "        <AxesSubplot:xlabel='hashtag_amount', ylabel='hashtag_amount'>,\n",
       "        <AxesSubplot:xlabel='predict', ylabel='hashtag_amount'>],\n",
       "       [<AxesSubplot:xlabel='likes', ylabel='predict'>,\n",
       "        <AxesSubplot:xlabel='following', ylabel='predict'>,\n",
       "        <AxesSubplot:xlabel='followers', ylabel='predict'>,\n",
       "        <AxesSubplot:xlabel='posts_amount', ylabel='predict'>,\n",
       "        <AxesSubplot:xlabel='celeb', ylabel='predict'>,\n",
       "        <AxesSubplot:xlabel='pic_vid', ylabel='predict'>,\n",
       "        <AxesSubplot:xlabel='hashtag_amount', ylabel='predict'>,\n",
       "        <AxesSubplot:xlabel='predict', ylabel='predict'>]], dtype=object)"
      ]
     },
     "execution_count": 105,
     "metadata": {},
     "output_type": "execute_result"
    },
    {
     "data": {
      "image/png": "[encoded data removed]",
      "text/plain": [
       "<Figure size 432x288 with 64 Axes>"
      ]
     },
     "metadata": {
      "needs_background": "light"
     },
     "output_type": "display_data"
    }
   ],
   "source": [
    "pd.plotting.scatter_matrix(df)"
   ]
  },
  {
   "cell_type": "markdown",
   "metadata": {},
   "source": [
    "Dropping duplicates posts by ID:"
   ]
  },
  {
   "cell_type": "code",
   "execution_count": 106,
   "metadata": {},
   "outputs": [],
   "source": [
    "df.drop_duplicates(\"id\",keep='last', inplace=True)"
   ]
  },
  {
   "cell_type": "code",
   "execution_count": 107,
   "metadata": {},
   "outputs": [
    {
     "data": {
      "text/plain": [
       "(6654, 14)"
      ]
     },
     "execution_count": 107,
     "metadata": {},
     "output_type": "execute_result"
    }
   ],
   "source": [
    "df.shape"
   ]
  },
  {
   "cell_type": "markdown",
   "metadata": {},
   "source": [
    "Dropping rows with NaN values:"
   ]
  },
  {
   "cell_type": "code",
   "execution_count": 108,
   "metadata": {},
   "outputs": [],
   "source": [
    "df.dropna(inplace=True)"
   ]
  },
  {
   "cell_type": "code",
   "execution_count": 109,
   "metadata": {},
   "outputs": [
    {
     "data": {
      "text/plain": [
       "(4674, 14)"
      ]
     },
     "execution_count": 109,
     "metadata": {},
     "output_type": "execute_result"
    }
   ],
   "source": [
    "df.shape"
   ]
  },
  {
   "cell_type": "code",
   "execution_count": 110,
   "metadata": {},
   "outputs": [
    {
     "name": "stdout",
     "output_type": "stream",
     "text": [
      "<class 'pandas.core.frame.DataFrame'>\n",
      "Int64Index: 4674 entries, 0 to 7341\n",
      "Data columns (total 14 columns):\n",
      " #   Column          Non-Null Count  Dtype  \n",
      "---  ------          --------------  -----  \n",
      " 0   id              4674 non-null   object \n",
      " 1   likes           4674 non-null   float64\n",
      " 2   following       4674 non-null   float64\n",
      " 3   followers       4674 non-null   float64\n",
      " 4   posts_amount    4674 non-null   float64\n",
      " 5   celeb           4674 non-null   int64  \n",
      " 6   pic_vid         4674 non-null   int64  \n",
      " 7   hashtag         4674 non-null   object \n",
      " 8   hashtag_amount  4674 non-null   int64  \n",
      " 9   pCo             4674 non-null   object \n",
      " 10  content         4674 non-null   object \n",
      " 11  post_date       4674 non-null   object \n",
      " 12  curr_date       4674 non-null   object \n",
      " 13  predict         4674 non-null   float64\n",
      "dtypes: float64(5), int64(3), object(6)\n",
      "memory usage: 547.7+ KB\n"
     ]
    }
   ],
   "source": [
    "df.info()"
   ]
  },
  {
   "cell_type": "code",
   "execution_count": 111,
   "metadata": {},
   "outputs": [
    {
     "data": {
      "text/plain": [
       "(-2026.681, 202870.1]     0.995935\n",
       "(202870.1, 405738.2]      0.002781\n",
       "(405738.2, 608606.3]      0.000642\n",
       "(811474.4, 1014342.5]     0.000214\n",
       "(1622946.8, 1825814.9]    0.000214\n",
       "(1825814.9, 2028683.0]    0.000214\n",
       "(608606.3, 811474.4]      0.000000\n",
       "(1014342.5, 1217210.6]    0.000000\n",
       "(1217210.6, 1420078.7]    0.000000\n",
       "(1420078.7, 1622946.8]    0.000000\n",
       "Name: likes, dtype: float64"
      ]
     },
     "execution_count": 111,
     "metadata": {},
     "output_type": "execute_result"
    }
   ],
   "source": [
    "pd.cut(df[\"likes\"],bins=10).value_counts(normalize=True)"
   ]
  },
  {
   "cell_type": "code",
   "execution_count": 112,
   "metadata": {},
   "outputs": [
    {
     "data": {
      "text/plain": [
       "0.0    4177\n",
       "1.0     497\n",
       "Name: predict, dtype: int64"
      ]
     },
     "execution_count": 112,
     "metadata": {},
     "output_type": "execute_result"
    }
   ],
   "source": [
    "df['predict'].value_counts()"
   ]
  },
  {
   "cell_type": "code",
   "execution_count": 113,
   "metadata": {},
   "outputs": [
    {
     "data": {
      "text/plain": [
       "array(['אם את טסה בקרוב או שסתם באלך להתפנק במותג מהמם הנה כמה מוצרים שממש אהבתי lovers',\n",
       "       'הלםיהודה יצחקוב ואלמוג חדד שהכירו בבית האח הגדול והפכו לזוג נפרדומדובר בלא פחות מהפתעה אחרי שרק לאחרונה הם חסרו מחופשה ממיאמימה אתם חושבים עוד נראה קאמבק או אין סיכויחשיפה של ערן סויסה ',\n",
       "       'Comment Your Favorite Heart Emoji Letter by letter Follow Link in bio for OrderCredit Dm for Credit forever edit edits edit ',\n",
       "       ...,\n",
       "       'Freeway light trails in Perth life isok _shots _wa _shotz vibes ',\n",
       "       'Quiz is this a night elf or Void elf Art by Astri Lohn Visit the link in my Bio for Warcraft shirts tags art art addict classic cosplay cosplay ',\n",
       "       '515 West 22nd Street in LANTERN HOUSE By b koncepts b travel Comments and support by sharing are always welcome gram photography destinations exodus new york '],\n",
       "      dtype=object)"
      ]
     },
     "execution_count": 113,
     "metadata": {},
     "output_type": "execute_result"
    }
   ],
   "source": [
    "df['content'].unique()"
   ]
  },
  {
   "cell_type": "markdown",
   "metadata": {},
   "source": [
    "As we can see, we have a lot more unsuccessful posts then successful.\n",
    "\n",
    "so we will change the paramater of the prediction to be more related to the time of the post.\n",
    "\n",
    "we will run the code on each row and take the date to check how much times have passed from the publication to the crawling (w-weeks, d-days, h-hours, m-minutes).\n",
    "\n",
    "+ for w we will check for 0.3 likes/followers ratio\n",
    "+ for d we will check for 0.25 likes/followers ratio\n",
    "+ for h we will check for 0.2 likes/followers ratio\n",
    "+ for m we will check for 0.15 likes/followers ratio"
   ]
  },
  {
   "cell_type": "code",
   "execution_count": 114,
   "metadata": {},
   "outputs": [],
   "source": [
    "for index,row in df.iterrows():\n",
    "        if 'd' in row['content']:\n",
    "            if row['likes']/row['followers'] > 0.20:\n",
    "                df.at[index,'predict'] = 1\n",
    "\n",
    "        elif 'h' in row['content']:\n",
    "            if row['likes']/row['followers'] > 0.15:\n",
    "                df.at[index,'predict'] = 1\n",
    "\n",
    "        elif 'm' in row['content']:\n",
    "            if row['likes']/row['followers'] > 0.10:\n",
    "                df.at[index,'predict'] = 1\n"
   ]
  },
  {
   "cell_type": "code",
   "execution_count": 115,
   "metadata": {},
   "outputs": [
    {
     "data": {
      "text/plain": [
       "0.0    3908\n",
       "1.0     766\n",
       "Name: predict, dtype: int64"
      ]
     },
     "execution_count": 115,
     "metadata": {},
     "output_type": "execute_result"
    }
   ],
   "source": [
    "df['predict'].value_counts()"
   ]
  },
  {
   "cell_type": "markdown",
   "metadata": {},
   "source": [
    "As we can see above, we have got a better distribution of predics and more accurate for the long time."
   ]
  },
  {
   "cell_type": "code",
   "execution_count": 116,
   "metadata": {},
   "outputs": [
    {
     "data": {
      "text/plain": [
       "([<matplotlib.patches.Wedge at 0x17063429bd0>,\n",
       "  <matplotlib.patches.Wedge at 0x1706342b2e0>],\n",
       " [Text(-0.9573973805053244, 0.5416551077960433, 'No'),\n",
       "  Text(0.9573974312187313, -0.5416550181580291, 'Yes')],\n",
       " [Text(-0.5222167530029042, 0.2954482406160236, '83.6%'),\n",
       "  Text(0.5222167806647625, -0.2954481917225613, '16.4%')])"
      ]
     },
     "execution_count": 116,
     "metadata": {},
     "output_type": "execute_result"
    },
    {
     "data": {
      "image/png": "[encoded data removed]",
      "text/plain": [
       "<Figure size 432x288 with 1 Axes>"
      ]
     },
     "metadata": {},
     "output_type": "display_data"
    }
   ],
   "source": [
    "plt.pie(df['predict'].value_counts(), labels=['No', 'Yes'], autopct='%1.1f%%')"
   ]
  },
  {
   "cell_type": "markdown",
   "metadata": {},
   "source": [
    "As we can see, we have more \"No\" then \"Yes\". So what we should do is duplicate rows of \"Yes\" to balance the data. We need to do \"Up sampling\"\n",
    "\n",
    "As we can see above, we have got a better distribution of predics and more accurate for the long time."
   ]
  },
  {
   "cell_type": "markdown",
   "metadata": {},
   "source": [
    "We want to make all our data to be in the same language, so everything that is not english we be dropped:"
   ]
  },
  {
   "cell_type": "code",
   "execution_count": 117,
   "metadata": {},
   "outputs": [],
   "source": [
    "# check if text is in english if not, drop row\n",
    "for index,row in df.iterrows():\n",
    "        try:\n",
    "                if detect(row['content']) != 'en':\n",
    "                        df.drop(index, inplace=True)                \n",
    "        except:\n",
    "                pass"
   ]
  },
  {
   "cell_type": "code",
   "execution_count": 118,
   "metadata": {},
   "outputs": [
    {
     "data": {
      "text/plain": [
       "(2790, 14)"
      ]
     },
     "execution_count": 118,
     "metadata": {},
     "output_type": "execute_result"
    }
   ],
   "source": [
    "df.shape"
   ]
  },
  {
   "cell_type": "code",
   "execution_count": 119,
   "metadata": {},
   "outputs": [
    {
     "data": {
      "text/html": [
       "<div>\n",
       "<style scoped>\n",
       "    .dataframe tbody tr th:only-of-type {\n",
       "        vertical-align: middle;\n",
       "    }\n",
       "\n",
       "    .dataframe tbody tr th {\n",
       "        vertical-align: top;\n",
       "    }\n",
       "\n",
       "    .dataframe thead th {\n",
       "        text-align: right;\n",
       "    }\n",
       "</style>\n",
       "<table border=\"1\" class=\"dataframe\">\n",
       "  <thead>\n",
       "    <tr style=\"text-align: right;\">\n",
       "      <th></th>\n",
       "      <th>id</th>\n",
       "      <th>likes</th>\n",
       "      <th>following</th>\n",
       "      <th>followers</th>\n",
       "      <th>posts_amount</th>\n",
       "      <th>celeb</th>\n",
       "      <th>pic_vid</th>\n",
       "      <th>hashtag</th>\n",
       "      <th>hashtag_amount</th>\n",
       "      <th>pCo</th>\n",
       "      <th>content</th>\n",
       "      <th>post_date</th>\n",
       "      <th>curr_date</th>\n",
       "      <th>predict</th>\n",
       "    </tr>\n",
       "  </thead>\n",
       "  <tbody>\n",
       "    <tr>\n",
       "      <th>13</th>\n",
       "      <td>CeGcpDcNfCk</td>\n",
       "      <td>27418.0</td>\n",
       "      <td>70.0</td>\n",
       "      <td>53000.0</td>\n",
       "      <td>789.0</td>\n",
       "      <td>0</td>\n",
       "      <td>0</td>\n",
       "      <td>iansomerhalder damonsalvatore tvd thevampiredi...</td>\n",
       "      <td>30</td>\n",
       "      <td>person bride kiss wedding dress love female pe...</td>\n",
       "      <td>Comment Your Favorite Heart Emoji Letter by le...</td>\n",
       "      <td>1w</td>\n",
       "      <td>05/06/2022</td>\n",
       "      <td>1.0</td>\n",
       "    </tr>\n",
       "    <tr>\n",
       "      <th>19</th>\n",
       "      <td>Ceb37QdvpTh</td>\n",
       "      <td>252.0</td>\n",
       "      <td>1018.0</td>\n",
       "      <td>263000.0</td>\n",
       "      <td>11950.0</td>\n",
       "      <td>0</td>\n",
       "      <td>0</td>\n",
       "      <td>BlackBrides BlackWoman BlackQueens Melanina Bl...</td>\n",
       "      <td>22</td>\n",
       "      <td>text bride person wedding dress clothing femal...</td>\n",
       "      <td></td>\n",
       "      <td>39m</td>\n",
       "      <td>05/06/2022</td>\n",
       "      <td>0.0</td>\n",
       "    </tr>\n",
       "    <tr>\n",
       "      <th>22</th>\n",
       "      <td>Ceb5Q_OMFEp</td>\n",
       "      <td>144.0</td>\n",
       "      <td>569.0</td>\n",
       "      <td>23100.0</td>\n",
       "      <td>672.0</td>\n",
       "      <td>0</td>\n",
       "      <td>0</td>\n",
       "      <td>sunset sunrise sunsets sunsetlovers sunsetpics...</td>\n",
       "      <td>30</td>\n",
       "      <td>animal aquatic bird bird outdoor sea gull wate...</td>\n",
       "      <td>s lovers pics _vision photography porn lover ...</td>\n",
       "      <td>30m</td>\n",
       "      <td>05/06/2022</td>\n",
       "      <td>0.0</td>\n",
       "    </tr>\n",
       "    <tr>\n",
       "      <th>28</th>\n",
       "      <td>Ceb5bAghP8k</td>\n",
       "      <td>310.0</td>\n",
       "      <td>496.0</td>\n",
       "      <td>33100.0</td>\n",
       "      <td>269.0</td>\n",
       "      <td>0</td>\n",
       "      <td>0</td>\n",
       "      <td>love lifequotes live fashion travel style blog...</td>\n",
       "      <td>13</td>\n",
       "      <td>person fashion accessory clothing handbag woma...</td>\n",
       "      <td>Enjoy life there s plenty of time to be dead</td>\n",
       "      <td>36m</td>\n",
       "      <td>05/06/2022</td>\n",
       "      <td>0.0</td>\n",
       "    </tr>\n",
       "    <tr>\n",
       "      <th>30</th>\n",
       "      <td>Ceb3FyBoWkx</td>\n",
       "      <td>180.0</td>\n",
       "      <td>1608.0</td>\n",
       "      <td>5798.0</td>\n",
       "      <td>561.0</td>\n",
       "      <td>0</td>\n",
       "      <td>0</td>\n",
       "      <td>mirror_of_our_souls moody_captures artistry_fl...</td>\n",
       "      <td>31</td>\n",
       "      <td>black and white still life photography vase fl...</td>\n",
       "      <td>My slightly different lookingranunculus</td>\n",
       "      <td>58m</td>\n",
       "      <td>05/06/2022</td>\n",
       "      <td>0.0</td>\n",
       "    </tr>\n",
       "  </tbody>\n",
       "</table>\n",
       "</div>"
      ],
      "text/plain": [
       "             id    likes  following  followers  posts_amount  celeb  pic_vid  \\\n",
       "13  CeGcpDcNfCk  27418.0       70.0    53000.0         789.0      0        0   \n",
       "19  Ceb37QdvpTh    252.0     1018.0   263000.0       11950.0      0        0   \n",
       "22  Ceb5Q_OMFEp    144.0      569.0    23100.0         672.0      0        0   \n",
       "28  Ceb5bAghP8k    310.0      496.0    33100.0         269.0      0        0   \n",
       "30  Ceb3FyBoWkx    180.0     1608.0     5798.0         561.0      0        0   \n",
       "\n",
       "                                              hashtag  hashtag_amount  \\\n",
       "13  iansomerhalder damonsalvatore tvd thevampiredi...              30   \n",
       "19  BlackBrides BlackWoman BlackQueens Melanina Bl...              22   \n",
       "22  sunset sunrise sunsets sunsetlovers sunsetpics...              30   \n",
       "28  love lifequotes live fashion travel style blog...              13   \n",
       "30  mirror_of_our_souls moody_captures artistry_fl...              31   \n",
       "\n",
       "                                                  pCo  \\\n",
       "13  person bride kiss wedding dress love female pe...   \n",
       "19  text bride person wedding dress clothing femal...   \n",
       "22  animal aquatic bird bird outdoor sea gull wate...   \n",
       "28  person fashion accessory clothing handbag woma...   \n",
       "30  black and white still life photography vase fl...   \n",
       "\n",
       "                                              content post_date   curr_date  \\\n",
       "13  Comment Your Favorite Heart Emoji Letter by le...        1w  05/06/2022   \n",
       "19                                                          39m  05/06/2022   \n",
       "22   s lovers pics _vision photography porn lover ...       30m  05/06/2022   \n",
       "28      Enjoy life there s plenty of time to be dead        36m  05/06/2022   \n",
       "30           My slightly different lookingranunculus        58m  05/06/2022   \n",
       "\n",
       "    predict  \n",
       "13      1.0  \n",
       "19      0.0  \n",
       "22      0.0  \n",
       "28      0.0  \n",
       "30      0.0  "
      ]
     },
     "execution_count": 119,
     "metadata": {},
     "output_type": "execute_result"
    }
   ],
   "source": [
    "df.head()"
   ]
  },
  {
   "cell_type": "code",
   "execution_count": 120,
   "metadata": {},
   "outputs": [
    {
     "data": {
      "text/plain": [
       "0.0    2300\n",
       "1.0     490\n",
       "Name: predict, dtype: int64"
      ]
     },
     "execution_count": 120,
     "metadata": {},
     "output_type": "execute_result"
    }
   ],
   "source": [
    "df['predict'].value_counts()"
   ]
  },
  {
   "cell_type": "code",
   "execution_count": 121,
   "metadata": {},
   "outputs": [
    {
     "data": {
      "text/html": [
       "<div>\n",
       "<style scoped>\n",
       "    .dataframe tbody tr th:only-of-type {\n",
       "        vertical-align: middle;\n",
       "    }\n",
       "\n",
       "    .dataframe tbody tr th {\n",
       "        vertical-align: top;\n",
       "    }\n",
       "\n",
       "    .dataframe thead th {\n",
       "        text-align: right;\n",
       "    }\n",
       "</style>\n",
       "<table border=\"1\" class=\"dataframe\">\n",
       "  <thead>\n",
       "    <tr style=\"text-align: right;\">\n",
       "      <th></th>\n",
       "      <th>likes</th>\n",
       "      <th>following</th>\n",
       "      <th>followers</th>\n",
       "      <th>posts_amount</th>\n",
       "      <th>celeb</th>\n",
       "      <th>pic_vid</th>\n",
       "      <th>hashtag_amount</th>\n",
       "      <th>predict</th>\n",
       "    </tr>\n",
       "  </thead>\n",
       "  <tbody>\n",
       "    <tr>\n",
       "      <th>likes</th>\n",
       "      <td>1.000000</td>\n",
       "      <td>-0.026639</td>\n",
       "      <td>0.069927</td>\n",
       "      <td>-0.010020</td>\n",
       "      <td>0.010991</td>\n",
       "      <td>0.176436</td>\n",
       "      <td>-0.018390</td>\n",
       "      <td>0.177541</td>\n",
       "    </tr>\n",
       "    <tr>\n",
       "      <th>following</th>\n",
       "      <td>-0.026639</td>\n",
       "      <td>1.000000</td>\n",
       "      <td>-0.098604</td>\n",
       "      <td>0.057295</td>\n",
       "      <td>-0.019957</td>\n",
       "      <td>-0.087925</td>\n",
       "      <td>0.045605</td>\n",
       "      <td>-0.093853</td>\n",
       "    </tr>\n",
       "    <tr>\n",
       "      <th>followers</th>\n",
       "      <td>0.069927</td>\n",
       "      <td>-0.098604</td>\n",
       "      <td>1.000000</td>\n",
       "      <td>0.359488</td>\n",
       "      <td>0.287320</td>\n",
       "      <td>0.142477</td>\n",
       "      <td>-0.121229</td>\n",
       "      <td>-0.102275</td>\n",
       "    </tr>\n",
       "    <tr>\n",
       "      <th>posts_amount</th>\n",
       "      <td>-0.010020</td>\n",
       "      <td>0.057295</td>\n",
       "      <td>0.359488</td>\n",
       "      <td>1.000000</td>\n",
       "      <td>0.205638</td>\n",
       "      <td>0.032928</td>\n",
       "      <td>-0.081503</td>\n",
       "      <td>-0.124984</td>\n",
       "    </tr>\n",
       "    <tr>\n",
       "      <th>celeb</th>\n",
       "      <td>0.010991</td>\n",
       "      <td>-0.019957</td>\n",
       "      <td>0.287320</td>\n",
       "      <td>0.205638</td>\n",
       "      <td>1.000000</td>\n",
       "      <td>0.029341</td>\n",
       "      <td>-0.168667</td>\n",
       "      <td>-0.045419</td>\n",
       "    </tr>\n",
       "    <tr>\n",
       "      <th>pic_vid</th>\n",
       "      <td>0.176436</td>\n",
       "      <td>-0.087925</td>\n",
       "      <td>0.142477</td>\n",
       "      <td>0.032928</td>\n",
       "      <td>0.029341</td>\n",
       "      <td>1.000000</td>\n",
       "      <td>-0.033544</td>\n",
       "      <td>0.272961</td>\n",
       "    </tr>\n",
       "    <tr>\n",
       "      <th>hashtag_amount</th>\n",
       "      <td>-0.018390</td>\n",
       "      <td>0.045605</td>\n",
       "      <td>-0.121229</td>\n",
       "      <td>-0.081503</td>\n",
       "      <td>-0.168667</td>\n",
       "      <td>-0.033544</td>\n",
       "      <td>1.000000</td>\n",
       "      <td>0.009667</td>\n",
       "    </tr>\n",
       "    <tr>\n",
       "      <th>predict</th>\n",
       "      <td>0.177541</td>\n",
       "      <td>-0.093853</td>\n",
       "      <td>-0.102275</td>\n",
       "      <td>-0.124984</td>\n",
       "      <td>-0.045419</td>\n",
       "      <td>0.272961</td>\n",
       "      <td>0.009667</td>\n",
       "      <td>1.000000</td>\n",
       "    </tr>\n",
       "  </tbody>\n",
       "</table>\n",
       "</div>"
      ],
      "text/plain": [
       "                   likes  following  followers  posts_amount     celeb  \\\n",
       "likes           1.000000  -0.026639   0.069927     -0.010020  0.010991   \n",
       "following      -0.026639   1.000000  -0.098604      0.057295 -0.019957   \n",
       "followers       0.069927  -0.098604   1.000000      0.359488  0.287320   \n",
       "posts_amount   -0.010020   0.057295   0.359488      1.000000  0.205638   \n",
       "celeb           0.010991  -0.019957   0.287320      0.205638  1.000000   \n",
       "pic_vid         0.176436  -0.087925   0.142477      0.032928  0.029341   \n",
       "hashtag_amount -0.018390   0.045605  -0.121229     -0.081503 -0.168667   \n",
       "predict         0.177541  -0.093853  -0.102275     -0.124984 -0.045419   \n",
       "\n",
       "                 pic_vid  hashtag_amount   predict  \n",
       "likes           0.176436       -0.018390  0.177541  \n",
       "following      -0.087925        0.045605 -0.093853  \n",
       "followers       0.142477       -0.121229 -0.102275  \n",
       "posts_amount    0.032928       -0.081503 -0.124984  \n",
       "celeb           0.029341       -0.168667 -0.045419  \n",
       "pic_vid         1.000000       -0.033544  0.272961  \n",
       "hashtag_amount -0.033544        1.000000  0.009667  \n",
       "predict         0.272961        0.009667  1.000000  "
      ]
     },
     "execution_count": 121,
     "metadata": {},
     "output_type": "execute_result"
    }
   ],
   "source": [
    "df.corr()"
   ]
  },
  {
   "cell_type": "markdown",
   "metadata": {},
   "source": [
    "We need to remove signs from the hashtags and count the number of the common words"
   ]
  },
  {
   "cell_type": "code",
   "execution_count": 122,
   "metadata": {},
   "outputs": [],
   "source": [
    "for index,row in df.iterrows():\n",
    "        text = row['hashtag']\n",
    "        if '#' in text:\n",
    "                clean_text = text.replace('#', ' ')\n",
    "                df.at[index,'hashtag'] = clean_text"
   ]
  },
  {
   "cell_type": "code",
   "execution_count": 123,
   "metadata": {},
   "outputs": [],
   "source": [
    "correlations = []\n",
    "for i in range(1,df.corr().values.shape[0]):\n",
    "    for j in range(1,df.corr().values.shape[1]):\n",
    "        if i < j and df.corr().values[i][j] >= 0.3:\n",
    "            correlations.append(df.corr().values[i][j])\n",
    "tuple_arr = []\n",
    "for i in range(1,df.corr().values.shape[0]):\n",
    "    for j in range(1,df.corr().values.shape[1]):\n",
    "        if i < j and df.corr().values[i][j] >= 0.3:\n",
    "            tuple_arr.append((i,j))"
   ]
  },
  {
   "cell_type": "code",
   "execution_count": 124,
   "metadata": {},
   "outputs": [
    {
     "name": "stdout",
     "output_type": "stream",
     "text": [
      "[0.3594876264568019]\n",
      "[(2, 3)]\n"
     ]
    }
   ],
   "source": [
    "print(correlations)\n",
    "print(tuple_arr)"
   ]
  },
  {
   "cell_type": "code",
   "execution_count": 125,
   "metadata": {},
   "outputs": [
    {
     "name": "stdout",
     "output_type": "stream",
     "text": [
      "corr('followers', 'posts_amount')=0.36\n"
     ]
    }
   ],
   "source": [
    "cols_for_correlations = ['likes', 'following', 'followers', 'posts_amount', 'celeb', 'pic_vid', 'hashtag_amount']\n",
    "indx_sort = np.argsort(correlations)\n",
    "for n_correlation in indx_sort:\n",
    "    col_lt, col_rt = tuple_arr[n_correlation]\n",
    "    col_name_lt, col_name_rt = cols_for_correlations[col_lt], cols_for_correlations[col_rt]\n",
    "    title = \"corr('%s', '%s')=%4.2f\" %(col_name_lt, col_name_rt, correlations[n_correlation]) \n",
    "    print(title)"
   ]
  },
  {
   "cell_type": "markdown",
   "metadata": {},
   "source": [
    "אין לנו קורולציה גבוהה בין העמודות (שזה דבר טוב) שזה מעיד על אי תלות בין העמודות"
   ]
  },
  {
   "cell_type": "code",
   "execution_count": 126,
   "metadata": {},
   "outputs": [
    {
     "data": {
      "text/plain": [
       "Text(0, 0.5, 'likes')"
      ]
     },
     "execution_count": 126,
     "metadata": {},
     "output_type": "execute_result"
    },
    {
     "data": {
      "image/png": "[encoded data removed]",
      "text/plain": [
       "<Figure size 432x288 with 1 Axes>"
      ]
     },
     "metadata": {
      "needs_background": "light"
     },
     "output_type": "display_data"
    }
   ],
   "source": [
    "plt.scatter(df['likes'],df['followers'])\n",
    "plt.xlabel(\"followers\")\n",
    "plt.ylabel(\"likes\")"
   ]
  },
  {
   "cell_type": "code",
   "execution_count": 127,
   "metadata": {},
   "outputs": [
    {
     "data": {
      "text/plain": [
       "<BarContainer object of 2790 artists>"
      ]
     },
     "execution_count": 127,
     "metadata": {},
     "output_type": "execute_result"
    },
    {
     "data": {
      "image/png": "[encoded data removed]",
      "text/plain": [
       "<Figure size 432x288 with 1 Axes>"
      ]
     },
     "metadata": {
      "needs_background": "light"
     },
     "output_type": "display_data"
    }
   ],
   "source": [
    "plt.bar(df['likes'],df['followers'])"
   ]
  },
  {
   "cell_type": "code",
   "execution_count": 128,
   "metadata": {},
   "outputs": [
    {
     "name": "stderr",
     "output_type": "stream",
     "text": [
      "c:\\Python310\\lib\\site-packages\\seaborn\\_decorators.py:36: FutureWarning: Pass the following variable as a keyword arg: x. From version 0.12, the only valid positional argument will be `data`, and passing other arguments without an explicit keyword will result in an error or misinterpretation.\n",
      "  warnings.warn(\n"
     ]
    },
    {
     "data": {
      "text/plain": [
       "<AxesSubplot:xlabel='followers'>"
      ]
     },
     "execution_count": 128,
     "metadata": {},
     "output_type": "execute_result"
    },
    {
     "data": {
      "image/png": "[encoded data removed]",
      "text/plain": [
       "<Figure size 432x288 with 1 Axes>"
      ]
     },
     "metadata": {
      "needs_background": "light"
     },
     "output_type": "display_data"
    }
   ],
   "source": [
    "sns.boxplot(df['followers'],whis=3)"
   ]
  },
  {
   "cell_type": "code",
   "execution_count": 129,
   "metadata": {},
   "outputs": [
    {
     "name": "stderr",
     "output_type": "stream",
     "text": [
      "c:\\Python310\\lib\\site-packages\\seaborn\\_decorators.py:36: FutureWarning: Pass the following variable as a keyword arg: x. From version 0.12, the only valid positional argument will be `data`, and passing other arguments without an explicit keyword will result in an error or misinterpretation.\n",
      "  warnings.warn(\n"
     ]
    },
    {
     "data": {
      "text/plain": [
       "<AxesSubplot:xlabel='likes'>"
      ]
     },
     "execution_count": 129,
     "metadata": {},
     "output_type": "execute_result"
    },
    {
     "data": {
      "image/png": "[encoded data removed]",
      "text/plain": [
       "<Figure size 432x288 with 1 Axes>"
      ]
     },
     "metadata": {
      "needs_background": "light"
     },
     "output_type": "display_data"
    }
   ],
   "source": [
    "sns.boxplot(df['likes'])"
   ]
  },
  {
   "cell_type": "code",
   "execution_count": 130,
   "metadata": {},
   "outputs": [
    {
     "name": "stderr",
     "output_type": "stream",
     "text": [
      "c:\\Python310\\lib\\site-packages\\seaborn\\_decorators.py:36: FutureWarning: Pass the following variables as keyword args: x, y. From version 0.12, the only valid positional argument will be `data`, and passing other arguments without an explicit keyword will result in an error or misinterpretation.\n",
      "  warnings.warn(\n"
     ]
    },
    {
     "data": {
      "text/plain": [
       "<AxesSubplot:xlabel='likes', ylabel='followers'>"
      ]
     },
     "execution_count": 130,
     "metadata": {},
     "output_type": "execute_result"
    },
    {
     "data": {
      "image/png": "[encoded data removed]",
      "text/plain": [
       "<Figure size 432x288 with 1 Axes>"
      ]
     },
     "metadata": {
      "needs_background": "light"
     },
     "output_type": "display_data"
    }
   ],
   "source": [
    "sns.violinplot(df['likes'],df['followers'])"
   ]
  },
  {
   "cell_type": "code",
   "execution_count": 131,
   "metadata": {},
   "outputs": [
    {
     "data": {
      "text/plain": [
       "<matplotlib.collections.PathCollection at 0x1700a33f640>"
      ]
     },
     "execution_count": 131,
     "metadata": {},
     "output_type": "execute_result"
    },
    {
     "data": {
      "image/png": "[encoded data removed]",
      "text/plain": [
       "<Figure size 432x288 with 1 Axes>"
      ]
     },
     "metadata": {
      "needs_background": "light"
     },
     "output_type": "display_data"
    }
   ],
   "source": [
    "plt.scatter(df['celeb'],df['likes'])"
   ]
  },
  {
   "cell_type": "code",
   "execution_count": 132,
   "metadata": {},
   "outputs": [
    {
     "data": {
      "text/html": [
       "<div>\n",
       "<style scoped>\n",
       "    .dataframe tbody tr th:only-of-type {\n",
       "        vertical-align: middle;\n",
       "    }\n",
       "\n",
       "    .dataframe tbody tr th {\n",
       "        vertical-align: top;\n",
       "    }\n",
       "\n",
       "    .dataframe thead th {\n",
       "        text-align: right;\n",
       "    }\n",
       "</style>\n",
       "<table border=\"1\" class=\"dataframe\">\n",
       "  <thead>\n",
       "    <tr style=\"text-align: right;\">\n",
       "      <th>celeb</th>\n",
       "      <th>0</th>\n",
       "      <th>1</th>\n",
       "    </tr>\n",
       "    <tr>\n",
       "      <th>likes</th>\n",
       "      <th></th>\n",
       "      <th></th>\n",
       "    </tr>\n",
       "  </thead>\n",
       "  <tbody>\n",
       "    <tr>\n",
       "      <th>2.0</th>\n",
       "      <td>1</td>\n",
       "      <td>0</td>\n",
       "    </tr>\n",
       "    <tr>\n",
       "      <th>3.0</th>\n",
       "      <td>2</td>\n",
       "      <td>0</td>\n",
       "    </tr>\n",
       "    <tr>\n",
       "      <th>5.0</th>\n",
       "      <td>2</td>\n",
       "      <td>0</td>\n",
       "    </tr>\n",
       "    <tr>\n",
       "      <th>7.0</th>\n",
       "      <td>1</td>\n",
       "      <td>0</td>\n",
       "    </tr>\n",
       "    <tr>\n",
       "      <th>8.0</th>\n",
       "      <td>1</td>\n",
       "      <td>0</td>\n",
       "    </tr>\n",
       "    <tr>\n",
       "      <th>...</th>\n",
       "      <td>...</td>\n",
       "      <td>...</td>\n",
       "    </tr>\n",
       "    <tr>\n",
       "      <th>451068.0</th>\n",
       "      <td>1</td>\n",
       "      <td>0</td>\n",
       "    </tr>\n",
       "    <tr>\n",
       "      <th>573069.0</th>\n",
       "      <td>1</td>\n",
       "      <td>0</td>\n",
       "    </tr>\n",
       "    <tr>\n",
       "      <th>1011062.0</th>\n",
       "      <td>1</td>\n",
       "      <td>0</td>\n",
       "    </tr>\n",
       "    <tr>\n",
       "      <th>1757671.0</th>\n",
       "      <td>1</td>\n",
       "      <td>0</td>\n",
       "    </tr>\n",
       "    <tr>\n",
       "      <th>2028683.0</th>\n",
       "      <td>1</td>\n",
       "      <td>0</td>\n",
       "    </tr>\n",
       "  </tbody>\n",
       "</table>\n",
       "<p>1603 rows × 2 columns</p>\n",
       "</div>"
      ],
      "text/plain": [
       "celeb      0  1\n",
       "likes          \n",
       "2.0        1  0\n",
       "3.0        2  0\n",
       "5.0        2  0\n",
       "7.0        1  0\n",
       "8.0        1  0\n",
       "...       .. ..\n",
       "451068.0   1  0\n",
       "573069.0   1  0\n",
       "1011062.0  1  0\n",
       "1757671.0  1  0\n",
       "2028683.0  1  0\n",
       "\n",
       "[1603 rows x 2 columns]"
      ]
     },
     "execution_count": 132,
     "metadata": {},
     "output_type": "execute_result"
    }
   ],
   "source": [
    "ct1=pd.crosstab(df['likes'],df['celeb'])\n",
    "ct1"
   ]
  },
  {
   "cell_type": "code",
   "execution_count": 133,
   "metadata": {},
   "outputs": [
    {
     "data": {
      "text/html": [
       "<div>\n",
       "<style scoped>\n",
       "    .dataframe tbody tr th:only-of-type {\n",
       "        vertical-align: middle;\n",
       "    }\n",
       "\n",
       "    .dataframe tbody tr th {\n",
       "        vertical-align: top;\n",
       "    }\n",
       "\n",
       "    .dataframe thead th {\n",
       "        text-align: right;\n",
       "    }\n",
       "</style>\n",
       "<table border=\"1\" class=\"dataframe\">\n",
       "  <thead>\n",
       "    <tr style=\"text-align: right;\">\n",
       "      <th>predict</th>\n",
       "      <th>0.0</th>\n",
       "      <th>1.0</th>\n",
       "    </tr>\n",
       "    <tr>\n",
       "      <th>likes</th>\n",
       "      <th></th>\n",
       "      <th></th>\n",
       "    </tr>\n",
       "  </thead>\n",
       "  <tbody>\n",
       "    <tr>\n",
       "      <th>2.0</th>\n",
       "      <td>1.0</td>\n",
       "      <td>0.0</td>\n",
       "    </tr>\n",
       "    <tr>\n",
       "      <th>3.0</th>\n",
       "      <td>1.0</td>\n",
       "      <td>0.0</td>\n",
       "    </tr>\n",
       "    <tr>\n",
       "      <th>5.0</th>\n",
       "      <td>1.0</td>\n",
       "      <td>0.0</td>\n",
       "    </tr>\n",
       "    <tr>\n",
       "      <th>7.0</th>\n",
       "      <td>1.0</td>\n",
       "      <td>0.0</td>\n",
       "    </tr>\n",
       "    <tr>\n",
       "      <th>8.0</th>\n",
       "      <td>1.0</td>\n",
       "      <td>0.0</td>\n",
       "    </tr>\n",
       "    <tr>\n",
       "      <th>...</th>\n",
       "      <td>...</td>\n",
       "      <td>...</td>\n",
       "    </tr>\n",
       "    <tr>\n",
       "      <th>451068.0</th>\n",
       "      <td>0.0</td>\n",
       "      <td>1.0</td>\n",
       "    </tr>\n",
       "    <tr>\n",
       "      <th>573069.0</th>\n",
       "      <td>0.0</td>\n",
       "      <td>1.0</td>\n",
       "    </tr>\n",
       "    <tr>\n",
       "      <th>1011062.0</th>\n",
       "      <td>0.0</td>\n",
       "      <td>1.0</td>\n",
       "    </tr>\n",
       "    <tr>\n",
       "      <th>1757671.0</th>\n",
       "      <td>0.0</td>\n",
       "      <td>1.0</td>\n",
       "    </tr>\n",
       "    <tr>\n",
       "      <th>2028683.0</th>\n",
       "      <td>0.0</td>\n",
       "      <td>1.0</td>\n",
       "    </tr>\n",
       "  </tbody>\n",
       "</table>\n",
       "<p>1603 rows × 2 columns</p>\n",
       "</div>"
      ],
      "text/plain": [
       "predict    0.0  1.0\n",
       "likes              \n",
       "2.0        1.0  0.0\n",
       "3.0        1.0  0.0\n",
       "5.0        1.0  0.0\n",
       "7.0        1.0  0.0\n",
       "8.0        1.0  0.0\n",
       "...        ...  ...\n",
       "451068.0   0.0  1.0\n",
       "573069.0   0.0  1.0\n",
       "1011062.0  0.0  1.0\n",
       "1757671.0  0.0  1.0\n",
       "2028683.0  0.0  1.0\n",
       "\n",
       "[1603 rows x 2 columns]"
      ]
     },
     "execution_count": 133,
     "metadata": {},
     "output_type": "execute_result"
    }
   ],
   "source": [
    "ct2=pd.crosstab(df['likes'],df['predict'], normalize='index')\n",
    "ct2"
   ]
  },
  {
   "cell_type": "code",
   "execution_count": 134,
   "metadata": {},
   "outputs": [
    {
     "name": "stderr",
     "output_type": "stream",
     "text": [
      "c:\\Python310\\lib\\site-packages\\seaborn\\_decorators.py:36: FutureWarning: Pass the following variables as keyword args: x, y. From version 0.12, the only valid positional argument will be `data`, and passing other arguments without an explicit keyword will result in an error or misinterpretation.\n",
      "  warnings.warn(\n"
     ]
    },
    {
     "data": {
      "text/plain": [
       "<AxesSubplot:xlabel='likes', ylabel='celeb'>"
      ]
     },
     "execution_count": 134,
     "metadata": {},
     "output_type": "execute_result"
    },
    {
     "data": {
      "image/png": "[encoded data removed]",
      "text/plain": [
       "<Figure size 432x288 with 1 Axes>"
      ]
     },
     "metadata": {
      "needs_background": "light"
     },
     "output_type": "display_data"
    }
   ],
   "source": [
    "sns.violinplot(df['likes'],df[\"celeb\"])"
   ]
  },
  {
   "cell_type": "code",
   "execution_count": 135,
   "metadata": {},
   "outputs": [
    {
     "data": {
      "text/plain": [
       "(2118.2364981412993,\n",
       " 5.078305445348321e-17,\n",
       " 1602,\n",
       " array([[0.97419355, 0.02580645],\n",
       "        [1.9483871 , 0.0516129 ],\n",
       "        [1.9483871 , 0.0516129 ],\n",
       "        ...,\n",
       "        [0.97419355, 0.02580645],\n",
       "        [0.97419355, 0.02580645],\n",
       "        [0.97419355, 0.02580645]]))"
      ]
     },
     "execution_count": 135,
     "metadata": {},
     "output_type": "execute_result"
    }
   ],
   "source": [
    "chi2_contingency(ct1)"
   ]
  },
  {
   "cell_type": "code",
   "execution_count": 136,
   "metadata": {},
   "outputs": [
    {
     "data": {
      "text/plain": [
       "(1456.2400770068998,\n",
       " 0.9959244119895038,\n",
       " 1602,\n",
       " array([[0.76367143, 0.23632857],\n",
       "        [0.76367143, 0.23632857],\n",
       "        [0.76367143, 0.23632857],\n",
       "        ...,\n",
       "        [0.76367143, 0.23632857],\n",
       "        [0.76367143, 0.23632857],\n",
       "        [0.76367143, 0.23632857]]))"
      ]
     },
     "execution_count": 136,
     "metadata": {},
     "output_type": "execute_result"
    }
   ],
   "source": [
    "chi2_contingency(ct2)"
   ]
  },
  {
   "cell_type": "code",
   "execution_count": 137,
   "metadata": {},
   "outputs": [
    {
     "data": {
      "text/html": [
       "<div>\n",
       "<style scoped>\n",
       "    .dataframe tbody tr th:only-of-type {\n",
       "        vertical-align: middle;\n",
       "    }\n",
       "\n",
       "    .dataframe tbody tr th {\n",
       "        vertical-align: top;\n",
       "    }\n",
       "\n",
       "    .dataframe thead th {\n",
       "        text-align: right;\n",
       "    }\n",
       "</style>\n",
       "<table border=\"1\" class=\"dataframe\">\n",
       "  <thead>\n",
       "    <tr style=\"text-align: right;\">\n",
       "      <th>followers</th>\n",
       "      <th>27.0</th>\n",
       "      <th>69.0</th>\n",
       "      <th>101.0</th>\n",
       "      <th>109.0</th>\n",
       "      <th>116.0</th>\n",
       "      <th>122.0</th>\n",
       "      <th>123.0</th>\n",
       "      <th>129.0</th>\n",
       "      <th>136.0</th>\n",
       "      <th>142.0</th>\n",
       "      <th>...</th>\n",
       "      <th>2400000.0</th>\n",
       "      <th>2600000.0</th>\n",
       "      <th>2800000.0</th>\n",
       "      <th>3100000.0</th>\n",
       "      <th>3200000.0</th>\n",
       "      <th>4200000.0</th>\n",
       "      <th>4300000.0</th>\n",
       "      <th>4400000.0</th>\n",
       "      <th>5100000.0</th>\n",
       "      <th>5400000.0</th>\n",
       "    </tr>\n",
       "    <tr>\n",
       "      <th>likes</th>\n",
       "      <th></th>\n",
       "      <th></th>\n",
       "      <th></th>\n",
       "      <th></th>\n",
       "      <th></th>\n",
       "      <th></th>\n",
       "      <th></th>\n",
       "      <th></th>\n",
       "      <th></th>\n",
       "      <th></th>\n",
       "      <th></th>\n",
       "      <th></th>\n",
       "      <th></th>\n",
       "      <th></th>\n",
       "      <th></th>\n",
       "      <th></th>\n",
       "      <th></th>\n",
       "      <th></th>\n",
       "      <th></th>\n",
       "      <th></th>\n",
       "      <th></th>\n",
       "    </tr>\n",
       "  </thead>\n",
       "  <tbody>\n",
       "    <tr>\n",
       "      <th>2.0</th>\n",
       "      <td>0.0</td>\n",
       "      <td>0.0</td>\n",
       "      <td>0.0</td>\n",
       "      <td>0.0</td>\n",
       "      <td>0.0</td>\n",
       "      <td>0.0</td>\n",
       "      <td>0.0</td>\n",
       "      <td>0.0</td>\n",
       "      <td>0.0</td>\n",
       "      <td>0.0</td>\n",
       "      <td>...</td>\n",
       "      <td>0.0</td>\n",
       "      <td>0.0</td>\n",
       "      <td>0.0</td>\n",
       "      <td>0.0</td>\n",
       "      <td>0.0</td>\n",
       "      <td>0.0</td>\n",
       "      <td>0.0</td>\n",
       "      <td>0.0</td>\n",
       "      <td>0.0</td>\n",
       "      <td>0.0</td>\n",
       "    </tr>\n",
       "    <tr>\n",
       "      <th>3.0</th>\n",
       "      <td>0.0</td>\n",
       "      <td>0.0</td>\n",
       "      <td>0.0</td>\n",
       "      <td>0.0</td>\n",
       "      <td>0.0</td>\n",
       "      <td>0.0</td>\n",
       "      <td>0.0</td>\n",
       "      <td>0.0</td>\n",
       "      <td>0.0</td>\n",
       "      <td>0.0</td>\n",
       "      <td>...</td>\n",
       "      <td>0.0</td>\n",
       "      <td>0.0</td>\n",
       "      <td>0.0</td>\n",
       "      <td>0.0</td>\n",
       "      <td>0.0</td>\n",
       "      <td>0.0</td>\n",
       "      <td>0.0</td>\n",
       "      <td>0.0</td>\n",
       "      <td>0.0</td>\n",
       "      <td>0.0</td>\n",
       "    </tr>\n",
       "    <tr>\n",
       "      <th>5.0</th>\n",
       "      <td>0.0</td>\n",
       "      <td>0.0</td>\n",
       "      <td>0.0</td>\n",
       "      <td>0.0</td>\n",
       "      <td>0.0</td>\n",
       "      <td>0.0</td>\n",
       "      <td>0.0</td>\n",
       "      <td>0.0</td>\n",
       "      <td>0.0</td>\n",
       "      <td>0.0</td>\n",
       "      <td>...</td>\n",
       "      <td>0.0</td>\n",
       "      <td>0.0</td>\n",
       "      <td>0.0</td>\n",
       "      <td>0.0</td>\n",
       "      <td>0.0</td>\n",
       "      <td>0.0</td>\n",
       "      <td>0.0</td>\n",
       "      <td>0.0</td>\n",
       "      <td>0.0</td>\n",
       "      <td>0.0</td>\n",
       "    </tr>\n",
       "    <tr>\n",
       "      <th>7.0</th>\n",
       "      <td>0.0</td>\n",
       "      <td>0.0</td>\n",
       "      <td>0.0</td>\n",
       "      <td>0.0</td>\n",
       "      <td>0.0</td>\n",
       "      <td>0.0</td>\n",
       "      <td>0.0</td>\n",
       "      <td>0.0</td>\n",
       "      <td>0.0</td>\n",
       "      <td>0.0</td>\n",
       "      <td>...</td>\n",
       "      <td>0.0</td>\n",
       "      <td>0.0</td>\n",
       "      <td>0.0</td>\n",
       "      <td>0.0</td>\n",
       "      <td>0.0</td>\n",
       "      <td>0.0</td>\n",
       "      <td>0.0</td>\n",
       "      <td>0.0</td>\n",
       "      <td>0.0</td>\n",
       "      <td>0.0</td>\n",
       "    </tr>\n",
       "    <tr>\n",
       "      <th>8.0</th>\n",
       "      <td>0.0</td>\n",
       "      <td>0.0</td>\n",
       "      <td>0.0</td>\n",
       "      <td>0.0</td>\n",
       "      <td>0.0</td>\n",
       "      <td>0.0</td>\n",
       "      <td>0.0</td>\n",
       "      <td>0.0</td>\n",
       "      <td>0.0</td>\n",
       "      <td>0.0</td>\n",
       "      <td>...</td>\n",
       "      <td>0.0</td>\n",
       "      <td>0.0</td>\n",
       "      <td>0.0</td>\n",
       "      <td>0.0</td>\n",
       "      <td>0.0</td>\n",
       "      <td>0.0</td>\n",
       "      <td>0.0</td>\n",
       "      <td>0.0</td>\n",
       "      <td>0.0</td>\n",
       "      <td>0.0</td>\n",
       "    </tr>\n",
       "    <tr>\n",
       "      <th>...</th>\n",
       "      <td>...</td>\n",
       "      <td>...</td>\n",
       "      <td>...</td>\n",
       "      <td>...</td>\n",
       "      <td>...</td>\n",
       "      <td>...</td>\n",
       "      <td>...</td>\n",
       "      <td>...</td>\n",
       "      <td>...</td>\n",
       "      <td>...</td>\n",
       "      <td>...</td>\n",
       "      <td>...</td>\n",
       "      <td>...</td>\n",
       "      <td>...</td>\n",
       "      <td>...</td>\n",
       "      <td>...</td>\n",
       "      <td>...</td>\n",
       "      <td>...</td>\n",
       "      <td>...</td>\n",
       "      <td>...</td>\n",
       "      <td>...</td>\n",
       "    </tr>\n",
       "    <tr>\n",
       "      <th>451068.0</th>\n",
       "      <td>0.0</td>\n",
       "      <td>0.0</td>\n",
       "      <td>0.0</td>\n",
       "      <td>0.0</td>\n",
       "      <td>0.0</td>\n",
       "      <td>0.0</td>\n",
       "      <td>0.0</td>\n",
       "      <td>0.0</td>\n",
       "      <td>0.0</td>\n",
       "      <td>0.0</td>\n",
       "      <td>...</td>\n",
       "      <td>0.0</td>\n",
       "      <td>0.0</td>\n",
       "      <td>0.0</td>\n",
       "      <td>0.0</td>\n",
       "      <td>0.0</td>\n",
       "      <td>0.0</td>\n",
       "      <td>0.0</td>\n",
       "      <td>0.0</td>\n",
       "      <td>0.0</td>\n",
       "      <td>0.0</td>\n",
       "    </tr>\n",
       "    <tr>\n",
       "      <th>573069.0</th>\n",
       "      <td>0.0</td>\n",
       "      <td>0.0</td>\n",
       "      <td>0.0</td>\n",
       "      <td>0.0</td>\n",
       "      <td>0.0</td>\n",
       "      <td>0.0</td>\n",
       "      <td>0.0</td>\n",
       "      <td>0.0</td>\n",
       "      <td>0.0</td>\n",
       "      <td>0.0</td>\n",
       "      <td>...</td>\n",
       "      <td>0.0</td>\n",
       "      <td>0.0</td>\n",
       "      <td>0.0</td>\n",
       "      <td>0.0</td>\n",
       "      <td>0.0</td>\n",
       "      <td>0.0</td>\n",
       "      <td>0.0</td>\n",
       "      <td>0.0</td>\n",
       "      <td>0.0</td>\n",
       "      <td>0.0</td>\n",
       "    </tr>\n",
       "    <tr>\n",
       "      <th>1011062.0</th>\n",
       "      <td>0.0</td>\n",
       "      <td>0.0</td>\n",
       "      <td>0.0</td>\n",
       "      <td>0.0</td>\n",
       "      <td>0.0</td>\n",
       "      <td>0.0</td>\n",
       "      <td>0.0</td>\n",
       "      <td>0.0</td>\n",
       "      <td>0.0</td>\n",
       "      <td>0.0</td>\n",
       "      <td>...</td>\n",
       "      <td>0.0</td>\n",
       "      <td>0.0</td>\n",
       "      <td>0.0</td>\n",
       "      <td>0.0</td>\n",
       "      <td>0.0</td>\n",
       "      <td>0.0</td>\n",
       "      <td>0.0</td>\n",
       "      <td>0.0</td>\n",
       "      <td>0.0</td>\n",
       "      <td>0.0</td>\n",
       "    </tr>\n",
       "    <tr>\n",
       "      <th>1757671.0</th>\n",
       "      <td>0.0</td>\n",
       "      <td>0.0</td>\n",
       "      <td>0.0</td>\n",
       "      <td>0.0</td>\n",
       "      <td>0.0</td>\n",
       "      <td>0.0</td>\n",
       "      <td>0.0</td>\n",
       "      <td>0.0</td>\n",
       "      <td>0.0</td>\n",
       "      <td>0.0</td>\n",
       "      <td>...</td>\n",
       "      <td>0.0</td>\n",
       "      <td>0.0</td>\n",
       "      <td>0.0</td>\n",
       "      <td>0.0</td>\n",
       "      <td>0.0</td>\n",
       "      <td>0.0</td>\n",
       "      <td>0.0</td>\n",
       "      <td>0.0</td>\n",
       "      <td>0.0</td>\n",
       "      <td>0.0</td>\n",
       "    </tr>\n",
       "    <tr>\n",
       "      <th>2028683.0</th>\n",
       "      <td>0.0</td>\n",
       "      <td>0.0</td>\n",
       "      <td>0.0</td>\n",
       "      <td>0.0</td>\n",
       "      <td>0.0</td>\n",
       "      <td>0.0</td>\n",
       "      <td>0.0</td>\n",
       "      <td>0.0</td>\n",
       "      <td>0.0</td>\n",
       "      <td>0.0</td>\n",
       "      <td>...</td>\n",
       "      <td>0.0</td>\n",
       "      <td>0.0</td>\n",
       "      <td>0.0</td>\n",
       "      <td>0.0</td>\n",
       "      <td>0.0</td>\n",
       "      <td>0.0</td>\n",
       "      <td>0.0</td>\n",
       "      <td>0.0</td>\n",
       "      <td>0.0</td>\n",
       "      <td>0.0</td>\n",
       "    </tr>\n",
       "  </tbody>\n",
       "</table>\n",
       "<p>1603 rows × 1776 columns</p>\n",
       "</div>"
      ],
      "text/plain": [
       "followers  27.0       69.0       101.0      109.0      116.0      122.0      \\\n",
       "likes                                                                         \n",
       "2.0              0.0        0.0        0.0        0.0        0.0        0.0   \n",
       "3.0              0.0        0.0        0.0        0.0        0.0        0.0   \n",
       "5.0              0.0        0.0        0.0        0.0        0.0        0.0   \n",
       "7.0              0.0        0.0        0.0        0.0        0.0        0.0   \n",
       "8.0              0.0        0.0        0.0        0.0        0.0        0.0   \n",
       "...              ...        ...        ...        ...        ...        ...   \n",
       "451068.0         0.0        0.0        0.0        0.0        0.0        0.0   \n",
       "573069.0         0.0        0.0        0.0        0.0        0.0        0.0   \n",
       "1011062.0        0.0        0.0        0.0        0.0        0.0        0.0   \n",
       "1757671.0        0.0        0.0        0.0        0.0        0.0        0.0   \n",
       "2028683.0        0.0        0.0        0.0        0.0        0.0        0.0   \n",
       "\n",
       "followers  123.0      129.0      136.0      142.0      ...  2400000.0  \\\n",
       "likes                                                  ...              \n",
       "2.0              0.0        0.0        0.0        0.0  ...        0.0   \n",
       "3.0              0.0        0.0        0.0        0.0  ...        0.0   \n",
       "5.0              0.0        0.0        0.0        0.0  ...        0.0   \n",
       "7.0              0.0        0.0        0.0        0.0  ...        0.0   \n",
       "8.0              0.0        0.0        0.0        0.0  ...        0.0   \n",
       "...              ...        ...        ...        ...  ...        ...   \n",
       "451068.0         0.0        0.0        0.0        0.0  ...        0.0   \n",
       "573069.0         0.0        0.0        0.0        0.0  ...        0.0   \n",
       "1011062.0        0.0        0.0        0.0        0.0  ...        0.0   \n",
       "1757671.0        0.0        0.0        0.0        0.0  ...        0.0   \n",
       "2028683.0        0.0        0.0        0.0        0.0  ...        0.0   \n",
       "\n",
       "followers  2600000.0  2800000.0  3100000.0  3200000.0  4200000.0  4300000.0  \\\n",
       "likes                                                                         \n",
       "2.0              0.0        0.0        0.0        0.0        0.0        0.0   \n",
       "3.0              0.0        0.0        0.0        0.0        0.0        0.0   \n",
       "5.0              0.0        0.0        0.0        0.0        0.0        0.0   \n",
       "7.0              0.0        0.0        0.0        0.0        0.0        0.0   \n",
       "8.0              0.0        0.0        0.0        0.0        0.0        0.0   \n",
       "...              ...        ...        ...        ...        ...        ...   \n",
       "451068.0         0.0        0.0        0.0        0.0        0.0        0.0   \n",
       "573069.0         0.0        0.0        0.0        0.0        0.0        0.0   \n",
       "1011062.0        0.0        0.0        0.0        0.0        0.0        0.0   \n",
       "1757671.0        0.0        0.0        0.0        0.0        0.0        0.0   \n",
       "2028683.0        0.0        0.0        0.0        0.0        0.0        0.0   \n",
       "\n",
       "followers  4400000.0  5100000.0  5400000.0  \n",
       "likes                                       \n",
       "2.0              0.0        0.0        0.0  \n",
       "3.0              0.0        0.0        0.0  \n",
       "5.0              0.0        0.0        0.0  \n",
       "7.0              0.0        0.0        0.0  \n",
       "8.0              0.0        0.0        0.0  \n",
       "...              ...        ...        ...  \n",
       "451068.0         0.0        0.0        0.0  \n",
       "573069.0         0.0        0.0        0.0  \n",
       "1011062.0        0.0        0.0        0.0  \n",
       "1757671.0        0.0        0.0        0.0  \n",
       "2028683.0        0.0        0.0        0.0  \n",
       "\n",
       "[1603 rows x 1776 columns]"
      ]
     },
     "execution_count": 137,
     "metadata": {},
     "output_type": "execute_result"
    }
   ],
   "source": [
    "ct3=pd.crosstab(df['likes'],df['followers'], normalize='index')\n",
    "ct3"
   ]
  },
  {
   "cell_type": "code",
   "execution_count": 138,
   "metadata": {},
   "outputs": [
    {
     "data": {
      "text/plain": [
       "(1633242.5931302272,\n",
       " 1.0,\n",
       " 2843550,\n",
       " array([[0.00062383, 0.00012477, 0.00015596, ..., 0.00062383, 0.00062383,\n",
       "         0.00062383],\n",
       "        [0.00062383, 0.00012477, 0.00015596, ..., 0.00062383, 0.00062383,\n",
       "         0.00062383],\n",
       "        [0.00062383, 0.00012477, 0.00015596, ..., 0.00062383, 0.00062383,\n",
       "         0.00062383],\n",
       "        ...,\n",
       "        [0.00062383, 0.00012477, 0.00015596, ..., 0.00062383, 0.00062383,\n",
       "         0.00062383],\n",
       "        [0.00062383, 0.00012477, 0.00015596, ..., 0.00062383, 0.00062383,\n",
       "         0.00062383],\n",
       "        [0.00062383, 0.00012477, 0.00015596, ..., 0.00062383, 0.00062383,\n",
       "         0.00062383]]))"
      ]
     },
     "execution_count": 138,
     "metadata": {},
     "output_type": "execute_result"
    }
   ],
   "source": [
    "chi2_contingency(ct3)"
   ]
  },
  {
   "cell_type": "code",
   "execution_count": 139,
   "metadata": {},
   "outputs": [
    {
     "data": {
      "text/html": [
       "<div>\n",
       "<style scoped>\n",
       "    .dataframe tbody tr th:only-of-type {\n",
       "        vertical-align: middle;\n",
       "    }\n",
       "\n",
       "    .dataframe tbody tr th {\n",
       "        vertical-align: top;\n",
       "    }\n",
       "\n",
       "    .dataframe thead th {\n",
       "        text-align: right;\n",
       "    }\n",
       "</style>\n",
       "<table border=\"1\" class=\"dataframe\">\n",
       "  <thead>\n",
       "    <tr style=\"text-align: right;\">\n",
       "      <th>predict</th>\n",
       "      <th>0.0</th>\n",
       "      <th>1.0</th>\n",
       "    </tr>\n",
       "    <tr>\n",
       "      <th>likes</th>\n",
       "      <th></th>\n",
       "      <th></th>\n",
       "    </tr>\n",
       "  </thead>\n",
       "  <tbody>\n",
       "    <tr>\n",
       "      <th>2.0</th>\n",
       "      <td>1.0</td>\n",
       "      <td>0.0</td>\n",
       "    </tr>\n",
       "    <tr>\n",
       "      <th>3.0</th>\n",
       "      <td>1.0</td>\n",
       "      <td>0.0</td>\n",
       "    </tr>\n",
       "    <tr>\n",
       "      <th>5.0</th>\n",
       "      <td>1.0</td>\n",
       "      <td>0.0</td>\n",
       "    </tr>\n",
       "    <tr>\n",
       "      <th>7.0</th>\n",
       "      <td>1.0</td>\n",
       "      <td>0.0</td>\n",
       "    </tr>\n",
       "    <tr>\n",
       "      <th>8.0</th>\n",
       "      <td>1.0</td>\n",
       "      <td>0.0</td>\n",
       "    </tr>\n",
       "    <tr>\n",
       "      <th>...</th>\n",
       "      <td>...</td>\n",
       "      <td>...</td>\n",
       "    </tr>\n",
       "    <tr>\n",
       "      <th>451068.0</th>\n",
       "      <td>0.0</td>\n",
       "      <td>1.0</td>\n",
       "    </tr>\n",
       "    <tr>\n",
       "      <th>573069.0</th>\n",
       "      <td>0.0</td>\n",
       "      <td>1.0</td>\n",
       "    </tr>\n",
       "    <tr>\n",
       "      <th>1011062.0</th>\n",
       "      <td>0.0</td>\n",
       "      <td>1.0</td>\n",
       "    </tr>\n",
       "    <tr>\n",
       "      <th>1757671.0</th>\n",
       "      <td>0.0</td>\n",
       "      <td>1.0</td>\n",
       "    </tr>\n",
       "    <tr>\n",
       "      <th>2028683.0</th>\n",
       "      <td>0.0</td>\n",
       "      <td>1.0</td>\n",
       "    </tr>\n",
       "  </tbody>\n",
       "</table>\n",
       "<p>1603 rows × 2 columns</p>\n",
       "</div>"
      ],
      "text/plain": [
       "predict    0.0  1.0\n",
       "likes              \n",
       "2.0        1.0  0.0\n",
       "3.0        1.0  0.0\n",
       "5.0        1.0  0.0\n",
       "7.0        1.0  0.0\n",
       "8.0        1.0  0.0\n",
       "...        ...  ...\n",
       "451068.0   0.0  1.0\n",
       "573069.0   0.0  1.0\n",
       "1011062.0  0.0  1.0\n",
       "1757671.0  0.0  1.0\n",
       "2028683.0  0.0  1.0\n",
       "\n",
       "[1603 rows x 2 columns]"
      ]
     },
     "execution_count": 139,
     "metadata": {},
     "output_type": "execute_result"
    }
   ],
   "source": [
    "ct5=pd.crosstab(df['likes'],df['predict'], normalize='index')\n",
    "ct5"
   ]
  },
  {
   "cell_type": "code",
   "execution_count": 140,
   "metadata": {},
   "outputs": [
    {
     "data": {
      "text/html": [
       "<div>\n",
       "<style scoped>\n",
       "    .dataframe tbody tr th:only-of-type {\n",
       "        vertical-align: middle;\n",
       "    }\n",
       "\n",
       "    .dataframe tbody tr th {\n",
       "        vertical-align: top;\n",
       "    }\n",
       "\n",
       "    .dataframe thead th {\n",
       "        text-align: right;\n",
       "    }\n",
       "</style>\n",
       "<table border=\"1\" class=\"dataframe\">\n",
       "  <thead>\n",
       "    <tr style=\"text-align: right;\">\n",
       "      <th>predict</th>\n",
       "      <th>0.0</th>\n",
       "      <th>1.0</th>\n",
       "    </tr>\n",
       "    <tr>\n",
       "      <th>following</th>\n",
       "      <th></th>\n",
       "      <th></th>\n",
       "    </tr>\n",
       "  </thead>\n",
       "  <tbody>\n",
       "    <tr>\n",
       "      <th>0.0</th>\n",
       "      <td>0.652174</td>\n",
       "      <td>0.347826</td>\n",
       "    </tr>\n",
       "    <tr>\n",
       "      <th>1.0</th>\n",
       "      <td>0.826087</td>\n",
       "      <td>0.173913</td>\n",
       "    </tr>\n",
       "    <tr>\n",
       "      <th>2.0</th>\n",
       "      <td>0.866667</td>\n",
       "      <td>0.133333</td>\n",
       "    </tr>\n",
       "    <tr>\n",
       "      <th>3.0</th>\n",
       "      <td>0.833333</td>\n",
       "      <td>0.166667</td>\n",
       "    </tr>\n",
       "    <tr>\n",
       "      <th>4.0</th>\n",
       "      <td>0.714286</td>\n",
       "      <td>0.285714</td>\n",
       "    </tr>\n",
       "    <tr>\n",
       "      <th>...</th>\n",
       "      <td>...</td>\n",
       "      <td>...</td>\n",
       "    </tr>\n",
       "    <tr>\n",
       "      <th>7504.0</th>\n",
       "      <td>1.000000</td>\n",
       "      <td>0.000000</td>\n",
       "    </tr>\n",
       "    <tr>\n",
       "      <th>7505.0</th>\n",
       "      <td>0.000000</td>\n",
       "      <td>1.000000</td>\n",
       "    </tr>\n",
       "    <tr>\n",
       "      <th>7509.0</th>\n",
       "      <td>1.000000</td>\n",
       "      <td>0.000000</td>\n",
       "    </tr>\n",
       "    <tr>\n",
       "      <th>7513.0</th>\n",
       "      <td>1.000000</td>\n",
       "      <td>0.000000</td>\n",
       "    </tr>\n",
       "    <tr>\n",
       "      <th>7515.0</th>\n",
       "      <td>0.000000</td>\n",
       "      <td>1.000000</td>\n",
       "    </tr>\n",
       "  </tbody>\n",
       "</table>\n",
       "<p>1553 rows × 2 columns</p>\n",
       "</div>"
      ],
      "text/plain": [
       "predict         0.0       1.0\n",
       "following                    \n",
       "0.0        0.652174  0.347826\n",
       "1.0        0.826087  0.173913\n",
       "2.0        0.866667  0.133333\n",
       "3.0        0.833333  0.166667\n",
       "4.0        0.714286  0.285714\n",
       "...             ...       ...\n",
       "7504.0     1.000000  0.000000\n",
       "7505.0     0.000000  1.000000\n",
       "7509.0     1.000000  0.000000\n",
       "7513.0     1.000000  0.000000\n",
       "7515.0     0.000000  1.000000\n",
       "\n",
       "[1553 rows x 2 columns]"
      ]
     },
     "execution_count": 140,
     "metadata": {},
     "output_type": "execute_result"
    }
   ],
   "source": [
    "ct6=pd.crosstab(df['following'],df['predict'], normalize='index')\n",
    "ct6"
   ]
  },
  {
   "cell_type": "code",
   "execution_count": 141,
   "metadata": {},
   "outputs": [
    {
     "data": {
      "text/html": [
       "<div>\n",
       "<style scoped>\n",
       "    .dataframe tbody tr th:only-of-type {\n",
       "        vertical-align: middle;\n",
       "    }\n",
       "\n",
       "    .dataframe tbody tr th {\n",
       "        vertical-align: top;\n",
       "    }\n",
       "\n",
       "    .dataframe thead th {\n",
       "        text-align: right;\n",
       "    }\n",
       "</style>\n",
       "<table border=\"1\" class=\"dataframe\">\n",
       "  <thead>\n",
       "    <tr style=\"text-align: right;\">\n",
       "      <th>predict</th>\n",
       "      <th>0.0</th>\n",
       "      <th>1.0</th>\n",
       "    </tr>\n",
       "    <tr>\n",
       "      <th>followers</th>\n",
       "      <th></th>\n",
       "      <th></th>\n",
       "    </tr>\n",
       "  </thead>\n",
       "  <tbody>\n",
       "    <tr>\n",
       "      <th>27.0</th>\n",
       "      <td>0.0</td>\n",
       "      <td>1.0</td>\n",
       "    </tr>\n",
       "    <tr>\n",
       "      <th>69.0</th>\n",
       "      <td>0.0</td>\n",
       "      <td>1.0</td>\n",
       "    </tr>\n",
       "    <tr>\n",
       "      <th>101.0</th>\n",
       "      <td>0.0</td>\n",
       "      <td>1.0</td>\n",
       "    </tr>\n",
       "    <tr>\n",
       "      <th>109.0</th>\n",
       "      <td>1.0</td>\n",
       "      <td>0.0</td>\n",
       "    </tr>\n",
       "    <tr>\n",
       "      <th>116.0</th>\n",
       "      <td>0.0</td>\n",
       "      <td>1.0</td>\n",
       "    </tr>\n",
       "    <tr>\n",
       "      <th>...</th>\n",
       "      <td>...</td>\n",
       "      <td>...</td>\n",
       "    </tr>\n",
       "    <tr>\n",
       "      <th>4200000.0</th>\n",
       "      <td>1.0</td>\n",
       "      <td>0.0</td>\n",
       "    </tr>\n",
       "    <tr>\n",
       "      <th>4300000.0</th>\n",
       "      <td>1.0</td>\n",
       "      <td>0.0</td>\n",
       "    </tr>\n",
       "    <tr>\n",
       "      <th>4400000.0</th>\n",
       "      <td>1.0</td>\n",
       "      <td>0.0</td>\n",
       "    </tr>\n",
       "    <tr>\n",
       "      <th>5100000.0</th>\n",
       "      <td>1.0</td>\n",
       "      <td>0.0</td>\n",
       "    </tr>\n",
       "    <tr>\n",
       "      <th>5400000.0</th>\n",
       "      <td>1.0</td>\n",
       "      <td>0.0</td>\n",
       "    </tr>\n",
       "  </tbody>\n",
       "</table>\n",
       "<p>1776 rows × 2 columns</p>\n",
       "</div>"
      ],
      "text/plain": [
       "predict    0.0  1.0\n",
       "followers          \n",
       "27.0       0.0  1.0\n",
       "69.0       0.0  1.0\n",
       "101.0      0.0  1.0\n",
       "109.0      1.0  0.0\n",
       "116.0      0.0  1.0\n",
       "...        ...  ...\n",
       "4200000.0  1.0  0.0\n",
       "4300000.0  1.0  0.0\n",
       "4400000.0  1.0  0.0\n",
       "5100000.0  1.0  0.0\n",
       "5400000.0  1.0  0.0\n",
       "\n",
       "[1776 rows x 2 columns]"
      ]
     },
     "execution_count": 141,
     "metadata": {},
     "output_type": "execute_result"
    }
   ],
   "source": [
    "ct7=pd.crosstab(df['followers'],df['predict'], normalize='index')\n",
    "ct7"
   ]
  },
  {
   "cell_type": "code",
   "execution_count": 142,
   "metadata": {},
   "outputs": [
    {
     "data": {
      "text/html": [
       "<div>\n",
       "<style scoped>\n",
       "    .dataframe tbody tr th:only-of-type {\n",
       "        vertical-align: middle;\n",
       "    }\n",
       "\n",
       "    .dataframe tbody tr th {\n",
       "        vertical-align: top;\n",
       "    }\n",
       "\n",
       "    .dataframe thead th {\n",
       "        text-align: right;\n",
       "    }\n",
       "</style>\n",
       "<table border=\"1\" class=\"dataframe\">\n",
       "  <thead>\n",
       "    <tr style=\"text-align: right;\">\n",
       "      <th>predict</th>\n",
       "      <th>0.0</th>\n",
       "      <th>1.0</th>\n",
       "    </tr>\n",
       "    <tr>\n",
       "      <th>posts_amount</th>\n",
       "      <th></th>\n",
       "      <th></th>\n",
       "    </tr>\n",
       "  </thead>\n",
       "  <tbody>\n",
       "    <tr>\n",
       "      <th>2.0</th>\n",
       "      <td>1.0</td>\n",
       "      <td>0.0</td>\n",
       "    </tr>\n",
       "    <tr>\n",
       "      <th>3.0</th>\n",
       "      <td>1.0</td>\n",
       "      <td>0.0</td>\n",
       "    </tr>\n",
       "    <tr>\n",
       "      <th>4.0</th>\n",
       "      <td>0.0</td>\n",
       "      <td>1.0</td>\n",
       "    </tr>\n",
       "    <tr>\n",
       "      <th>7.0</th>\n",
       "      <td>0.0</td>\n",
       "      <td>1.0</td>\n",
       "    </tr>\n",
       "    <tr>\n",
       "      <th>8.0</th>\n",
       "      <td>0.0</td>\n",
       "      <td>1.0</td>\n",
       "    </tr>\n",
       "    <tr>\n",
       "      <th>...</th>\n",
       "      <td>...</td>\n",
       "      <td>...</td>\n",
       "    </tr>\n",
       "    <tr>\n",
       "      <th>32790.0</th>\n",
       "      <td>1.0</td>\n",
       "      <td>0.0</td>\n",
       "    </tr>\n",
       "    <tr>\n",
       "      <th>35693.0</th>\n",
       "      <td>1.0</td>\n",
       "      <td>0.0</td>\n",
       "    </tr>\n",
       "    <tr>\n",
       "      <th>36119.0</th>\n",
       "      <td>1.0</td>\n",
       "      <td>0.0</td>\n",
       "    </tr>\n",
       "    <tr>\n",
       "      <th>46411.0</th>\n",
       "      <td>1.0</td>\n",
       "      <td>0.0</td>\n",
       "    </tr>\n",
       "    <tr>\n",
       "      <th>53792.0</th>\n",
       "      <td>1.0</td>\n",
       "      <td>0.0</td>\n",
       "    </tr>\n",
       "  </tbody>\n",
       "</table>\n",
       "<p>1588 rows × 2 columns</p>\n",
       "</div>"
      ],
      "text/plain": [
       "predict       0.0  1.0\n",
       "posts_amount          \n",
       "2.0           1.0  0.0\n",
       "3.0           1.0  0.0\n",
       "4.0           0.0  1.0\n",
       "7.0           0.0  1.0\n",
       "8.0           0.0  1.0\n",
       "...           ...  ...\n",
       "32790.0       1.0  0.0\n",
       "35693.0       1.0  0.0\n",
       "36119.0       1.0  0.0\n",
       "46411.0       1.0  0.0\n",
       "53792.0       1.0  0.0\n",
       "\n",
       "[1588 rows x 2 columns]"
      ]
     },
     "execution_count": 142,
     "metadata": {},
     "output_type": "execute_result"
    }
   ],
   "source": [
    "ct8=pd.crosstab(df['posts_amount'],df['predict'], normalize='index')\n",
    "ct8"
   ]
  },
  {
   "cell_type": "code",
   "execution_count": 143,
   "metadata": {},
   "outputs": [
    {
     "data": {
      "text/html": [
       "<div>\n",
       "<style scoped>\n",
       "    .dataframe tbody tr th:only-of-type {\n",
       "        vertical-align: middle;\n",
       "    }\n",
       "\n",
       "    .dataframe tbody tr th {\n",
       "        vertical-align: top;\n",
       "    }\n",
       "\n",
       "    .dataframe thead th {\n",
       "        text-align: right;\n",
       "    }\n",
       "</style>\n",
       "<table border=\"1\" class=\"dataframe\">\n",
       "  <thead>\n",
       "    <tr style=\"text-align: right;\">\n",
       "      <th>predict</th>\n",
       "      <th>0.0</th>\n",
       "      <th>1.0</th>\n",
       "    </tr>\n",
       "    <tr>\n",
       "      <th>pic_vid</th>\n",
       "      <th></th>\n",
       "      <th></th>\n",
       "    </tr>\n",
       "  </thead>\n",
       "  <tbody>\n",
       "    <tr>\n",
       "      <th>0</th>\n",
       "      <td>0.873141</td>\n",
       "      <td>0.126859</td>\n",
       "    </tr>\n",
       "    <tr>\n",
       "      <th>1</th>\n",
       "      <td>0.603175</td>\n",
       "      <td>0.396825</td>\n",
       "    </tr>\n",
       "  </tbody>\n",
       "</table>\n",
       "</div>"
      ],
      "text/plain": [
       "predict       0.0       1.0\n",
       "pic_vid                    \n",
       "0        0.873141  0.126859\n",
       "1        0.603175  0.396825"
      ]
     },
     "execution_count": 143,
     "metadata": {},
     "output_type": "execute_result"
    }
   ],
   "source": [
    "ct9=pd.crosstab(df['pic_vid'],df['predict'], normalize='index')\n",
    "ct9"
   ]
  },
  {
   "cell_type": "code",
   "execution_count": 144,
   "metadata": {},
   "outputs": [
    {
     "data": {
      "text/html": [
       "<div>\n",
       "<style scoped>\n",
       "    .dataframe tbody tr th:only-of-type {\n",
       "        vertical-align: middle;\n",
       "    }\n",
       "\n",
       "    .dataframe tbody tr th {\n",
       "        vertical-align: top;\n",
       "    }\n",
       "\n",
       "    .dataframe thead th {\n",
       "        text-align: right;\n",
       "    }\n",
       "</style>\n",
       "<table border=\"1\" class=\"dataframe\">\n",
       "  <thead>\n",
       "    <tr style=\"text-align: right;\">\n",
       "      <th>predict</th>\n",
       "      <th>0.0</th>\n",
       "      <th>1.0</th>\n",
       "    </tr>\n",
       "    <tr>\n",
       "      <th>hashtag</th>\n",
       "      <th></th>\n",
       "      <th></th>\n",
       "    </tr>\n",
       "  </thead>\n",
       "  <tbody>\n",
       "    <tr>\n",
       "      <th></th>\n",
       "      <td>0.661765</td>\n",
       "      <td>0.338235</td>\n",
       "    </tr>\n",
       "    <tr>\n",
       "      <th>action takeaction actionsspeaklouderthanwords actioniseverything actioniskey takeactiontoday monday mondaymotivation accountability mindset believe believeinyourself CRUSHtoday teamNoQuit</th>\n",
       "      <td>1.000000</td>\n",
       "      <td>0.000000</td>\n",
       "    </tr>\n",
       "    <tr>\n",
       "      <th>hiphop rap unsignedartist music rapper dance beats artist dj rnd newmusic love producer hiphopmusic soundcloud party spotify freestyle multimusicmoguls_hiphop follow rapmusic rappers hiphopculture mmm youtube exploremore explorechicago explorepage✨</th>\n",
       "      <td>1.000000</td>\n",
       "      <td>0.000000</td>\n",
       "    </tr>\n",
       "    <tr>\n",
       "      <th>irish beauty gaypride philly</th>\n",
       "      <td>1.000000</td>\n",
       "      <td>0.000000</td>\n",
       "    </tr>\n",
       "    <tr>\n",
       "      <th>jeonjungkook kimtaehyung parkjimin kimnamjoon junghoseok minyoongi kimseokjin jungkookimagine btsimagines jungkookimagines btsimagines btsimagines🐢 btsjungkook btsstories btstiktioks btsgif btsarmy bangtan top suggested suggestions explore explorepage btsoneshots btstextimagines btsgifimagines btssmut btsimagines🔞 btsedits bts</th>\n",
       "      <td>1.000000</td>\n",
       "      <td>0.000000</td>\n",
       "    </tr>\n",
       "    <tr>\n",
       "      <th>...</th>\n",
       "      <td>...</td>\n",
       "      <td>...</td>\n",
       "    </tr>\n",
       "    <tr>\n",
       "      <th>️⃣ rabbit rabbitsofinstagram rabbitstagram bunnyrabbit instarabbit rabbitsofig houserabbit rabbitsworldwide rabbitlove rabbitlife rabbitlover rabbithole jessicarabbit rabbitofinstagram rabbitfood</th>\n",
       "      <td>1.000000</td>\n",
       "      <td>0.000000</td>\n",
       "    </tr>\n",
       "    <tr>\n",
       "      <th>𝟮: poker pokernews pokerplayer pokerlife wsop wsop2022 worldseriesofpoker lasvegas vegas vegasstrip</th>\n",
       "      <td>1.000000</td>\n",
       "      <td>0.000000</td>\n",
       "    </tr>\n",
       "    <tr>\n",
       "      <th>🌛 me girl istagirl italiangirl sicilygirl moment istamoment saturday instagood instafashion mare istamood love style spring 2k22 today day post picoftheday picture photo photography photographer photographylovers remember ricominciodame 🌞 💕</th>\n",
       "      <td>0.000000</td>\n",
       "      <td>1.000000</td>\n",
       "    </tr>\n",
       "    <tr>\n",
       "      <th>📷 dankmemes dankmemesdaily indica stoned 420daily 420memes 420meme⁠ smoke high hightimes smokeweed smoker weedsmokers</th>\n",
       "      <td>1.000000</td>\n",
       "      <td>0.000000</td>\n",
       "    </tr>\n",
       "    <tr>\n",
       "      <th>📸 longlegs nylonslover nylonblogger higheels tights highheelslover lovemodeling modeling model me dessous outdoorshooting fashion fashionlover bhfyp shooting body bodysuit stockings stockingslegs stockingsandheels thaiwomen asiagirl ootd ootdasian elegance elegant hoisery</th>\n",
       "      <td>1.000000</td>\n",
       "      <td>0.000000</td>\n",
       "    </tr>\n",
       "  </tbody>\n",
       "</table>\n",
       "<p>2585 rows × 2 columns</p>\n",
       "</div>"
      ],
      "text/plain": [
       "predict                                                  0.0       1.0\n",
       "hashtag                                                               \n",
       "                                                    0.661765  0.338235\n",
       " action takeaction actionsspeaklouderthanwords ...  1.000000  0.000000\n",
       " hiphop rap unsignedartist music rapper dance b...  1.000000  0.000000\n",
       " irish beauty gaypride philly                       1.000000  0.000000\n",
       " jeonjungkook kimtaehyung parkjimin kimnamjoon ...  1.000000  0.000000\n",
       "...                                                      ...       ...\n",
       "️⃣ rabbit rabbitsofinstagram rabbitstagram bunn...  1.000000  0.000000\n",
       "𝟮: poker pokernews pokerplayer pokerlife wsop w...  1.000000  0.000000\n",
       "🌛 me girl istagirl italiangirl sicilygirl momen...  0.000000  1.000000\n",
       "📷 dankmemes dankmemesdaily indica stoned 420dai...  1.000000  0.000000\n",
       "📸 longlegs nylonslover nylonblogger higheels ti...  1.000000  0.000000\n",
       "\n",
       "[2585 rows x 2 columns]"
      ]
     },
     "execution_count": 144,
     "metadata": {},
     "output_type": "execute_result"
    }
   ],
   "source": [
    "ct10=pd.crosstab(df['hashtag'],df['predict'], normalize='index')\n",
    "ct10"
   ]
  },
  {
   "cell_type": "code",
   "execution_count": 145,
   "metadata": {},
   "outputs": [
    {
     "data": {
      "text/html": [
       "<div>\n",
       "<style scoped>\n",
       "    .dataframe tbody tr th:only-of-type {\n",
       "        vertical-align: middle;\n",
       "    }\n",
       "\n",
       "    .dataframe tbody tr th {\n",
       "        vertical-align: top;\n",
       "    }\n",
       "\n",
       "    .dataframe thead th {\n",
       "        text-align: right;\n",
       "    }\n",
       "</style>\n",
       "<table border=\"1\" class=\"dataframe\">\n",
       "  <thead>\n",
       "    <tr style=\"text-align: right;\">\n",
       "      <th>predict</th>\n",
       "      <th>0.0</th>\n",
       "      <th>1.0</th>\n",
       "    </tr>\n",
       "    <tr>\n",
       "      <th>hashtag_amount</th>\n",
       "      <th></th>\n",
       "      <th></th>\n",
       "    </tr>\n",
       "  </thead>\n",
       "  <tbody>\n",
       "    <tr>\n",
       "      <th>0</th>\n",
       "      <td>0.661765</td>\n",
       "      <td>0.338235</td>\n",
       "    </tr>\n",
       "    <tr>\n",
       "      <th>1</th>\n",
       "      <td>0.894737</td>\n",
       "      <td>0.105263</td>\n",
       "    </tr>\n",
       "    <tr>\n",
       "      <th>2</th>\n",
       "      <td>0.875000</td>\n",
       "      <td>0.125000</td>\n",
       "    </tr>\n",
       "    <tr>\n",
       "      <th>3</th>\n",
       "      <td>0.843750</td>\n",
       "      <td>0.156250</td>\n",
       "    </tr>\n",
       "    <tr>\n",
       "      <th>4</th>\n",
       "      <td>0.942857</td>\n",
       "      <td>0.057143</td>\n",
       "    </tr>\n",
       "    <tr>\n",
       "      <th>5</th>\n",
       "      <td>0.869565</td>\n",
       "      <td>0.130435</td>\n",
       "    </tr>\n",
       "    <tr>\n",
       "      <th>6</th>\n",
       "      <td>0.902439</td>\n",
       "      <td>0.097561</td>\n",
       "    </tr>\n",
       "    <tr>\n",
       "      <th>7</th>\n",
       "      <td>0.738095</td>\n",
       "      <td>0.261905</td>\n",
       "    </tr>\n",
       "    <tr>\n",
       "      <th>8</th>\n",
       "      <td>0.895833</td>\n",
       "      <td>0.104167</td>\n",
       "    </tr>\n",
       "    <tr>\n",
       "      <th>9</th>\n",
       "      <td>0.823529</td>\n",
       "      <td>0.176471</td>\n",
       "    </tr>\n",
       "    <tr>\n",
       "      <th>10</th>\n",
       "      <td>0.822222</td>\n",
       "      <td>0.177778</td>\n",
       "    </tr>\n",
       "    <tr>\n",
       "      <th>11</th>\n",
       "      <td>0.843750</td>\n",
       "      <td>0.156250</td>\n",
       "    </tr>\n",
       "    <tr>\n",
       "      <th>12</th>\n",
       "      <td>0.857143</td>\n",
       "      <td>0.142857</td>\n",
       "    </tr>\n",
       "    <tr>\n",
       "      <th>13</th>\n",
       "      <td>0.788462</td>\n",
       "      <td>0.211538</td>\n",
       "    </tr>\n",
       "    <tr>\n",
       "      <th>14</th>\n",
       "      <td>0.833333</td>\n",
       "      <td>0.166667</td>\n",
       "    </tr>\n",
       "    <tr>\n",
       "      <th>15</th>\n",
       "      <td>0.851852</td>\n",
       "      <td>0.148148</td>\n",
       "    </tr>\n",
       "    <tr>\n",
       "      <th>16</th>\n",
       "      <td>0.839080</td>\n",
       "      <td>0.160920</td>\n",
       "    </tr>\n",
       "    <tr>\n",
       "      <th>17</th>\n",
       "      <td>0.821053</td>\n",
       "      <td>0.178947</td>\n",
       "    </tr>\n",
       "    <tr>\n",
       "      <th>18</th>\n",
       "      <td>0.844156</td>\n",
       "      <td>0.155844</td>\n",
       "    </tr>\n",
       "    <tr>\n",
       "      <th>19</th>\n",
       "      <td>0.790123</td>\n",
       "      <td>0.209877</td>\n",
       "    </tr>\n",
       "    <tr>\n",
       "      <th>20</th>\n",
       "      <td>0.770833</td>\n",
       "      <td>0.229167</td>\n",
       "    </tr>\n",
       "    <tr>\n",
       "      <th>21</th>\n",
       "      <td>0.825581</td>\n",
       "      <td>0.174419</td>\n",
       "    </tr>\n",
       "    <tr>\n",
       "      <th>22</th>\n",
       "      <td>0.768421</td>\n",
       "      <td>0.231579</td>\n",
       "    </tr>\n",
       "    <tr>\n",
       "      <th>23</th>\n",
       "      <td>0.825000</td>\n",
       "      <td>0.175000</td>\n",
       "    </tr>\n",
       "    <tr>\n",
       "      <th>24</th>\n",
       "      <td>0.888889</td>\n",
       "      <td>0.111111</td>\n",
       "    </tr>\n",
       "    <tr>\n",
       "      <th>25</th>\n",
       "      <td>0.807339</td>\n",
       "      <td>0.192661</td>\n",
       "    </tr>\n",
       "    <tr>\n",
       "      <th>26</th>\n",
       "      <td>0.790123</td>\n",
       "      <td>0.209877</td>\n",
       "    </tr>\n",
       "    <tr>\n",
       "      <th>27</th>\n",
       "      <td>0.818182</td>\n",
       "      <td>0.181818</td>\n",
       "    </tr>\n",
       "    <tr>\n",
       "      <th>28</th>\n",
       "      <td>0.837838</td>\n",
       "      <td>0.162162</td>\n",
       "    </tr>\n",
       "    <tr>\n",
       "      <th>29</th>\n",
       "      <td>0.828402</td>\n",
       "      <td>0.171598</td>\n",
       "    </tr>\n",
       "    <tr>\n",
       "      <th>30</th>\n",
       "      <td>0.827051</td>\n",
       "      <td>0.172949</td>\n",
       "    </tr>\n",
       "    <tr>\n",
       "      <th>31</th>\n",
       "      <td>0.855670</td>\n",
       "      <td>0.144330</td>\n",
       "    </tr>\n",
       "    <tr>\n",
       "      <th>32</th>\n",
       "      <td>0.825000</td>\n",
       "      <td>0.175000</td>\n",
       "    </tr>\n",
       "    <tr>\n",
       "      <th>33</th>\n",
       "      <td>0.833333</td>\n",
       "      <td>0.166667</td>\n",
       "    </tr>\n",
       "    <tr>\n",
       "      <th>34</th>\n",
       "      <td>0.666667</td>\n",
       "      <td>0.333333</td>\n",
       "    </tr>\n",
       "    <tr>\n",
       "      <th>35</th>\n",
       "      <td>0.000000</td>\n",
       "      <td>1.000000</td>\n",
       "    </tr>\n",
       "    <tr>\n",
       "      <th>36</th>\n",
       "      <td>1.000000</td>\n",
       "      <td>0.000000</td>\n",
       "    </tr>\n",
       "    <tr>\n",
       "      <th>37</th>\n",
       "      <td>1.000000</td>\n",
       "      <td>0.000000</td>\n",
       "    </tr>\n",
       "    <tr>\n",
       "      <th>38</th>\n",
       "      <td>1.000000</td>\n",
       "      <td>0.000000</td>\n",
       "    </tr>\n",
       "    <tr>\n",
       "      <th>39</th>\n",
       "      <td>1.000000</td>\n",
       "      <td>0.000000</td>\n",
       "    </tr>\n",
       "    <tr>\n",
       "      <th>40</th>\n",
       "      <td>0.000000</td>\n",
       "      <td>1.000000</td>\n",
       "    </tr>\n",
       "    <tr>\n",
       "      <th>42</th>\n",
       "      <td>1.000000</td>\n",
       "      <td>0.000000</td>\n",
       "    </tr>\n",
       "    <tr>\n",
       "      <th>43</th>\n",
       "      <td>1.000000</td>\n",
       "      <td>0.000000</td>\n",
       "    </tr>\n",
       "    <tr>\n",
       "      <th>47</th>\n",
       "      <td>0.333333</td>\n",
       "      <td>0.666667</td>\n",
       "    </tr>\n",
       "    <tr>\n",
       "      <th>49</th>\n",
       "      <td>1.000000</td>\n",
       "      <td>0.000000</td>\n",
       "    </tr>\n",
       "    <tr>\n",
       "      <th>51</th>\n",
       "      <td>0.000000</td>\n",
       "      <td>1.000000</td>\n",
       "    </tr>\n",
       "  </tbody>\n",
       "</table>\n",
       "</div>"
      ],
      "text/plain": [
       "predict              0.0       1.0\n",
       "hashtag_amount                    \n",
       "0               0.661765  0.338235\n",
       "1               0.894737  0.105263\n",
       "2               0.875000  0.125000\n",
       "3               0.843750  0.156250\n",
       "4               0.942857  0.057143\n",
       "5               0.869565  0.130435\n",
       "6               0.902439  0.097561\n",
       "7               0.738095  0.261905\n",
       "8               0.895833  0.104167\n",
       "9               0.823529  0.176471\n",
       "10              0.822222  0.177778\n",
       "11              0.843750  0.156250\n",
       "12              0.857143  0.142857\n",
       "13              0.788462  0.211538\n",
       "14              0.833333  0.166667\n",
       "15              0.851852  0.148148\n",
       "16              0.839080  0.160920\n",
       "17              0.821053  0.178947\n",
       "18              0.844156  0.155844\n",
       "19              0.790123  0.209877\n",
       "20              0.770833  0.229167\n",
       "21              0.825581  0.174419\n",
       "22              0.768421  0.231579\n",
       "23              0.825000  0.175000\n",
       "24              0.888889  0.111111\n",
       "25              0.807339  0.192661\n",
       "26              0.790123  0.209877\n",
       "27              0.818182  0.181818\n",
       "28              0.837838  0.162162\n",
       "29              0.828402  0.171598\n",
       "30              0.827051  0.172949\n",
       "31              0.855670  0.144330\n",
       "32              0.825000  0.175000\n",
       "33              0.833333  0.166667\n",
       "34              0.666667  0.333333\n",
       "35              0.000000  1.000000\n",
       "36              1.000000  0.000000\n",
       "37              1.000000  0.000000\n",
       "38              1.000000  0.000000\n",
       "39              1.000000  0.000000\n",
       "40              0.000000  1.000000\n",
       "42              1.000000  0.000000\n",
       "43              1.000000  0.000000\n",
       "47              0.333333  0.666667\n",
       "49              1.000000  0.000000\n",
       "51              0.000000  1.000000"
      ]
     },
     "execution_count": 145,
     "metadata": {},
     "output_type": "execute_result"
    }
   ],
   "source": [
    "ct11=pd.crosstab(df['hashtag_amount'],df['predict'], normalize='index')\n",
    "ct11"
   ]
  },
  {
   "cell_type": "code",
   "execution_count": 146,
   "metadata": {},
   "outputs": [
    {
     "data": {
      "text/html": [
       "<div>\n",
       "<style scoped>\n",
       "    .dataframe tbody tr th:only-of-type {\n",
       "        vertical-align: middle;\n",
       "    }\n",
       "\n",
       "    .dataframe tbody tr th {\n",
       "        vertical-align: top;\n",
       "    }\n",
       "\n",
       "    .dataframe thead th {\n",
       "        text-align: right;\n",
       "    }\n",
       "</style>\n",
       "<table border=\"1\" class=\"dataframe\">\n",
       "  <thead>\n",
       "    <tr style=\"text-align: right;\">\n",
       "      <th>predict</th>\n",
       "      <th>0.0</th>\n",
       "      <th>1.0</th>\n",
       "    </tr>\n",
       "    <tr>\n",
       "      <th>pCo</th>\n",
       "      <th></th>\n",
       "      <th></th>\n",
       "    </tr>\n",
       "  </thead>\n",
       "  <tbody>\n",
       "    <tr>\n",
       "      <th>accessory fashion accessory bag luggage and bags handbag</th>\n",
       "      <td>0.0</td>\n",
       "      <td>1.0</td>\n",
       "    </tr>\n",
       "    <tr>\n",
       "      <th>accessory fashion accessory jewellery gemstone</th>\n",
       "      <td>1.0</td>\n",
       "      <td>0.0</td>\n",
       "    </tr>\n",
       "    <tr>\n",
       "      <th>aerial photography aerial bird's-eye view outdoor sky cloud beach</th>\n",
       "      <td>1.0</td>\n",
       "      <td>0.0</td>\n",
       "    </tr>\n",
       "    <tr>\n",
       "      <th>aerial photography bird's-eye view aerial</th>\n",
       "      <td>1.0</td>\n",
       "      <td>0.0</td>\n",
       "    </tr>\n",
       "    <tr>\n",
       "      <th>airplane plane aircraft sky outdoor fighter aircraft military aircraft jet aircraft air force air travel flight wing transport aviation general aviation ground attack aircraft aerospace engineering air racing aerospace manufacturer vehicle jet</th>\n",
       "      <td>0.0</td>\n",
       "      <td>1.0</td>\n",
       "    </tr>\n",
       "    <tr>\n",
       "      <th>...</th>\n",
       "      <td>...</td>\n",
       "      <td>...</td>\n",
       "    </tr>\n",
       "    <tr>\n",
       "      <th>window building</th>\n",
       "      <td>1.0</td>\n",
       "      <td>0.0</td>\n",
       "    </tr>\n",
       "    <tr>\n",
       "      <th>window outdoor plant door building</th>\n",
       "      <td>0.0</td>\n",
       "      <td>1.0</td>\n",
       "    </tr>\n",
       "    <tr>\n",
       "      <th>window sky outdoor water</th>\n",
       "      <td>1.0</td>\n",
       "      <td>0.0</td>\n",
       "    </tr>\n",
       "    <tr>\n",
       "      <th>window water</th>\n",
       "      <td>1.0</td>\n",
       "      <td>0.0</td>\n",
       "    </tr>\n",
       "    <tr>\n",
       "      <th>woman lipstick human face fashion eyelash makeover eye liner cosmetics</th>\n",
       "      <td>1.0</td>\n",
       "      <td>0.0</td>\n",
       "    </tr>\n",
       "  </tbody>\n",
       "</table>\n",
       "<p>2455 rows × 2 columns</p>\n",
       "</div>"
      ],
      "text/plain": [
       "predict                                             0.0  1.0\n",
       "pCo                                                         \n",
       "accessory fashion accessory bag luggage and bag...  0.0  1.0\n",
       "accessory fashion accessory jewellery gemstone      1.0  0.0\n",
       "aerial photography aerial bird's-eye view outdo...  1.0  0.0\n",
       "aerial photography bird's-eye view aerial           1.0  0.0\n",
       "airplane plane aircraft sky outdoor fighter air...  0.0  1.0\n",
       "...                                                 ...  ...\n",
       "window building                                     1.0  0.0\n",
       "window outdoor plant door building                  0.0  1.0\n",
       "window sky outdoor water                            1.0  0.0\n",
       "window water                                        1.0  0.0\n",
       "woman lipstick human face fashion eyelash makeo...  1.0  0.0\n",
       "\n",
       "[2455 rows x 2 columns]"
      ]
     },
     "execution_count": 146,
     "metadata": {},
     "output_type": "execute_result"
    }
   ],
   "source": [
    "ct12=pd.crosstab(df['pCo'],df['predict'], normalize='index')\n",
    "ct12"
   ]
  },
  {
   "cell_type": "code",
   "execution_count": 147,
   "metadata": {},
   "outputs": [
    {
     "data": {
      "text/html": [
       "<div>\n",
       "<style scoped>\n",
       "    .dataframe tbody tr th:only-of-type {\n",
       "        vertical-align: middle;\n",
       "    }\n",
       "\n",
       "    .dataframe tbody tr th {\n",
       "        vertical-align: top;\n",
       "    }\n",
       "\n",
       "    .dataframe thead th {\n",
       "        text-align: right;\n",
       "    }\n",
       "</style>\n",
       "<table border=\"1\" class=\"dataframe\">\n",
       "  <thead>\n",
       "    <tr style=\"text-align: right;\">\n",
       "      <th>predict</th>\n",
       "      <th>0.0</th>\n",
       "      <th>1.0</th>\n",
       "    </tr>\n",
       "    <tr>\n",
       "      <th>content</th>\n",
       "      <th></th>\n",
       "      <th></th>\n",
       "    </tr>\n",
       "  </thead>\n",
       "  <tbody>\n",
       "    <tr>\n",
       "      <th></th>\n",
       "      <td>0.738562</td>\n",
       "      <td>0.261438</td>\n",
       "    </tr>\n",
       "    <tr>\n",
       "      <th>1 2 3 4 Or 5 Which One Ice Cream Would You Choose Double Tap If You Would Eat One Of Them Or More Tag Someone To Make Her Him Hungry Follow _ For More DAILY Content Photos Credits page more lovers elicious _food</th>\n",
       "      <td>1.000000</td>\n",
       "      <td>0.000000</td>\n",
       "    </tr>\n",
       "    <tr>\n",
       "      <th>1a 1a joanna olive3 elec 0 joanna olive3 elec ing</th>\n",
       "      <td>0.000000</td>\n",
       "      <td>1.000000</td>\n",
       "    </tr>\n",
       "    <tr>\n",
       "      <th>2 flip combos am_den ing ing</th>\n",
       "      <td>0.000000</td>\n",
       "      <td>1.000000</td>\n",
       "    </tr>\n",
       "    <tr>\n",
       "      <th>2022Engin Erol 500px com e e photography</th>\n",
       "      <td>0.000000</td>\n",
       "      <td>1.000000</td>\n",
       "    </tr>\n",
       "    <tr>\n",
       "      <th>...</th>\n",
       "      <td>...</td>\n",
       "      <td>...</td>\n",
       "    </tr>\n",
       "    <tr>\n",
       "      <th>𝙁𝙤𝙡𝙡𝙤𝙬 𝙛𝙤𝙧 𝙢𝙤𝙧𝙚 Anonymous DM for credits removal if there s a mistake No copyright intended Check out our telegram channel by clicking on the link in bio Read awesome articles by clicking on the link in our bio DM us for Queries Original Content All rights reserved Like our content Follow us for more hashtags</th>\n",
       "      <td>1.000000</td>\n",
       "      <td>0.000000</td>\n",
       "    </tr>\n",
       "    <tr>\n",
       "      <th>𝙝𝙖𝙨 𝙥𝙤𝙨𝙩𝙚𝙙 ﾟ STEPH AND ALEX Can t believe I m gonna say this but I really miss True Colors and Chengrich I think I will replay the Game again because my first Run was with Ryan Artist Anonazure Reddit Credit 2 beforethestorm truecolors</th>\n",
       "      <td>1.000000</td>\n",
       "      <td>0.000000</td>\n",
       "    </tr>\n",
       "    <tr>\n",
       "      <th>𝚂𝚘𝚗𝚛𝚒𝚎 𝚊𝚗𝚝𝚎 𝚌𝚞𝚊𝚕𝚚𝚞𝚒𝚎𝚛 𝚊𝚍𝚟𝚎𝚛𝚜𝚒𝚍𝚊𝚍</th>\n",
       "      <td>1.000000</td>\n",
       "      <td>0.000000</td>\n",
       "    </tr>\n",
       "    <tr>\n",
       "      <th>𝚂𝚞𝚖𝚖𝚎𝚛 𝚖𝚘𝚍𝚎 𝚘𝚗</th>\n",
       "      <td>1.000000</td>\n",
       "      <td>0.000000</td>\n",
       "    </tr>\n",
       "    <tr>\n",
       "      <th>𝟖 𝐦𝐨𝐢𝐬 𝐞𝐭 𝐝𝐞𝐦𝐢𝟑 𝐞𝐦𝐞 𝐭𝐫𝐢𝐦𝐞𝐬𝐭𝐫𝐞 𝐣𝐞 𝐩𝐞𝐮𝐱 𝐞𝐧𝐟𝐢𝐧 𝐦𝐚𝐧𝐠𝐞𝐫 𝐭𝐨𝐮𝐭 𝐜𝐞 𝐪𝐮𝐞 𝐣𝐞 𝐬𝐨𝐮𝐡𝐚𝐢𝐭𝐞 𝐬𝐚𝐧𝐬 𝐞𝐭𝐫𝐞 𝐞𝐜𝐨𝐞𝐮𝐫𝐞𝐞 𝐂 𝐞𝐬𝐭 𝐜 𝐞𝐬𝐭 𝐬𝐮𝐫 𝐛𝐨𝐧𝐡𝐞𝐮𝐫 𝐄𝐧 𝐫𝐞𝐯𝐚𝐧𝐜𝐡𝐞 𝐯𝐞𝐧𝐭𝐫𝐞 𝐪𝐮𝐢 𝐭𝐢𝐫𝐞 𝐛𝐞𝐛𝐞 𝐪𝐮𝐢 𝐚𝐩𝐩𝐮𝐢𝐞 𝐛𝐢𝐞𝐧 𝐞𝐧 𝐛𝐚𝐬 𝐜𝐚 𝐜 𝐞𝐬𝐭 𝐦𝐨𝐢𝐧𝐬 𝐜𝐨𝐨𝐥 𝐌𝐞𝐫𝐜𝐢 𝐢𝐧𝐟𝐢𝐧𝐢𝐦𝐞𝐧𝐭 𝐚 photographe𝐏𝐨𝐮𝐫 𝐜𝐞 𝐦𝐚𝐠𝐧𝐢𝐟𝐢𝐪𝐮𝐞 𝐬𝐡𝐨𝐨𝐭𝐢𝐧𝐠𝐐𝐮𝐞 𝐝𝐞 𝐛𝐞𝐥𝐥𝐞𝐬 𝐩𝐡𝐨𝐭𝐨𝐬𝐒𝐢 𝐯𝐨𝐮𝐬 𝐬𝐚𝐯𝐢𝐞𝐳 𝐜𝐨𝐦𝐦𝐞𝐧𝐭 𝐣 𝐚𝐢 𝐞𝐮 𝐝𝐮 𝐦𝐚𝐥 𝐚 𝐥𝐞𝐬 𝐜𝐡𝐨𝐢𝐬𝐢𝐫 𝐭𝐚𝐧𝐭 𝐥𝐞 𝐭𝐫𝐚𝐯𝐚𝐢𝐥 𝐝𝐞 𝐥𝐚 𝐩𝐡𝐨𝐭𝐨𝐠𝐫𝐚𝐩𝐡𝐞 𝐞𝐭𝐚𝐢𝐭 𝐠𝐞𝐧𝐢𝐚𝐥𝐢𝐬𝐬𝐢𝐦𝐞𝐄𝐭 𝐭𝐨𝐢 𝐪𝐮 𝐞𝐧 𝐩𝐞𝐧𝐬𝐞𝐬 𝐭𝐮 photo diary life tobe girl style announcement myblogger</th>\n",
       "      <td>1.000000</td>\n",
       "      <td>0.000000</td>\n",
       "    </tr>\n",
       "  </tbody>\n",
       "</table>\n",
       "<p>2589 rows × 2 columns</p>\n",
       "</div>"
      ],
      "text/plain": [
       "predict                                                  0.0       1.0\n",
       "content                                                               \n",
       "                                                    0.738562  0.261438\n",
       " 1 2 3 4 Or 5 Which One Ice Cream Would You Cho...  1.000000  0.000000\n",
       " 1a 1a joanna olive3 elec 0 joanna olive3 elec ...  0.000000  1.000000\n",
       " 2 flip combos am_den ing ing                       0.000000  1.000000\n",
       " 2022Engin Erol 500px com e e photography           0.000000  1.000000\n",
       "...                                                      ...       ...\n",
       "𝙁𝙤𝙡𝙡𝙤𝙬 𝙛𝙤𝙧 𝙢𝙤𝙧𝙚 Anonymous DM for credits remova...  1.000000  0.000000\n",
       "𝙝𝙖𝙨 𝙥𝙤𝙨𝙩𝙚𝙙 ﾟ STEPH AND ALEX Can t believe I m g...  1.000000  0.000000\n",
       "𝚂𝚘𝚗𝚛𝚒𝚎 𝚊𝚗𝚝𝚎 𝚌𝚞𝚊𝚕𝚚𝚞𝚒𝚎𝚛 𝚊𝚍𝚟𝚎𝚛𝚜𝚒𝚍𝚊𝚍                    1.000000  0.000000\n",
       "𝚂𝚞𝚖𝚖𝚎𝚛 𝚖𝚘𝚍𝚎 𝚘𝚗                                      1.000000  0.000000\n",
       "𝟖 𝐦𝐨𝐢𝐬 𝐞𝐭 𝐝𝐞𝐦𝐢𝟑 𝐞𝐦𝐞 𝐭𝐫𝐢𝐦𝐞𝐬𝐭𝐫𝐞 𝐣𝐞 𝐩𝐞𝐮𝐱 𝐞𝐧𝐟𝐢𝐧 𝐦𝐚𝐧...  1.000000  0.000000\n",
       "\n",
       "[2589 rows x 2 columns]"
      ]
     },
     "execution_count": 147,
     "metadata": {},
     "output_type": "execute_result"
    }
   ],
   "source": [
    "ct13=pd.crosstab(df['content'],df['predict'], normalize='index')\n",
    "ct13"
   ]
  },
  {
   "cell_type": "code",
   "execution_count": 148,
   "metadata": {},
   "outputs": [
    {
     "data": {
      "text/html": [
       "<div>\n",
       "<style scoped>\n",
       "    .dataframe tbody tr th:only-of-type {\n",
       "        vertical-align: middle;\n",
       "    }\n",
       "\n",
       "    .dataframe tbody tr th {\n",
       "        vertical-align: top;\n",
       "    }\n",
       "\n",
       "    .dataframe thead th {\n",
       "        text-align: right;\n",
       "    }\n",
       "</style>\n",
       "<table border=\"1\" class=\"dataframe\">\n",
       "  <thead>\n",
       "    <tr style=\"text-align: right;\">\n",
       "      <th>predict</th>\n",
       "      <th>0.0</th>\n",
       "      <th>1.0</th>\n",
       "    </tr>\n",
       "    <tr>\n",
       "      <th>post_date</th>\n",
       "      <th></th>\n",
       "      <th></th>\n",
       "    </tr>\n",
       "  </thead>\n",
       "  <tbody>\n",
       "    <tr>\n",
       "      <th>1 DAY AGO</th>\n",
       "      <td>1.000000</td>\n",
       "      <td>0.000000</td>\n",
       "    </tr>\n",
       "    <tr>\n",
       "      <th>104w</th>\n",
       "      <td>1.000000</td>\n",
       "      <td>0.000000</td>\n",
       "    </tr>\n",
       "    <tr>\n",
       "      <th>10h</th>\n",
       "      <td>0.886792</td>\n",
       "      <td>0.113208</td>\n",
       "    </tr>\n",
       "    <tr>\n",
       "      <th>10w</th>\n",
       "      <td>1.000000</td>\n",
       "      <td>0.000000</td>\n",
       "    </tr>\n",
       "    <tr>\n",
       "      <th>113w</th>\n",
       "      <td>1.000000</td>\n",
       "      <td>0.000000</td>\n",
       "    </tr>\n",
       "    <tr>\n",
       "      <th>...</th>\n",
       "      <td>...</td>\n",
       "      <td>...</td>\n",
       "    </tr>\n",
       "    <tr>\n",
       "      <th>9w</th>\n",
       "      <td>0.000000</td>\n",
       "      <td>1.000000</td>\n",
       "    </tr>\n",
       "    <tr>\n",
       "      <th>Jun-01</th>\n",
       "      <td>0.000000</td>\n",
       "      <td>1.000000</td>\n",
       "    </tr>\n",
       "    <tr>\n",
       "      <th>Jun-02</th>\n",
       "      <td>1.000000</td>\n",
       "      <td>0.000000</td>\n",
       "    </tr>\n",
       "    <tr>\n",
       "      <th>Jun-04</th>\n",
       "      <td>1.000000</td>\n",
       "      <td>0.000000</td>\n",
       "    </tr>\n",
       "    <tr>\n",
       "      <th>May-29</th>\n",
       "      <td>1.000000</td>\n",
       "      <td>0.000000</td>\n",
       "    </tr>\n",
       "  </tbody>\n",
       "</table>\n",
       "<p>136 rows × 2 columns</p>\n",
       "</div>"
      ],
      "text/plain": [
       "predict         0.0       1.0\n",
       "post_date                    \n",
       "1 DAY AGO  1.000000  0.000000\n",
       "104w       1.000000  0.000000\n",
       "10h        0.886792  0.113208\n",
       "10w        1.000000  0.000000\n",
       "113w       1.000000  0.000000\n",
       "...             ...       ...\n",
       "9w         0.000000  1.000000\n",
       "Jun-01     0.000000  1.000000\n",
       "Jun-02     1.000000  0.000000\n",
       "Jun-04     1.000000  0.000000\n",
       "May-29     1.000000  0.000000\n",
       "\n",
       "[136 rows x 2 columns]"
      ]
     },
     "execution_count": 148,
     "metadata": {},
     "output_type": "execute_result"
    }
   ],
   "source": [
    "ct14=pd.crosstab(df['post_date'],df['predict'], normalize='index') # maybe normalize by columns\n",
    "ct14"
   ]
  },
  {
   "cell_type": "code",
   "execution_count": 149,
   "metadata": {},
   "outputs": [
    {
     "data": {
      "text/html": [
       "<div>\n",
       "<style scoped>\n",
       "    .dataframe tbody tr th:only-of-type {\n",
       "        vertical-align: middle;\n",
       "    }\n",
       "\n",
       "    .dataframe tbody tr th {\n",
       "        vertical-align: top;\n",
       "    }\n",
       "\n",
       "    .dataframe thead th {\n",
       "        text-align: right;\n",
       "    }\n",
       "</style>\n",
       "<table border=\"1\" class=\"dataframe\">\n",
       "  <thead>\n",
       "    <tr style=\"text-align: right;\">\n",
       "      <th>likes</th>\n",
       "      <th>2.0</th>\n",
       "      <th>3.0</th>\n",
       "      <th>5.0</th>\n",
       "      <th>7.0</th>\n",
       "      <th>8.0</th>\n",
       "      <th>9.0</th>\n",
       "      <th>10.0</th>\n",
       "      <th>12.0</th>\n",
       "      <th>18.0</th>\n",
       "      <th>20.0</th>\n",
       "      <th>...</th>\n",
       "      <th>311175.0</th>\n",
       "      <th>316556.0</th>\n",
       "      <th>353219.0</th>\n",
       "      <th>355610.0</th>\n",
       "      <th>413209.0</th>\n",
       "      <th>451068.0</th>\n",
       "      <th>573069.0</th>\n",
       "      <th>1011062.0</th>\n",
       "      <th>1757671.0</th>\n",
       "      <th>2028683.0</th>\n",
       "    </tr>\n",
       "    <tr>\n",
       "      <th>pic_vid</th>\n",
       "      <th></th>\n",
       "      <th></th>\n",
       "      <th></th>\n",
       "      <th></th>\n",
       "      <th></th>\n",
       "      <th></th>\n",
       "      <th></th>\n",
       "      <th></th>\n",
       "      <th></th>\n",
       "      <th></th>\n",
       "      <th></th>\n",
       "      <th></th>\n",
       "      <th></th>\n",
       "      <th></th>\n",
       "      <th></th>\n",
       "      <th></th>\n",
       "      <th></th>\n",
       "      <th></th>\n",
       "      <th></th>\n",
       "      <th></th>\n",
       "      <th></th>\n",
       "    </tr>\n",
       "  </thead>\n",
       "  <tbody>\n",
       "    <tr>\n",
       "      <th>0</th>\n",
       "      <td>0.000437</td>\n",
       "      <td>0.000875</td>\n",
       "      <td>0.000875</td>\n",
       "      <td>0.000437</td>\n",
       "      <td>0.000437</td>\n",
       "      <td>0.000437</td>\n",
       "      <td>0.000875</td>\n",
       "      <td>0.000875</td>\n",
       "      <td>0.000437</td>\n",
       "      <td>0.000437</td>\n",
       "      <td>...</td>\n",
       "      <td>0.000000</td>\n",
       "      <td>0.000000</td>\n",
       "      <td>0.000000</td>\n",
       "      <td>0.000000</td>\n",
       "      <td>0.000000</td>\n",
       "      <td>0.000437</td>\n",
       "      <td>0.000000</td>\n",
       "      <td>0.000000</td>\n",
       "      <td>0.000000</td>\n",
       "      <td>0.000000</td>\n",
       "    </tr>\n",
       "    <tr>\n",
       "      <th>1</th>\n",
       "      <td>0.000000</td>\n",
       "      <td>0.000000</td>\n",
       "      <td>0.000000</td>\n",
       "      <td>0.000000</td>\n",
       "      <td>0.000000</td>\n",
       "      <td>0.000000</td>\n",
       "      <td>0.000000</td>\n",
       "      <td>0.001984</td>\n",
       "      <td>0.000000</td>\n",
       "      <td>0.000000</td>\n",
       "      <td>...</td>\n",
       "      <td>0.001984</td>\n",
       "      <td>0.001984</td>\n",
       "      <td>0.001984</td>\n",
       "      <td>0.001984</td>\n",
       "      <td>0.001984</td>\n",
       "      <td>0.000000</td>\n",
       "      <td>0.001984</td>\n",
       "      <td>0.001984</td>\n",
       "      <td>0.001984</td>\n",
       "      <td>0.001984</td>\n",
       "    </tr>\n",
       "  </tbody>\n",
       "</table>\n",
       "<p>2 rows × 1603 columns</p>\n",
       "</div>"
      ],
      "text/plain": [
       "likes    2.0        3.0        5.0        7.0        8.0        9.0        \\\n",
       "pic_vid                                                                     \n",
       "0         0.000437   0.000875   0.000875   0.000437   0.000437   0.000437   \n",
       "1         0.000000   0.000000   0.000000   0.000000   0.000000   0.000000   \n",
       "\n",
       "likes    10.0       12.0       18.0       20.0       ...  311175.0   \\\n",
       "pic_vid                                              ...              \n",
       "0         0.000875   0.000875   0.000437   0.000437  ...   0.000000   \n",
       "1         0.000000   0.001984   0.000000   0.000000  ...   0.001984   \n",
       "\n",
       "likes    316556.0   353219.0   355610.0   413209.0   451068.0   573069.0   \\\n",
       "pic_vid                                                                     \n",
       "0         0.000000   0.000000   0.000000   0.000000   0.000437   0.000000   \n",
       "1         0.001984   0.001984   0.001984   0.001984   0.000000   0.001984   \n",
       "\n",
       "likes    1011062.0  1757671.0  2028683.0  \n",
       "pic_vid                                   \n",
       "0         0.000000   0.000000   0.000000  \n",
       "1         0.001984   0.001984   0.001984  \n",
       "\n",
       "[2 rows x 1603 columns]"
      ]
     },
     "execution_count": 149,
     "metadata": {},
     "output_type": "execute_result"
    }
   ],
   "source": [
    "ct15=pd.crosstab(df['pic_vid'],df['likes'], normalize='index') # maybe normalize by columns\n",
    "ct15"
   ]
  },
  {
   "cell_type": "code",
   "execution_count": 150,
   "metadata": {},
   "outputs": [
    {
     "data": {
      "text/plain": [
       "<seaborn.axisgrid.PairGrid at 0x1700e54e4a0>"
      ]
     },
     "execution_count": 150,
     "metadata": {},
     "output_type": "execute_result"
    },
    {
     "data": {
      "image/png": "[encoded data removed]",
      "text/plain": [
       "<Figure size 900x900 with 30 Axes>"
      ]
     },
     "metadata": {
      "needs_background": "light"
     },
     "output_type": "display_data"
    }
   ],
   "source": [
    "sns.pairplot(df[['likes','followers','celeb','hashtag_amount','predict']])"
   ]
  },
  {
   "cell_type": "code",
   "execution_count": 151,
   "metadata": {},
   "outputs": [
    {
     "data": {
      "image/png": "[encoded data removed]",
      "text/plain": [
       "<Figure size 432x288 with 2 Axes>"
      ]
     },
     "metadata": {
      "needs_background": "light"
     },
     "output_type": "display_data"
    }
   ],
   "source": [
    "# Creating a matrix using all columns\n",
    "df[['likes','followers','following','posts_amount','celeb','pic_vid',\n",
    "'hashtag_amount']].corr()\n",
    "\n",
    "# plot the correlation matrix\n",
    "sns.heatmap(df[['likes','followers','following','posts_amount','celeb','pic_vid',\n",
    "'hashtag_amount']].corr(), annot=True)\n",
    "plt.show()"
   ]
  },
  {
   "cell_type": "markdown",
   "metadata": {},
   "source": [
    "Here we will show some of the text analysis results"
   ]
  },
  {
   "cell_type": "markdown",
   "metadata": {},
   "source": [
    "Prepering the data to train and test"
   ]
  },
  {
   "cell_type": "code",
   "execution_count": 152,
   "metadata": {},
   "outputs": [],
   "source": [
    "X = df.copy()\n",
    "y = df['predict']\n",
    "X.drop(['id','hashtag','pCo','content','post_date','curr_date','predict'], axis=1, inplace=True) # drop everything not numerical\n",
    "\n",
    "X_train, X_test, y_train, y_test = train_test_split(X, y, test_size=0.3, random_state=41)"
   ]
  },
  {
   "cell_type": "code",
   "execution_count": 153,
   "metadata": {},
   "outputs": [
    {
     "name": "stdout",
     "output_type": "stream",
     "text": [
      "        likes  following  followers  posts_amount  celeb  pic_vid  \\\n",
      "5641  81133.0      116.0   162000.0         173.0      0        1   \n",
      "947     266.0      261.0     1524.0         229.0      0        1   \n",
      "6177    825.0     1540.0    71200.0        1515.0      0        0   \n",
      "6591    221.0      194.0     1810.0          61.0      0        0   \n",
      "1434    748.0      614.0     4938.0          63.0      0        0   \n",
      "...       ...        ...        ...           ...    ...      ...   \n",
      "656     715.0      157.0    24600.0         414.0      0        0   \n",
      "833    1285.0      164.0    23400.0        1361.0      0        0   \n",
      "3149   1190.0       51.0      943.0         502.0      0        0   \n",
      "2696    133.0     1285.0     1708.0        1550.0      0        0   \n",
      "5567   2570.0     6430.0    32900.0         270.0      0        1   \n",
      "\n",
      "      hashtag_amount  \n",
      "5641              27  \n",
      "947               22  \n",
      "6177              23  \n",
      "6591              28  \n",
      "1434               0  \n",
      "...              ...  \n",
      "656                8  \n",
      "833               24  \n",
      "3149              31  \n",
      "2696              30  \n",
      "5567              29  \n",
      "\n",
      "[1953 rows x 7 columns]\n"
     ]
    }
   ],
   "source": [
    "print(X_train)"
   ]
  },
  {
   "cell_type": "markdown",
   "metadata": {},
   "source": [
    "Scaling the X_train with MinMaxScaler"
   ]
  },
  {
   "cell_type": "code",
   "execution_count": 154,
   "metadata": {},
   "outputs": [],
   "source": [
    "# minmax scaler\n",
    "scaler = MinMaxScaler(feature_range=(0,1))\n",
    "X_train_scaled_minmax = scaler.fit_transform(X_train)"
   ]
  },
  {
   "cell_type": "markdown",
   "metadata": {},
   "source": [
    "OR we can use the following scaling"
   ]
  },
  {
   "cell_type": "code",
   "execution_count": 155,
   "metadata": {},
   "outputs": [],
   "source": [
    "# standard scaler\n",
    "standard_scaler = StandardScaler()\n",
    "X_test_stand_scaled = standard_scaler.fit_transform(X_train)"
   ]
  },
  {
   "cell_type": "code",
   "execution_count": 163,
   "metadata": {},
   "outputs": [
    {
     "name": "stdout",
     "output_type": "stream",
     "text": [
      "        likes  following  followers  posts_amount  celeb  pic_vid  \\\n",
      "5641  81133.0      116.0   162000.0         173.0      0        1   \n",
      "947     266.0      261.0     1524.0         229.0      0        1   \n",
      "6177    825.0     1540.0    71200.0        1515.0      0        0   \n",
      "6591    221.0      194.0     1810.0          61.0      0        0   \n",
      "1434    748.0      614.0     4938.0          63.0      0        0   \n",
      "...       ...        ...        ...           ...    ...      ...   \n",
      "656     715.0      157.0    24600.0         414.0      0        0   \n",
      "833    1285.0      164.0    23400.0        1361.0      0        0   \n",
      "3149   1190.0       51.0      943.0         502.0      0        0   \n",
      "2696    133.0     1285.0     1708.0        1550.0      0        0   \n",
      "5567   2570.0     6430.0    32900.0         270.0      0        1   \n",
      "\n",
      "      hashtag_amount  \n",
      "5641              27  \n",
      "947               22  \n",
      "6177              23  \n",
      "6591              28  \n",
      "1434               0  \n",
      "...              ...  \n",
      "656                8  \n",
      "833               24  \n",
      "3149              31  \n",
      "2696              30  \n",
      "5567              29  \n",
      "\n",
      "[1953 rows x 7 columns]\n"
     ]
    }
   ],
   "source": [
    "print(X_train)"
   ]
  },
  {
   "cell_type": "code",
   "execution_count": 164,
   "metadata": {},
   "outputs": [
    {
     "name": "stdout",
     "output_type": "stream",
     "text": [
      "[[-0.1200098  -0.67647465 -0.27380326 ... -0.17181471 -0.48748598\n",
      "   1.11139608]\n",
      " [-0.12364002  0.15278366  0.09356642 ... -0.17181471 -0.48748598\n",
      "   1.11139608]\n",
      " [-0.12651323 -0.18366821 -0.29118442 ... -0.17181471 -0.48748598\n",
      "  -1.64594355]\n",
      " ...\n",
      " [-0.06825767 -0.67415829  0.94257405 ... -0.17181471 -0.48748598\n",
      "  -0.05517069]\n",
      " [-0.10249529  0.77936012 -0.28999706 ... -0.17181471 -0.48748598\n",
      "  -0.37332526]\n",
      " [ 0.16359461 -0.63999192  0.0747692  ... -0.17181471  2.05134102\n",
      "  -0.37332526]]\n"
     ]
    }
   ],
   "source": [
    "print(X_test_stand_scaled)"
   ]
  },
  {
   "cell_type": "markdown",
   "metadata": {},
   "source": [
    "Now scaling the X_test"
   ]
  },
  {
   "cell_type": "code",
   "execution_count": 156,
   "metadata": {},
   "outputs": [],
   "source": [
    "X_train_scaled_minmax = scaler.transform(X_test)"
   ]
  },
  {
   "cell_type": "code",
   "execution_count": 157,
   "metadata": {},
   "outputs": [],
   "source": [
    "X_test_stand_scaled = standard_scaler.transform(X_test)"
   ]
  },
  {
   "cell_type": "markdown",
   "metadata": {},
   "source": [
    "Now Lets train our data!!"
   ]
  },
  {
   "cell_type": "code",
   "execution_count": 160,
   "metadata": {},
   "outputs": [],
   "source": [
    "model_minmax = LogisticRegression(random_state=0).fit(X_train, y_train)"
   ]
  },
  {
   "cell_type": "code",
   "execution_count": 161,
   "metadata": {},
   "outputs": [
    {
     "ename": "ValueError",
     "evalue": "Found input variables with inconsistent numbers of samples: [837, 1953]",
     "output_type": "error",
     "traceback": [
      "\u001b[1;31m---------------------------------------------------------------------------\u001b[0m",
      "\u001b[1;31mValueError\u001b[0m                                Traceback (most recent call last)",
      "\u001b[1;32mc:\\Users\\orenp\\Documents\\HIT\\שנה ב סמסטר ב\\מדעי הנתונים\\project\\Instagram-Prediction---Data-Analysis\\dataAnalysis.ipynb Cell 82'\u001b[0m in \u001b[0;36m<cell line: 1>\u001b[1;34m()\u001b[0m\n\u001b[1;32m----> <a href='vscode-notebook-cell:/c%3A/Users/orenp/Documents/HIT/%D7%A9%D7%A0%D7%94%20%D7%91%20%D7%A1%D7%9E%D7%A1%D7%98%D7%A8%20%D7%91/%D7%9E%D7%93%D7%A2%D7%99%20%D7%94%D7%A0%D7%AA%D7%95%D7%A0%D7%99%D7%9D/project/Instagram-Prediction---Data-Analysis/dataAnalysis.ipynb#ch0000106?line=0'>1</a>\u001b[0m model_stand \u001b[39m=\u001b[39m LogisticRegression(random_state\u001b[39m=\u001b[39;49m\u001b[39m0\u001b[39;49m)\u001b[39m.\u001b[39;49mfit(X_test_stand_scaled, y_train)\n",
      "File \u001b[1;32mc:\\Python310\\lib\\site-packages\\sklearn\\linear_model\\_logistic.py:1508\u001b[0m, in \u001b[0;36mLogisticRegression.fit\u001b[1;34m(self, X, y, sample_weight)\u001b[0m\n\u001b[0;32m   1505\u001b[0m \u001b[39melse\u001b[39;00m:\n\u001b[0;32m   1506\u001b[0m     _dtype \u001b[39m=\u001b[39m [np\u001b[39m.\u001b[39mfloat64, np\u001b[39m.\u001b[39mfloat32]\n\u001b[1;32m-> 1508\u001b[0m X, y \u001b[39m=\u001b[39m \u001b[39mself\u001b[39;49m\u001b[39m.\u001b[39;49m_validate_data(\n\u001b[0;32m   1509\u001b[0m     X,\n\u001b[0;32m   1510\u001b[0m     y,\n\u001b[0;32m   1511\u001b[0m     accept_sparse\u001b[39m=\u001b[39;49m\u001b[39m\"\u001b[39;49m\u001b[39mcsr\u001b[39;49m\u001b[39m\"\u001b[39;49m,\n\u001b[0;32m   1512\u001b[0m     dtype\u001b[39m=\u001b[39;49m_dtype,\n\u001b[0;32m   1513\u001b[0m     order\u001b[39m=\u001b[39;49m\u001b[39m\"\u001b[39;49m\u001b[39mC\u001b[39;49m\u001b[39m\"\u001b[39;49m,\n\u001b[0;32m   1514\u001b[0m     accept_large_sparse\u001b[39m=\u001b[39;49msolver \u001b[39mnot\u001b[39;49;00m \u001b[39min\u001b[39;49;00m [\u001b[39m\"\u001b[39;49m\u001b[39mliblinear\u001b[39;49m\u001b[39m\"\u001b[39;49m, \u001b[39m\"\u001b[39;49m\u001b[39msag\u001b[39;49m\u001b[39m\"\u001b[39;49m, \u001b[39m\"\u001b[39;49m\u001b[39msaga\u001b[39;49m\u001b[39m\"\u001b[39;49m],\n\u001b[0;32m   1515\u001b[0m )\n\u001b[0;32m   1516\u001b[0m check_classification_targets(y)\n\u001b[0;32m   1517\u001b[0m \u001b[39mself\u001b[39m\u001b[39m.\u001b[39mclasses_ \u001b[39m=\u001b[39m np\u001b[39m.\u001b[39munique(y)\n",
      "File \u001b[1;32mc:\\Python310\\lib\\site-packages\\sklearn\\base.py:581\u001b[0m, in \u001b[0;36mBaseEstimator._validate_data\u001b[1;34m(self, X, y, reset, validate_separately, **check_params)\u001b[0m\n\u001b[0;32m    579\u001b[0m         y \u001b[39m=\u001b[39m check_array(y, \u001b[39m*\u001b[39m\u001b[39m*\u001b[39mcheck_y_params)\n\u001b[0;32m    580\u001b[0m     \u001b[39melse\u001b[39;00m:\n\u001b[1;32m--> 581\u001b[0m         X, y \u001b[39m=\u001b[39m check_X_y(X, y, \u001b[39m*\u001b[39m\u001b[39m*\u001b[39mcheck_params)\n\u001b[0;32m    582\u001b[0m     out \u001b[39m=\u001b[39m X, y\n\u001b[0;32m    584\u001b[0m \u001b[39mif\u001b[39;00m \u001b[39mnot\u001b[39;00m no_val_X \u001b[39mand\u001b[39;00m check_params\u001b[39m.\u001b[39mget(\u001b[39m\"\u001b[39m\u001b[39mensure_2d\u001b[39m\u001b[39m\"\u001b[39m, \u001b[39mTrue\u001b[39;00m):\n",
      "File \u001b[1;32mc:\\Python310\\lib\\site-packages\\sklearn\\utils\\validation.py:981\u001b[0m, in \u001b[0;36mcheck_X_y\u001b[1;34m(X, y, accept_sparse, accept_large_sparse, dtype, order, copy, force_all_finite, ensure_2d, allow_nd, multi_output, ensure_min_samples, ensure_min_features, y_numeric, estimator)\u001b[0m\n\u001b[0;32m    964\u001b[0m X \u001b[39m=\u001b[39m check_array(\n\u001b[0;32m    965\u001b[0m     X,\n\u001b[0;32m    966\u001b[0m     accept_sparse\u001b[39m=\u001b[39maccept_sparse,\n\u001b[1;32m   (...)\u001b[0m\n\u001b[0;32m    976\u001b[0m     estimator\u001b[39m=\u001b[39mestimator,\n\u001b[0;32m    977\u001b[0m )\n\u001b[0;32m    979\u001b[0m y \u001b[39m=\u001b[39m _check_y(y, multi_output\u001b[39m=\u001b[39mmulti_output, y_numeric\u001b[39m=\u001b[39my_numeric)\n\u001b[1;32m--> 981\u001b[0m check_consistent_length(X, y)\n\u001b[0;32m    983\u001b[0m \u001b[39mreturn\u001b[39;00m X, y\n",
      "File \u001b[1;32mc:\\Python310\\lib\\site-packages\\sklearn\\utils\\validation.py:332\u001b[0m, in \u001b[0;36mcheck_consistent_length\u001b[1;34m(*arrays)\u001b[0m\n\u001b[0;32m    330\u001b[0m uniques \u001b[39m=\u001b[39m np\u001b[39m.\u001b[39munique(lengths)\n\u001b[0;32m    331\u001b[0m \u001b[39mif\u001b[39;00m \u001b[39mlen\u001b[39m(uniques) \u001b[39m>\u001b[39m \u001b[39m1\u001b[39m:\n\u001b[1;32m--> 332\u001b[0m     \u001b[39mraise\u001b[39;00m \u001b[39mValueError\u001b[39;00m(\n\u001b[0;32m    333\u001b[0m         \u001b[39m\"\u001b[39m\u001b[39mFound input variables with inconsistent numbers of samples: \u001b[39m\u001b[39m%r\u001b[39;00m\u001b[39m\"\u001b[39m\n\u001b[0;32m    334\u001b[0m         \u001b[39m%\u001b[39m [\u001b[39mint\u001b[39m(l) \u001b[39mfor\u001b[39;00m l \u001b[39min\u001b[39;00m lengths]\n\u001b[0;32m    335\u001b[0m     )\n",
      "\u001b[1;31mValueError\u001b[0m: Found input variables with inconsistent numbers of samples: [837, 1953]"
     ]
    }
   ],
   "source": [
    "model_stand = LogisticRegression(random_state=0).fit(X_test_stand_scaled, y_train)"
   ]
  },
  {
   "cell_type": "code",
   "execution_count": null,
   "metadata": {},
   "outputs": [
    {
     "data": {
      "text/plain": [
       "array([0., 0., 0., 0., 0., 0., 0., 0., 0., 0., 0., 0., 1., 0., 0., 1., 1.,\n",
       "       1., 0., 0., 0., 0., 0., 0., 0., 0., 0., 0., 1., 0., 0., 0., 0., 0.,\n",
       "       1., 0., 0., 0., 0., 0., 0., 0., 1., 0., 0., 0., 0., 0., 0., 0., 0.,\n",
       "       1., 0., 0., 0., 0., 1., 0., 1., 0., 0., 0., 0., 1., 0., 1., 0., 0.,\n",
       "       0., 0., 0., 0., 1., 0., 1., 0., 0., 0., 0., 0., 1., 0., 0., 0., 0.,\n",
       "       0., 0., 0., 0., 0., 0., 0., 0., 0., 0., 1., 0., 0., 0., 0., 0., 0.,\n",
       "       0., 1., 1., 0., 0., 0., 0., 1., 0., 1., 1., 0., 0., 0., 0., 1., 0.,\n",
       "       0., 0., 0., 0., 0., 1., 0., 0., 0., 0., 0., 0., 0., 0., 1., 1., 1.,\n",
       "       1., 1., 0., 0., 0., 0., 0., 0., 0., 0., 0., 0., 0., 0., 0., 0., 0.,\n",
       "       0., 1., 0., 0., 1., 0., 0., 0., 0., 0., 0., 0., 0., 0., 1., 0., 0.,\n",
       "       0., 0., 1., 1., 0., 0., 0., 0., 1., 0., 0., 0., 0., 0., 0., 1., 1.,\n",
       "       1., 0., 1., 0., 0., 0., 0., 0., 0., 0., 0., 1., 0., 0., 0., 0., 0.,\n",
       "       0., 0., 0., 0., 0., 0., 0., 0., 0., 0., 0., 0., 0., 0., 1., 1., 0.,\n",
       "       0., 0., 0., 1., 0., 0., 0., 1., 0., 0., 0., 0., 0., 0., 0., 0., 1.,\n",
       "       1., 0., 0., 0., 0., 0., 0., 0., 0., 0., 0., 1., 0., 1., 0., 0., 1.,\n",
       "       0., 0., 0., 0., 0., 0., 0., 0., 0., 1., 0., 1., 0., 0., 0., 0., 0.,\n",
       "       0., 0., 0., 0., 0., 0., 0., 0., 0., 1., 0., 0., 0., 0., 0., 0., 0.,\n",
       "       1., 0., 1., 0., 0., 0., 0., 0., 0., 0., 1., 0., 0., 0., 0., 0., 0.,\n",
       "       0., 0., 0., 0., 0., 0., 1., 0., 0., 1., 1., 0., 0., 0., 0., 0., 0.,\n",
       "       0., 0., 0., 0., 0., 0., 0., 0., 0., 0., 1., 0., 0., 0., 0., 0., 0.,\n",
       "       0., 0., 0., 0., 1., 0., 0., 0., 0., 0., 0., 0., 0., 0., 1., 0., 0.,\n",
       "       0., 0., 0., 0., 0., 0., 0., 0., 0., 0., 0., 0., 0., 0., 0., 0., 0.,\n",
       "       0., 0., 0., 0., 0., 1., 0., 0., 0., 0., 0., 0., 0., 0., 0., 0., 1.,\n",
       "       0., 0., 0., 0., 0., 0., 1., 1., 1., 0., 0., 0., 1., 0., 0., 0., 0.,\n",
       "       0., 0., 0., 0., 0., 0., 0., 0., 0., 0., 0., 0., 1., 0., 0., 0., 0.,\n",
       "       1., 0., 0., 0., 0., 0., 0., 0., 0., 0., 0., 0., 0., 0., 1., 0., 0.,\n",
       "       0., 0., 0., 0., 0., 0., 0., 0., 0., 0., 0., 1., 0., 1., 0., 0., 0.,\n",
       "       0., 1., 1., 0., 0., 0., 0., 0., 0., 0., 0., 0., 0., 0., 0., 0., 0.,\n",
       "       0., 0., 1., 0., 0., 0., 0., 1., 0., 1., 0., 1., 0., 0., 0., 0., 0.,\n",
       "       0., 0., 0., 0., 0., 1., 0., 0., 0., 1., 0., 0., 0., 0., 1., 0., 0.,\n",
       "       0., 1., 0., 0., 0., 0., 0., 0., 1., 1., 0., 1., 0., 0., 0., 0., 0.,\n",
       "       1., 0., 0., 0., 0., 0., 0., 0., 0., 0., 0., 0., 1., 0., 0., 0., 0.,\n",
       "       0., 0., 0., 0., 0., 0., 0., 0., 0., 0., 1., 0., 0., 0., 0., 0., 0.,\n",
       "       0., 0., 0., 0., 1., 0., 0., 1., 0., 0., 0., 0., 1., 1., 0., 0., 0.,\n",
       "       0., 0., 0., 0., 0., 0., 0., 0., 0., 0., 0., 0., 0., 0., 0., 0., 0.,\n",
       "       0., 0., 1., 0., 0., 0., 0., 0., 1., 0., 0., 1., 0., 0., 0., 0., 0.,\n",
       "       0., 1., 0., 1., 0., 0., 1., 1., 1., 0., 0., 0., 0., 1., 0., 0., 0.,\n",
       "       0., 0., 0., 0., 0., 0., 0., 0., 1., 0., 0., 0., 0., 0., 0., 0., 1.,\n",
       "       0., 1., 1., 0., 0., 0., 0., 0., 0., 0., 0., 0., 1., 0., 0., 0., 1.,\n",
       "       0., 0., 0., 0., 0., 0., 0., 0., 0., 0., 1., 0., 0., 0., 0., 0., 0.,\n",
       "       0., 0., 0., 0., 0., 0., 0., 0., 0., 0., 0., 0., 0., 0., 0., 0., 0.,\n",
       "       0., 0., 0., 0., 0., 0., 0., 0., 0., 0., 0., 0., 0., 0., 0., 0., 0.,\n",
       "       0., 0., 0., 1., 0., 0., 0., 0., 1., 0., 1., 0., 0., 0., 1., 0., 0.,\n",
       "       0., 0., 0., 0., 0., 0., 0., 1., 0., 0., 0., 0., 1., 0., 1., 0., 0.,\n",
       "       1., 0., 0., 1., 1., 0., 0., 0., 0., 0., 1., 0., 1., 0., 0., 0., 0.,\n",
       "       0., 0., 0., 0., 0., 0., 0., 1., 0., 0., 0., 0., 0., 0., 0., 1., 0.,\n",
       "       1., 0., 0., 1., 0., 1., 0., 0., 1., 0., 1., 0., 0., 0., 0., 0., 0.,\n",
       "       0., 0., 0., 1., 0., 0., 1., 0., 1., 0., 0., 0., 0., 0., 0., 0., 0.,\n",
       "       0., 0., 0., 0., 0., 0., 0., 0., 0., 0., 0., 0., 0., 0., 0., 0., 0.,\n",
       "       1., 0., 0., 0., 0., 0., 0.])"
      ]
     },
     "execution_count": 71,
     "metadata": {},
     "output_type": "execute_result"
    }
   ],
   "source": [
    "model_minmax.predict(X_test)"
   ]
  },
  {
   "cell_type": "markdown",
   "metadata": {},
   "source": [
    "Now lets predict"
   ]
  },
  {
   "cell_type": "code",
   "execution_count": null,
   "metadata": {},
   "outputs": [
    {
     "name": "stdout",
     "output_type": "stream",
     "text": [
      "      Actual  Predicted\n",
      "6818     0.0        0.0\n",
      "4720     0.0        0.0\n",
      "121      0.0        0.0\n",
      "899      0.0        0.0\n",
      "1302     0.0        0.0\n",
      "...      ...        ...\n",
      "6537     0.0        0.0\n",
      "5690     0.0        0.0\n",
      "553      0.0        0.0\n",
      "7244     0.0        0.0\n",
      "936      0.0        0.0\n",
      "\n",
      "[840 rows x 2 columns]\n"
     ]
    }
   ],
   "source": [
    "y_pred = model_minmax.predict(X_test)\n",
    "redDF = pd.DataFrame({\"Actual\":y_test,\"Predicted\":y_pred})\n",
    "print(redDF)"
   ]
  },
  {
   "cell_type": "code",
   "execution_count": null,
   "metadata": {},
   "outputs": [],
   "source": [
    "y_pred = model_stand.predict(X_test)\n",
    "redDF = pd.DataFrame({\"Actual\":y_test,\"Predicted\":y_pred})\n",
    "print(redDF)"
   ]
  },
  {
   "cell_type": "code",
   "execution_count": null,
   "metadata": {},
   "outputs": [],
   "source": [
    "model_stand.predict(X_test)"
   ]
  },
  {
   "cell_type": "code",
   "execution_count": null,
   "metadata": {},
   "outputs": [
    {
     "data": {
      "text/plain": [
       "0.9163636363636363"
      ]
     },
     "execution_count": 73,
     "metadata": {},
     "output_type": "execute_result"
    }
   ],
   "source": [
    "# measure of the test's accuracy and precision\n",
    "f1_score(y_test, y_pred)"
   ]
  },
  {
   "cell_type": "code",
   "execution_count": null,
   "metadata": {},
   "outputs": [
    {
     "data": {
      "text/plain": [
       "0.9163636363636363"
      ]
     },
     "execution_count": 74,
     "metadata": {},
     "output_type": "execute_result"
    }
   ],
   "source": [
    "metrics.f1_score(y_true=y_test,y_pred=y_pred)"
   ]
  },
  {
   "cell_type": "code",
   "execution_count": null,
   "metadata": {},
   "outputs": [
    {
     "data": {
      "text/plain": [
       "0.8082857851649714"
      ]
     },
     "execution_count": 75,
     "metadata": {},
     "output_type": "execute_result"
    }
   ],
   "source": [
    "# the score means that the the two variables are perfectly correlated if 100%\n",
    "r2_score(y_test, y_pred)"
   ]
  },
  {
   "cell_type": "code",
   "execution_count": null,
   "metadata": {},
   "outputs": [
    {
     "data": {
      "text/plain": [
       "0.8082857851649714"
      ]
     },
     "execution_count": 76,
     "metadata": {},
     "output_type": "execute_result"
    }
   ],
   "source": [
    "metrics.r2_score(y_true=y_test,y_pred=y_pred)"
   ]
  },
  {
   "cell_type": "code",
   "execution_count": null,
   "metadata": {},
   "outputs": [
    {
     "data": {
      "text/plain": [
       "0.9726190476190476"
      ]
     },
     "execution_count": 77,
     "metadata": {},
     "output_type": "execute_result"
    }
   ],
   "source": [
    "metrics.accuracy_score(y_true=y_test,y_pred=y_pred)"
   ]
  },
  {
   "cell_type": "code",
   "execution_count": null,
   "metadata": {},
   "outputs": [
    {
     "data": {
      "text/plain": [
       "0.9692307692307692"
      ]
     },
     "execution_count": 78,
     "metadata": {},
     "output_type": "execute_result"
    }
   ],
   "source": [
    "metrics.precision_score(y_true=y_test,y_pred=y_pred)"
   ]
  },
  {
   "cell_type": "code",
   "execution_count": null,
   "metadata": {},
   "outputs": [
    {
     "data": {
      "text/plain": [
       "0.8689655172413793"
      ]
     },
     "execution_count": 79,
     "metadata": {},
     "output_type": "execute_result"
    }
   ],
   "source": [
    "metrics.recall_score(y_true=y_test,y_pred=y_pred)"
   ]
  },
  {
   "cell_type": "code",
   "execution_count": null,
   "metadata": {},
   "outputs": [
    {
     "data": {
      "text/plain": [
       "array([[691,   4],\n",
       "       [ 19, 126]], dtype=int64)"
      ]
     },
     "execution_count": 80,
     "metadata": {},
     "output_type": "execute_result"
    }
   ],
   "source": [
    "metrics.confusion_matrix(y_true=y_test,y_pred=y_pred)"
   ]
  },
  {
   "cell_type": "markdown",
   "metadata": {},
   "source": [
    "As we can see above we got 2 models with different evaluations"
   ]
  },
  {
   "cell_type": "markdown",
   "metadata": {},
   "source": [
    "Now we will do some text exploration"
   ]
  },
  {
   "cell_type": "markdown",
   "metadata": {},
   "source": [
    "Word distribution"
   ]
  },
  {
   "cell_type": "code",
   "execution_count": null,
   "metadata": {},
   "outputs": [
    {
     "ename": "AttributeError",
     "evalue": "'Series' object has no attribute 'lower'",
     "output_type": "error",
     "traceback": [
      "\u001b[1;31m---------------------------------------------------------------------------\u001b[0m",
      "\u001b[1;31mAttributeError\u001b[0m                            Traceback (most recent call last)",
      "\u001b[1;32mc:\\Users\\orenp\\Documents\\HIT\\שנה ב סמסטר ב\\מדעי הנתונים\\project\\Instagram-Prediction---Data-Analysis\\dataAnalysis.ipynb Cell 96'\u001b[0m in \u001b[0;36m<cell line: 2>\u001b[1;34m()\u001b[0m\n\u001b[0;32m      <a href='vscode-notebook-cell:/c%3A/Users/orenp/Documents/HIT/%D7%A9%D7%A0%D7%94%20%D7%91%20%D7%A1%D7%9E%D7%A1%D7%98%D7%A8%20%D7%91/%D7%9E%D7%93%D7%A2%D7%99%20%D7%94%D7%A0%D7%AA%D7%95%D7%A0%D7%99%D7%9D/project/Instagram-Prediction---Data-Analysis/dataAnalysis.ipynb#ch0000094?line=0'>1</a>\u001b[0m vectorizer\u001b[39m=\u001b[39mCountVectorizer(stop_words\u001b[39m=\u001b[39m\u001b[39m\"\u001b[39m\u001b[39menglish\u001b[39m\u001b[39m\"\u001b[39m)\n\u001b[1;32m----> <a href='vscode-notebook-cell:/c%3A/Users/orenp/Documents/HIT/%D7%A9%D7%A0%D7%94%20%D7%91%20%D7%A1%D7%9E%D7%A1%D7%98%D7%A8%20%D7%91/%D7%9E%D7%93%D7%A2%D7%99%20%D7%94%D7%A0%D7%AA%D7%95%D7%A0%D7%99%D7%9D/project/Instagram-Prediction---Data-Analysis/dataAnalysis.ipynb#ch0000094?line=1'>2</a>\u001b[0m freq_vec\u001b[39m=\u001b[39mvectorizer\u001b[39m.\u001b[39;49mfit_transform([df[\u001b[39m'\u001b[39;49m\u001b[39mhashtag\u001b[39;49m\u001b[39m'\u001b[39;49m]])\u001b[39m.\u001b[39mtoarray() \u001b[39m# the function requires as input an array of docs..\u001b[39;00m\n\u001b[0;32m      <a href='vscode-notebook-cell:/c%3A/Users/orenp/Documents/HIT/%D7%A9%D7%A0%D7%94%20%D7%91%20%D7%A1%D7%9E%D7%A1%D7%98%D7%A8%20%D7%91/%D7%9E%D7%93%D7%A2%D7%99%20%D7%94%D7%A0%D7%AA%D7%95%D7%A0%D7%99%D7%9D/project/Instagram-Prediction---Data-Analysis/dataAnalysis.ipynb#ch0000094?line=2'>3</a>\u001b[0m freqDist\u001b[39m=\u001b[39m\u001b[39mdict\u001b[39m(\u001b[39mzip\u001b[39m(vectorizer\u001b[39m.\u001b[39mget_feature_names(),freq_vec[\u001b[39m0\u001b[39m])) \u001b[39m# create a dictionary from the first (and only) row\u001b[39;00m\n\u001b[0;32m      <a href='vscode-notebook-cell:/c%3A/Users/orenp/Documents/HIT/%D7%A9%D7%A0%D7%94%20%D7%91%20%D7%A1%D7%9E%D7%A1%D7%98%D7%A8%20%D7%91/%D7%9E%D7%93%D7%A2%D7%99%20%D7%94%D7%A0%D7%AA%D7%95%D7%A0%D7%99%D7%9D/project/Instagram-Prediction---Data-Analysis/dataAnalysis.ipynb#ch0000094?line=3'>4</a>\u001b[0m freqDist\u001b[39m=\u001b[39m\u001b[39mdict\u001b[39m(\u001b[39msorted\u001b[39m(freqDist\u001b[39m.\u001b[39mitems(), key\u001b[39m=\u001b[39m\u001b[39mlambda\u001b[39;00m item: item[\u001b[39m1\u001b[39m],reverse\u001b[39m=\u001b[39m\u001b[39mTrue\u001b[39;00m))\n",
      "File \u001b[1;32mc:\\Python310\\lib\\site-packages\\sklearn\\feature_extraction\\text.py:1330\u001b[0m, in \u001b[0;36mCountVectorizer.fit_transform\u001b[1;34m(self, raw_documents, y)\u001b[0m\n\u001b[0;32m   1322\u001b[0m             warnings\u001b[39m.\u001b[39mwarn(\n\u001b[0;32m   1323\u001b[0m                 \u001b[39m\"\u001b[39m\u001b[39mUpper case characters found in\u001b[39m\u001b[39m\"\u001b[39m\n\u001b[0;32m   1324\u001b[0m                 \u001b[39m\"\u001b[39m\u001b[39m vocabulary while \u001b[39m\u001b[39m'\u001b[39m\u001b[39mlowercase\u001b[39m\u001b[39m'\u001b[39m\u001b[39m\"\u001b[39m\n\u001b[0;32m   1325\u001b[0m                 \u001b[39m\"\u001b[39m\u001b[39m is True. These entries will not\u001b[39m\u001b[39m\"\u001b[39m\n\u001b[0;32m   1326\u001b[0m                 \u001b[39m\"\u001b[39m\u001b[39m be matched with any documents\u001b[39m\u001b[39m\"\u001b[39m\n\u001b[0;32m   1327\u001b[0m             )\n\u001b[0;32m   1328\u001b[0m             \u001b[39mbreak\u001b[39;00m\n\u001b[1;32m-> 1330\u001b[0m vocabulary, X \u001b[39m=\u001b[39m \u001b[39mself\u001b[39;49m\u001b[39m.\u001b[39;49m_count_vocab(raw_documents, \u001b[39mself\u001b[39;49m\u001b[39m.\u001b[39;49mfixed_vocabulary_)\n\u001b[0;32m   1332\u001b[0m \u001b[39mif\u001b[39;00m \u001b[39mself\u001b[39m\u001b[39m.\u001b[39mbinary:\n\u001b[0;32m   1333\u001b[0m     X\u001b[39m.\u001b[39mdata\u001b[39m.\u001b[39mfill(\u001b[39m1\u001b[39m)\n",
      "File \u001b[1;32mc:\\Python310\\lib\\site-packages\\sklearn\\feature_extraction\\text.py:1201\u001b[0m, in \u001b[0;36mCountVectorizer._count_vocab\u001b[1;34m(self, raw_documents, fixed_vocab)\u001b[0m\n\u001b[0;32m   1199\u001b[0m \u001b[39mfor\u001b[39;00m doc \u001b[39min\u001b[39;00m raw_documents:\n\u001b[0;32m   1200\u001b[0m     feature_counter \u001b[39m=\u001b[39m {}\n\u001b[1;32m-> 1201\u001b[0m     \u001b[39mfor\u001b[39;00m feature \u001b[39min\u001b[39;00m analyze(doc):\n\u001b[0;32m   1202\u001b[0m         \u001b[39mtry\u001b[39;00m:\n\u001b[0;32m   1203\u001b[0m             feature_idx \u001b[39m=\u001b[39m vocabulary[feature]\n",
      "File \u001b[1;32mc:\\Python310\\lib\\site-packages\\sklearn\\feature_extraction\\text.py:113\u001b[0m, in \u001b[0;36m_analyze\u001b[1;34m(doc, analyzer, tokenizer, ngrams, preprocessor, decoder, stop_words)\u001b[0m\n\u001b[0;32m    111\u001b[0m \u001b[39melse\u001b[39;00m:\n\u001b[0;32m    112\u001b[0m     \u001b[39mif\u001b[39;00m preprocessor \u001b[39mis\u001b[39;00m \u001b[39mnot\u001b[39;00m \u001b[39mNone\u001b[39;00m:\n\u001b[1;32m--> 113\u001b[0m         doc \u001b[39m=\u001b[39m preprocessor(doc)\n\u001b[0;32m    114\u001b[0m     \u001b[39mif\u001b[39;00m tokenizer \u001b[39mis\u001b[39;00m \u001b[39mnot\u001b[39;00m \u001b[39mNone\u001b[39;00m:\n\u001b[0;32m    115\u001b[0m         doc \u001b[39m=\u001b[39m tokenizer(doc)\n",
      "File \u001b[1;32mc:\\Python310\\lib\\site-packages\\sklearn\\feature_extraction\\text.py:71\u001b[0m, in \u001b[0;36m_preprocess\u001b[1;34m(doc, accent_function, lower)\u001b[0m\n\u001b[0;32m     52\u001b[0m \u001b[39m\"\"\"Chain together an optional series of text preprocessing steps to\u001b[39;00m\n\u001b[0;32m     53\u001b[0m \u001b[39mapply to a document.\u001b[39;00m\n\u001b[0;32m     54\u001b[0m \n\u001b[1;32m   (...)\u001b[0m\n\u001b[0;32m     68\u001b[0m \u001b[39m    preprocessed string\u001b[39;00m\n\u001b[0;32m     69\u001b[0m \u001b[39m\"\"\"\u001b[39;00m\n\u001b[0;32m     70\u001b[0m \u001b[39mif\u001b[39;00m lower:\n\u001b[1;32m---> 71\u001b[0m     doc \u001b[39m=\u001b[39m doc\u001b[39m.\u001b[39;49mlower()\n\u001b[0;32m     72\u001b[0m \u001b[39mif\u001b[39;00m accent_function \u001b[39mis\u001b[39;00m \u001b[39mnot\u001b[39;00m \u001b[39mNone\u001b[39;00m:\n\u001b[0;32m     73\u001b[0m     doc \u001b[39m=\u001b[39m accent_function(doc)\n",
      "File \u001b[1;32mc:\\Python310\\lib\\site-packages\\pandas\\core\\generic.py:5583\u001b[0m, in \u001b[0;36mNDFrame.__getattr__\u001b[1;34m(self, name)\u001b[0m\n\u001b[0;32m   5576\u001b[0m \u001b[39mif\u001b[39;00m (\n\u001b[0;32m   5577\u001b[0m     name \u001b[39mnot\u001b[39;00m \u001b[39min\u001b[39;00m \u001b[39mself\u001b[39m\u001b[39m.\u001b[39m_internal_names_set\n\u001b[0;32m   5578\u001b[0m     \u001b[39mand\u001b[39;00m name \u001b[39mnot\u001b[39;00m \u001b[39min\u001b[39;00m \u001b[39mself\u001b[39m\u001b[39m.\u001b[39m_metadata\n\u001b[0;32m   5579\u001b[0m     \u001b[39mand\u001b[39;00m name \u001b[39mnot\u001b[39;00m \u001b[39min\u001b[39;00m \u001b[39mself\u001b[39m\u001b[39m.\u001b[39m_accessors\n\u001b[0;32m   5580\u001b[0m     \u001b[39mand\u001b[39;00m \u001b[39mself\u001b[39m\u001b[39m.\u001b[39m_info_axis\u001b[39m.\u001b[39m_can_hold_identifiers_and_holds_name(name)\n\u001b[0;32m   5581\u001b[0m ):\n\u001b[0;32m   5582\u001b[0m     \u001b[39mreturn\u001b[39;00m \u001b[39mself\u001b[39m[name]\n\u001b[1;32m-> 5583\u001b[0m \u001b[39mreturn\u001b[39;00m \u001b[39mobject\u001b[39;49m\u001b[39m.\u001b[39;49m\u001b[39m__getattribute__\u001b[39;49m(\u001b[39mself\u001b[39;49m, name)\n",
      "\u001b[1;31mAttributeError\u001b[0m: 'Series' object has no attribute 'lower'"
     ]
    }
   ],
   "source": [
    "vectorizer=CountVectorizer(stop_words=\"english\")\n",
    "freq_vec=vectorizer.fit_transform([df['hashtag']]).toarray() # the function requires as input an array of docs..\n",
    "freqDist=dict(zip(vectorizer.get_feature_names(),freq_vec[0])) # create a dictionary from the first (and only) row\n",
    "freqDist=dict(sorted(freqDist.items(), key=lambda item: item[1],reverse=True)) # ascending sort.."
   ]
  },
  {
   "cell_type": "code",
   "execution_count": null,
   "metadata": {},
   "outputs": [
    {
     "ename": "AttributeError",
     "evalue": "module 'sklearn.feature_extraction.text' has no attribute 'lower'",
     "output_type": "error",
     "traceback": [
      "\u001b[1;31m---------------------------------------------------------------------------\u001b[0m",
      "\u001b[1;31mAttributeError\u001b[0m                            Traceback (most recent call last)",
      "\u001b[1;32mc:\\Users\\orenp\\Documents\\HIT\\שנה ב סמסטר ב\\מדעי הנתונים\\project\\Instagram-Prediction---Data-Analysis\\dataAnalysis.ipynb Cell 95'\u001b[0m in \u001b[0;36m<cell line: 2>\u001b[1;34m()\u001b[0m\n\u001b[0;32m      <a href='vscode-notebook-cell:/c%3A/Users/orenp/Documents/HIT/%D7%A9%D7%A0%D7%94%20%D7%91%20%D7%A1%D7%9E%D7%A1%D7%98%D7%A8%20%D7%91/%D7%9E%D7%93%D7%A2%D7%99%20%D7%94%D7%A0%D7%AA%D7%95%D7%A0%D7%99%D7%9D/project/Instagram-Prediction---Data-Analysis/dataAnalysis.ipynb#ch0000105?line=0'>1</a>\u001b[0m vectorizer\u001b[39m=\u001b[39mCountVectorizer(stop_words\u001b[39m=\u001b[39m\u001b[39m\"\u001b[39m\u001b[39menglish\u001b[39m\u001b[39m\"\u001b[39m)\n\u001b[1;32m----> <a href='vscode-notebook-cell:/c%3A/Users/orenp/Documents/HIT/%D7%A9%D7%A0%D7%94%20%D7%91%20%D7%A1%D7%9E%D7%A1%D7%98%D7%A8%20%D7%91/%D7%9E%D7%93%D7%A2%D7%99%20%D7%94%D7%A0%D7%AA%D7%95%D7%A0%D7%99%D7%9D/project/Instagram-Prediction---Data-Analysis/dataAnalysis.ipynb#ch0000105?line=1'>2</a>\u001b[0m freq_vec\u001b[39m=\u001b[39mvectorizer\u001b[39m.\u001b[39;49mfit_transform([text])\u001b[39m.\u001b[39mtoarray() \u001b[39m# the function requires as input an array of docs..\u001b[39;00m\n\u001b[0;32m      <a href='vscode-notebook-cell:/c%3A/Users/orenp/Documents/HIT/%D7%A9%D7%A0%D7%94%20%D7%91%20%D7%A1%D7%9E%D7%A1%D7%98%D7%A8%20%D7%91/%D7%9E%D7%93%D7%A2%D7%99%20%D7%94%D7%A0%D7%AA%D7%95%D7%A0%D7%99%D7%9D/project/Instagram-Prediction---Data-Analysis/dataAnalysis.ipynb#ch0000105?line=2'>3</a>\u001b[0m freqDist\u001b[39m=\u001b[39m\u001b[39mdict\u001b[39m(\u001b[39mzip\u001b[39m(vectorizer\u001b[39m.\u001b[39mget_feature_names(),freq_vec[\u001b[39m0\u001b[39m])) \u001b[39m# create a dictionary from the first (and only) row\u001b[39;00m\n\u001b[0;32m      <a href='vscode-notebook-cell:/c%3A/Users/orenp/Documents/HIT/%D7%A9%D7%A0%D7%94%20%D7%91%20%D7%A1%D7%9E%D7%A1%D7%98%D7%A8%20%D7%91/%D7%9E%D7%93%D7%A2%D7%99%20%D7%94%D7%A0%D7%AA%D7%95%D7%A0%D7%99%D7%9D/project/Instagram-Prediction---Data-Analysis/dataAnalysis.ipynb#ch0000105?line=3'>4</a>\u001b[0m freqDist\u001b[39m=\u001b[39m\u001b[39mdict\u001b[39m(\u001b[39msorted\u001b[39m(freqDist\u001b[39m.\u001b[39mitems(), key\u001b[39m=\u001b[39m\u001b[39mlambda\u001b[39;00m item: item[\u001b[39m1\u001b[39m],reverse\u001b[39m=\u001b[39m\u001b[39mTrue\u001b[39;00m))\n",
      "File \u001b[1;32mc:\\Python310\\lib\\site-packages\\sklearn\\feature_extraction\\text.py:1330\u001b[0m, in \u001b[0;36mCountVectorizer.fit_transform\u001b[1;34m(self, raw_documents, y)\u001b[0m\n\u001b[0;32m   1322\u001b[0m             warnings\u001b[39m.\u001b[39mwarn(\n\u001b[0;32m   1323\u001b[0m                 \u001b[39m\"\u001b[39m\u001b[39mUpper case characters found in\u001b[39m\u001b[39m\"\u001b[39m\n\u001b[0;32m   1324\u001b[0m                 \u001b[39m\"\u001b[39m\u001b[39m vocabulary while \u001b[39m\u001b[39m'\u001b[39m\u001b[39mlowercase\u001b[39m\u001b[39m'\u001b[39m\u001b[39m\"\u001b[39m\n\u001b[0;32m   1325\u001b[0m                 \u001b[39m\"\u001b[39m\u001b[39m is True. These entries will not\u001b[39m\u001b[39m\"\u001b[39m\n\u001b[0;32m   1326\u001b[0m                 \u001b[39m\"\u001b[39m\u001b[39m be matched with any documents\u001b[39m\u001b[39m\"\u001b[39m\n\u001b[0;32m   1327\u001b[0m             )\n\u001b[0;32m   1328\u001b[0m             \u001b[39mbreak\u001b[39;00m\n\u001b[1;32m-> 1330\u001b[0m vocabulary, X \u001b[39m=\u001b[39m \u001b[39mself\u001b[39;49m\u001b[39m.\u001b[39;49m_count_vocab(raw_documents, \u001b[39mself\u001b[39;49m\u001b[39m.\u001b[39;49mfixed_vocabulary_)\n\u001b[0;32m   1332\u001b[0m \u001b[39mif\u001b[39;00m \u001b[39mself\u001b[39m\u001b[39m.\u001b[39mbinary:\n\u001b[0;32m   1333\u001b[0m     X\u001b[39m.\u001b[39mdata\u001b[39m.\u001b[39mfill(\u001b[39m1\u001b[39m)\n",
      "File \u001b[1;32mc:\\Python310\\lib\\site-packages\\sklearn\\feature_extraction\\text.py:1201\u001b[0m, in \u001b[0;36mCountVectorizer._count_vocab\u001b[1;34m(self, raw_documents, fixed_vocab)\u001b[0m\n\u001b[0;32m   1199\u001b[0m \u001b[39mfor\u001b[39;00m doc \u001b[39min\u001b[39;00m raw_documents:\n\u001b[0;32m   1200\u001b[0m     feature_counter \u001b[39m=\u001b[39m {}\n\u001b[1;32m-> 1201\u001b[0m     \u001b[39mfor\u001b[39;00m feature \u001b[39min\u001b[39;00m analyze(doc):\n\u001b[0;32m   1202\u001b[0m         \u001b[39mtry\u001b[39;00m:\n\u001b[0;32m   1203\u001b[0m             feature_idx \u001b[39m=\u001b[39m vocabulary[feature]\n",
      "File \u001b[1;32mc:\\Python310\\lib\\site-packages\\sklearn\\feature_extraction\\text.py:113\u001b[0m, in \u001b[0;36m_analyze\u001b[1;34m(doc, analyzer, tokenizer, ngrams, preprocessor, decoder, stop_words)\u001b[0m\n\u001b[0;32m    111\u001b[0m \u001b[39melse\u001b[39;00m:\n\u001b[0;32m    112\u001b[0m     \u001b[39mif\u001b[39;00m preprocessor \u001b[39mis\u001b[39;00m \u001b[39mnot\u001b[39;00m \u001b[39mNone\u001b[39;00m:\n\u001b[1;32m--> 113\u001b[0m         doc \u001b[39m=\u001b[39m preprocessor(doc)\n\u001b[0;32m    114\u001b[0m     \u001b[39mif\u001b[39;00m tokenizer \u001b[39mis\u001b[39;00m \u001b[39mnot\u001b[39;00m \u001b[39mNone\u001b[39;00m:\n\u001b[0;32m    115\u001b[0m         doc \u001b[39m=\u001b[39m tokenizer(doc)\n",
      "File \u001b[1;32mc:\\Python310\\lib\\site-packages\\sklearn\\feature_extraction\\text.py:71\u001b[0m, in \u001b[0;36m_preprocess\u001b[1;34m(doc, accent_function, lower)\u001b[0m\n\u001b[0;32m     52\u001b[0m \u001b[39m\"\"\"Chain together an optional series of text preprocessing steps to\u001b[39;00m\n\u001b[0;32m     53\u001b[0m \u001b[39mapply to a document.\u001b[39;00m\n\u001b[0;32m     54\u001b[0m \n\u001b[1;32m   (...)\u001b[0m\n\u001b[0;32m     68\u001b[0m \u001b[39m    preprocessed string\u001b[39;00m\n\u001b[0;32m     69\u001b[0m \u001b[39m\"\"\"\u001b[39;00m\n\u001b[0;32m     70\u001b[0m \u001b[39mif\u001b[39;00m lower:\n\u001b[1;32m---> 71\u001b[0m     doc \u001b[39m=\u001b[39m doc\u001b[39m.\u001b[39;49mlower()\n\u001b[0;32m     72\u001b[0m \u001b[39mif\u001b[39;00m accent_function \u001b[39mis\u001b[39;00m \u001b[39mnot\u001b[39;00m \u001b[39mNone\u001b[39;00m:\n\u001b[0;32m     73\u001b[0m     doc \u001b[39m=\u001b[39m accent_function(doc)\n",
      "\u001b[1;31mAttributeError\u001b[0m: module 'sklearn.feature_extraction.text' has no attribute 'lower'"
     ]
    }
   ],
   "source": [
    "topK=20\n",
    "plt.bar(list(freqDist.keys())[:topK], list(freqDist.values())[:topK])\n",
    "plt.xticks(list(freqDist.keys())[:topK], rotation='vertical')\n",
    "plt.show()"
   ]
  },
  {
   "cell_type": "markdown",
   "metadata": {},
   "source": [
    "WordCloud:"
   ]
  },
  {
   "cell_type": "code",
   "execution_count": null,
   "metadata": {},
   "outputs": [],
   "source": [
    "from wordcloud import WordCloud\n",
    "\n",
    "# lower max_font_size, change the maximum number of word and lighten the background:\n",
    "wordcloud = WordCloud(max_font_size=50, max_words=75, background_color=\"white\").generate_from_frequencies(freqDist)\n",
    "plt.figure()\n",
    "plt.imshow(wordcloud, interpolation=\"biwordsar\")\n",
    "plt.axis(\"off\")\n",
    "plt.show()"
   ]
  },
  {
   "cell_type": "code",
   "execution_count": null,
   "metadata": {},
   "outputs": [],
   "source": [
    "wordcloud = WordCloud(max_font_size=50, max_words=75, background_color=\"white\",collocations=False).generate_from_text(text)\n",
    "plt.figure()\n",
    "plt.imshow(wordcloud, interpolation=\"biwordsar\")\n",
    "plt.axis(\"off\")\n",
    "plt.show()"
   ]
  },
  {
   "cell_type": "code",
   "execution_count": null,
   "metadata": {},
   "outputs": [],
   "source": []
  },
  {
   "cell_type": "code",
   "execution_count": null,
   "metadata": {},
   "outputs": [],
   "source": []
  },
  {
   "cell_type": "code",
   "execution_count": null,
   "metadata": {},
   "outputs": [],
   "source": []
  },
  {
   "cell_type": "code",
   "execution_count": null,
   "metadata": {},
   "outputs": [],
   "source": []
  },
  {
   "cell_type": "code",
   "execution_count": null,
   "metadata": {},
   "outputs": [
    {
     "ename": "KeyError",
     "evalue": "'hours'",
     "output_type": "error",
     "traceback": [
      "\u001b[1;31m---------------------------------------------------------------------------\u001b[0m",
      "\u001b[1;31mKeyError\u001b[0m                                  Traceback (most recent call last)",
      "File \u001b[1;32mc:\\Python310\\lib\\site-packages\\pandas\\core\\indexes\\base.py:3621\u001b[0m, in \u001b[0;36mIndex.get_loc\u001b[1;34m(self, key, method, tolerance)\u001b[0m\n\u001b[0;32m   3620\u001b[0m \u001b[39mtry\u001b[39;00m:\n\u001b[1;32m-> 3621\u001b[0m     \u001b[39mreturn\u001b[39;00m \u001b[39mself\u001b[39;49m\u001b[39m.\u001b[39;49m_engine\u001b[39m.\u001b[39;49mget_loc(casted_key)\n\u001b[0;32m   3622\u001b[0m \u001b[39mexcept\u001b[39;00m \u001b[39mKeyError\u001b[39;00m \u001b[39mas\u001b[39;00m err:\n",
      "File \u001b[1;32mc:\\Python310\\lib\\site-packages\\pandas\\_libs\\index.pyx:136\u001b[0m, in \u001b[0;36mpandas._libs.index.IndexEngine.get_loc\u001b[1;34m()\u001b[0m\n",
      "File \u001b[1;32mc:\\Python310\\lib\\site-packages\\pandas\\_libs\\index.pyx:163\u001b[0m, in \u001b[0;36mpandas._libs.index.IndexEngine.get_loc\u001b[1;34m()\u001b[0m\n",
      "File \u001b[1;32mpandas\\_libs\\hashtable_class_helper.pxi:5198\u001b[0m, in \u001b[0;36mpandas._libs.hashtable.PyObjectHashTable.get_item\u001b[1;34m()\u001b[0m\n",
      "File \u001b[1;32mpandas\\_libs\\hashtable_class_helper.pxi:5206\u001b[0m, in \u001b[0;36mpandas._libs.hashtable.PyObjectHashTable.get_item\u001b[1;34m()\u001b[0m\n",
      "\u001b[1;31mKeyError\u001b[0m: 'hours'",
      "\nThe above exception was the direct cause of the following exception:\n",
      "\u001b[1;31mKeyError\u001b[0m                                  Traceback (most recent call last)",
      "\u001b[1;32mc:\\Users\\orenp\\Documents\\HIT\\שנה ב סמסטר ב\\מדעי הנתונים\\project\\Instagram-Prediction---Data-Analysis\\dataAnalysis.ipynb Cell 82'\u001b[0m in \u001b[0;36m<cell line: 1>\u001b[1;34m()\u001b[0m\n\u001b[1;32m----> <a href='vscode-notebook-cell:/c%3A/Users/orenp/Documents/HIT/%D7%A9%D7%A0%D7%94%20%D7%91%20%D7%A1%D7%9E%D7%A1%D7%98%D7%A8%20%D7%91/%D7%9E%D7%93%D7%A2%D7%99%20%D7%94%D7%A0%D7%AA%D7%95%D7%A0%D7%99%D7%9D/project/Instagram-Prediction---Data-Analysis/dataAnalysis.ipynb#ch0000084?line=0'>1</a>\u001b[0m df\u001b[39m.\u001b[39;49mplot\u001b[39m.\u001b[39;49mscatter(x\u001b[39m=\u001b[39;49m\u001b[39m'\u001b[39;49m\u001b[39mhours\u001b[39;49m\u001b[39m'\u001b[39;49m,y\u001b[39m=\u001b[39;49m\u001b[39m'\u001b[39;49m\u001b[39mpass_exam\u001b[39;49m\u001b[39m'\u001b[39;49m,s\u001b[39m=\u001b[39;49m\u001b[39m30\u001b[39;49m)\n\u001b[0;32m      <a href='vscode-notebook-cell:/c%3A/Users/orenp/Documents/HIT/%D7%A9%D7%A0%D7%94%20%D7%91%20%D7%A1%D7%9E%D7%A1%D7%98%D7%A8%20%D7%91/%D7%9E%D7%93%D7%A2%D7%99%20%D7%94%D7%A0%D7%AA%D7%95%D7%A0%D7%99%D7%9D/project/Instagram-Prediction---Data-Analysis/dataAnalysis.ipynb#ch0000084?line=2'>3</a>\u001b[0m \u001b[39m#create a set of points along the x axis to print prediction graph\u001b[39;00m\n\u001b[0;32m      <a href='vscode-notebook-cell:/c%3A/Users/orenp/Documents/HIT/%D7%A9%D7%A0%D7%94%20%D7%91%20%D7%A1%D7%9E%D7%A1%D7%98%D7%A8%20%D7%91/%D7%9E%D7%93%D7%A2%D7%99%20%D7%94%D7%A0%D7%AA%D7%95%D7%A0%D7%99%D7%9D/project/Instagram-Prediction---Data-Analysis/dataAnalysis.ipynb#ch0000084?line=3'>4</a>\u001b[0m x \u001b[39m=\u001b[39m np\u001b[39m.\u001b[39mlinspace(df[\u001b[39m'\u001b[39m\u001b[39mhours\u001b[39m\u001b[39m'\u001b[39m]\u001b[39m.\u001b[39mmin(),df[\u001b[39m'\u001b[39m\u001b[39mhours\u001b[39m\u001b[39m'\u001b[39m]\u001b[39m.\u001b[39mmax(),\u001b[39m1000\u001b[39m)\n",
      "File \u001b[1;32mc:\\Python310\\lib\\site-packages\\pandas\\plotting\\_core.py:1669\u001b[0m, in \u001b[0;36mPlotAccessor.scatter\u001b[1;34m(self, x, y, s, c, **kwargs)\u001b[0m\n\u001b[0;32m   1586\u001b[0m \u001b[39mdef\u001b[39;00m \u001b[39mscatter\u001b[39m(\u001b[39mself\u001b[39m, x, y, s\u001b[39m=\u001b[39m\u001b[39mNone\u001b[39;00m, c\u001b[39m=\u001b[39m\u001b[39mNone\u001b[39;00m, \u001b[39m*\u001b[39m\u001b[39m*\u001b[39mkwargs):\n\u001b[0;32m   1587\u001b[0m     \u001b[39m\"\"\"\u001b[39;00m\n\u001b[0;32m   1588\u001b[0m \u001b[39m    Create a scatter plot with varying marker point size and color.\u001b[39;00m\n\u001b[0;32m   1589\u001b[0m \n\u001b[1;32m   (...)\u001b[0m\n\u001b[0;32m   1667\u001b[0m \u001b[39m        ...                       colormap='viridis')\u001b[39;00m\n\u001b[0;32m   1668\u001b[0m \u001b[39m    \"\"\"\u001b[39;00m\n\u001b[1;32m-> 1669\u001b[0m     \u001b[39mreturn\u001b[39;00m \u001b[39mself\u001b[39m(kind\u001b[39m=\u001b[39m\u001b[39m\"\u001b[39m\u001b[39mscatter\u001b[39m\u001b[39m\"\u001b[39m, x\u001b[39m=\u001b[39mx, y\u001b[39m=\u001b[39my, s\u001b[39m=\u001b[39ms, c\u001b[39m=\u001b[39mc, \u001b[39m*\u001b[39m\u001b[39m*\u001b[39mkwargs)\n",
      "File \u001b[1;32mc:\\Python310\\lib\\site-packages\\pandas\\plotting\\_core.py:917\u001b[0m, in \u001b[0;36mPlotAccessor.__call__\u001b[1;34m(self, *args, **kwargs)\u001b[0m\n\u001b[0;32m    915\u001b[0m \u001b[39mif\u001b[39;00m kind \u001b[39min\u001b[39;00m \u001b[39mself\u001b[39m\u001b[39m.\u001b[39m_dataframe_kinds:\n\u001b[0;32m    916\u001b[0m     \u001b[39mif\u001b[39;00m \u001b[39misinstance\u001b[39m(data, ABCDataFrame):\n\u001b[1;32m--> 917\u001b[0m         \u001b[39mreturn\u001b[39;00m plot_backend\u001b[39m.\u001b[39mplot(data, x\u001b[39m=\u001b[39mx, y\u001b[39m=\u001b[39my, kind\u001b[39m=\u001b[39mkind, \u001b[39m*\u001b[39m\u001b[39m*\u001b[39mkwargs)\n\u001b[0;32m    918\u001b[0m     \u001b[39melse\u001b[39;00m:\n\u001b[0;32m    919\u001b[0m         \u001b[39mraise\u001b[39;00m \u001b[39mValueError\u001b[39;00m(\u001b[39mf\u001b[39m\u001b[39m\"\u001b[39m\u001b[39mplot kind \u001b[39m\u001b[39m{\u001b[39;00mkind\u001b[39m}\u001b[39;00m\u001b[39m can only be used for data frames\u001b[39m\u001b[39m\"\u001b[39m)\n",
      "File \u001b[1;32mc:\\Python310\\lib\\site-packages\\pandas\\plotting\\_matplotlib\\__init__.py:71\u001b[0m, in \u001b[0;36mplot\u001b[1;34m(data, kind, **kwargs)\u001b[0m\n\u001b[0;32m     69\u001b[0m         kwargs[\u001b[39m\"\u001b[39m\u001b[39max\u001b[39m\u001b[39m\"\u001b[39m] \u001b[39m=\u001b[39m \u001b[39mgetattr\u001b[39m(ax, \u001b[39m\"\u001b[39m\u001b[39mleft_ax\u001b[39m\u001b[39m\"\u001b[39m, ax)\n\u001b[0;32m     70\u001b[0m plot_obj \u001b[39m=\u001b[39m PLOT_CLASSES[kind](data, \u001b[39m*\u001b[39m\u001b[39m*\u001b[39mkwargs)\n\u001b[1;32m---> 71\u001b[0m plot_obj\u001b[39m.\u001b[39;49mgenerate()\n\u001b[0;32m     72\u001b[0m plot_obj\u001b[39m.\u001b[39mdraw()\n\u001b[0;32m     73\u001b[0m \u001b[39mreturn\u001b[39;00m plot_obj\u001b[39m.\u001b[39mresult\n",
      "File \u001b[1;32mc:\\Python310\\lib\\site-packages\\pandas\\plotting\\_matplotlib\\core.py:329\u001b[0m, in \u001b[0;36mMPLPlot.generate\u001b[1;34m(self)\u001b[0m\n\u001b[0;32m    327\u001b[0m \u001b[39mself\u001b[39m\u001b[39m.\u001b[39m_compute_plot_data()\n\u001b[0;32m    328\u001b[0m \u001b[39mself\u001b[39m\u001b[39m.\u001b[39m_setup_subplots()\n\u001b[1;32m--> 329\u001b[0m \u001b[39mself\u001b[39;49m\u001b[39m.\u001b[39;49m_make_plot()\n\u001b[0;32m    330\u001b[0m \u001b[39mself\u001b[39m\u001b[39m.\u001b[39m_add_table()\n\u001b[0;32m    331\u001b[0m \u001b[39mself\u001b[39m\u001b[39m.\u001b[39m_make_legend()\n",
      "File \u001b[1;32mc:\\Python310\\lib\\site-packages\\pandas\\plotting\\_matplotlib\\core.py:1115\u001b[0m, in \u001b[0;36mScatterPlot._make_plot\u001b[1;34m(self)\u001b[0m\n\u001b[0;32m   1112\u001b[0m \u001b[39melse\u001b[39;00m:\n\u001b[0;32m   1113\u001b[0m     label \u001b[39m=\u001b[39m \u001b[39mNone\u001b[39;00m\n\u001b[0;32m   1114\u001b[0m scatter \u001b[39m=\u001b[39m ax\u001b[39m.\u001b[39mscatter(\n\u001b[1;32m-> 1115\u001b[0m     data[x]\u001b[39m.\u001b[39mvalues,\n\u001b[0;32m   1116\u001b[0m     data[y]\u001b[39m.\u001b[39mvalues,\n\u001b[0;32m   1117\u001b[0m     c\u001b[39m=\u001b[39mc_values,\n\u001b[0;32m   1118\u001b[0m     label\u001b[39m=\u001b[39mlabel,\n\u001b[0;32m   1119\u001b[0m     cmap\u001b[39m=\u001b[39mcmap,\n\u001b[0;32m   1120\u001b[0m     norm\u001b[39m=\u001b[39mnorm,\n\u001b[0;32m   1121\u001b[0m     \u001b[39m*\u001b[39m\u001b[39m*\u001b[39m\u001b[39mself\u001b[39m\u001b[39m.\u001b[39mkwds,\n\u001b[0;32m   1122\u001b[0m )\n\u001b[0;32m   1123\u001b[0m \u001b[39mif\u001b[39;00m cb:\n\u001b[0;32m   1124\u001b[0m     cbar_label \u001b[39m=\u001b[39m c \u001b[39mif\u001b[39;00m c_is_column \u001b[39melse\u001b[39;00m \u001b[39m\"\u001b[39m\u001b[39m\"\u001b[39m\n",
      "File \u001b[1;32mc:\\Python310\\lib\\site-packages\\pandas\\core\\frame.py:3505\u001b[0m, in \u001b[0;36mDataFrame.__getitem__\u001b[1;34m(self, key)\u001b[0m\n\u001b[0;32m   3503\u001b[0m \u001b[39mif\u001b[39;00m \u001b[39mself\u001b[39m\u001b[39m.\u001b[39mcolumns\u001b[39m.\u001b[39mnlevels \u001b[39m>\u001b[39m \u001b[39m1\u001b[39m:\n\u001b[0;32m   3504\u001b[0m     \u001b[39mreturn\u001b[39;00m \u001b[39mself\u001b[39m\u001b[39m.\u001b[39m_getitem_multilevel(key)\n\u001b[1;32m-> 3505\u001b[0m indexer \u001b[39m=\u001b[39m \u001b[39mself\u001b[39;49m\u001b[39m.\u001b[39;49mcolumns\u001b[39m.\u001b[39;49mget_loc(key)\n\u001b[0;32m   3506\u001b[0m \u001b[39mif\u001b[39;00m is_integer(indexer):\n\u001b[0;32m   3507\u001b[0m     indexer \u001b[39m=\u001b[39m [indexer]\n",
      "File \u001b[1;32mc:\\Python310\\lib\\site-packages\\pandas\\core\\indexes\\base.py:3623\u001b[0m, in \u001b[0;36mIndex.get_loc\u001b[1;34m(self, key, method, tolerance)\u001b[0m\n\u001b[0;32m   3621\u001b[0m     \u001b[39mreturn\u001b[39;00m \u001b[39mself\u001b[39m\u001b[39m.\u001b[39m_engine\u001b[39m.\u001b[39mget_loc(casted_key)\n\u001b[0;32m   3622\u001b[0m \u001b[39mexcept\u001b[39;00m \u001b[39mKeyError\u001b[39;00m \u001b[39mas\u001b[39;00m err:\n\u001b[1;32m-> 3623\u001b[0m     \u001b[39mraise\u001b[39;00m \u001b[39mKeyError\u001b[39;00m(key) \u001b[39mfrom\u001b[39;00m \u001b[39merr\u001b[39;00m\n\u001b[0;32m   3624\u001b[0m \u001b[39mexcept\u001b[39;00m \u001b[39mTypeError\u001b[39;00m:\n\u001b[0;32m   3625\u001b[0m     \u001b[39m# If we have a listlike key, _check_indexing_error will raise\u001b[39;00m\n\u001b[0;32m   3626\u001b[0m     \u001b[39m#  InvalidIndexError. Otherwise we fall through and re-raise\u001b[39;00m\n\u001b[0;32m   3627\u001b[0m     \u001b[39m#  the TypeError.\u001b[39;00m\n\u001b[0;32m   3628\u001b[0m     \u001b[39mself\u001b[39m\u001b[39m.\u001b[39m_check_indexing_error(key)\n",
      "\u001b[1;31mKeyError\u001b[0m: 'hours'"
     ]
    },
    {
     "data": {
      "image/png": "[encoded data removed]",
      "text/plain": [
       "<Figure size 432x288 with 1 Axes>"
      ]
     },
     "metadata": {
      "needs_background": "light"
     },
     "output_type": "display_data"
    }
   ],
   "source": [
    "df.plot.scatter(x='hours',y='pass_exam',s=30)\n",
    "\n",
    "#create a set of points along the x axis to print prediction graph\n",
    "x = np.linspace(df['hours'].min(),df['hours'].max(),1000)\n",
    "\n",
    "#get probabilistic predictions for those points (using predict_proba)\n",
    "y_pred_p=model.predict_proba(np.reshape(x, (-1, 1))) # we need to reshape x to get it to a 2 dimensional array\n",
    "\n",
    "#get only the probability for the \"pass\" category\n",
    "y_pred_p1=[y[1] for y in y_pred_p]\n",
    "\n",
    "#plot the prediction graph\n",
    "plt.plot(x,y_pred_p1,color='Black')\n",
    "\n",
    "# this is an alternative plot option to calculate directly the predicted value, using the model paramters and avoiding predict_proba function\n",
    "# you can uncomment the words below, and comment the words before and see the results\n",
    "#plt.plot(x,expit(lrm.intercept_[0]+lrm.coef_[0][0]*x),color='green')\n",
    "\n",
    "# draw the words of y=0.5 as the decision point\n",
    "plt.plot(x,[0.5]*len(x),color=\"red\")\n",
    "plt.show()"
   ]
  },
  {
   "cell_type": "code",
   "execution_count": null,
   "metadata": {},
   "outputs": [],
   "source": []
  }
 ],
 "metadata": {
  "kernelspec": {
   "display_name": "Python 3.10.1 64-bit",
   "language": "python",
   "name": "python3"
  },
  "language_info": {
   "codemirror_mode": {
    "name": "ipython",
    "version": 3
   },
   "file_extension": ".py",
   "mimetype": "text/x-python",
   "name": "python",
   "nbconvert_exporter": "python",
   "pygments_lexer": "ipython3",
   "version": "3.10.1"
  },
  "orig_nbformat": 4,
  "vscode": {
   "interpreter": {
    "hash": "369f2c481f4da34e4445cda3fffd2e751bd1c4d706f27375911949ba6bb62e1c"
   }
  }
 },
 "nbformat": 4,
 "nbformat_minor": 2
}
