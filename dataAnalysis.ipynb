{
 "cells": [
  {
   "cell_type": "markdown",
   "metadata": {},
   "source": [
    "# Here we will go through the data we collected from instagram posts:\n",
    "\n",
    "- Problem definition - Post success recognition\n",
    "- Preliminary preparations for the solution - Done\n",
    "- Intention to the solution - EDA\n",
    "- Assimilation in the field"
   ]
  },
  {
   "cell_type": "code",
   "execution_count": null,
   "metadata": {},
   "outputs": [],
   "source": []
  }
 ],
 "metadata": {
  "language_info": {
   "name": "python"
  },
  "orig_nbformat": 4
 },
 "nbformat": 4,
 "nbformat_minor": 2
}
