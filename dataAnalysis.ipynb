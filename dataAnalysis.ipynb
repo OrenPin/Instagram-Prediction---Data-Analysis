{
 "cells": [
  {
   "cell_type": "markdown",
   "metadata": {},
   "source": [
    "# Here we will go through the data we collected from instagram posts:\n",
    "\n",
    "- Problem definition - Post success recognition\n",
    "- Preliminary preparations for the solution - Done\n",
    "- Intention to the solution - EDA\n",
    "- Assimilation in the field"
   ]
  },
  {
   "cell_type": "markdown",
   "metadata": {},
   "source": [
    "Let's do here the import:"
   ]
  },
  {
   "cell_type": "code",
   "execution_count": 51,
   "metadata": {},
   "outputs": [],
   "source": [
    "import pandas as pd\n",
    "import numpy as np\n",
    "import matplotlib.pyplot as plt\n",
    "import seaborn as sns\n",
    "%matplotlib inline\n",
    "import re # Regular expression \n",
    "from langdetect import detect #Language detection"
   ]
  },
  {
   "cell_type": "markdown",
   "metadata": {},
   "source": [
    "Loading file:"
   ]
  },
  {
   "cell_type": "code",
   "execution_count": 52,
   "metadata": {},
   "outputs": [],
   "source": [
    "df = pd.read_csv(\"total_data.csv\")"
   ]
  },
  {
   "cell_type": "markdown",
   "metadata": {},
   "source": [
    "Dataframe description:"
   ]
  },
  {
   "cell_type": "code",
   "execution_count": 53,
   "metadata": {},
   "outputs": [
    {
     "data": {
      "text/html": [
       "<div>\n",
       "<style scoped>\n",
       "    .dataframe tbody tr th:only-of-type {\n",
       "        vertical-align: middle;\n",
       "    }\n",
       "\n",
       "    .dataframe tbody tr th {\n",
       "        vertical-align: top;\n",
       "    }\n",
       "\n",
       "    .dataframe thead th {\n",
       "        text-align: right;\n",
       "    }\n",
       "</style>\n",
       "<table border=\"1\" class=\"dataframe\">\n",
       "  <thead>\n",
       "    <tr style=\"text-align: right;\">\n",
       "      <th></th>\n",
       "      <th>id</th>\n",
       "      <th>likes</th>\n",
       "      <th>following</th>\n",
       "      <th>followers</th>\n",
       "      <th>posts_amount</th>\n",
       "      <th>celeb</th>\n",
       "      <th>pic_vid</th>\n",
       "      <th>hashtag</th>\n",
       "      <th>hashtag_amount</th>\n",
       "      <th>pCo</th>\n",
       "      <th>content</th>\n",
       "      <th>post_date</th>\n",
       "      <th>curr_date</th>\n",
       "      <th>predict</th>\n",
       "    </tr>\n",
       "  </thead>\n",
       "  <tbody>\n",
       "    <tr>\n",
       "      <th>count</th>\n",
       "      <td>7342</td>\n",
       "      <td>6.863000e+03</td>\n",
       "      <td>6980.000000</td>\n",
       "      <td>6.980000e+03</td>\n",
       "      <td>6980.000000</td>\n",
       "      <td>7342.000000</td>\n",
       "      <td>7342.000000</td>\n",
       "      <td>5963</td>\n",
       "      <td>7342.000000</td>\n",
       "      <td>6924</td>\n",
       "      <td>7326</td>\n",
       "      <td>7340</td>\n",
       "      <td>7342</td>\n",
       "      <td>6523.000000</td>\n",
       "    </tr>\n",
       "    <tr>\n",
       "      <th>unique</th>\n",
       "      <td>6654</td>\n",
       "      <td>NaN</td>\n",
       "      <td>NaN</td>\n",
       "      <td>NaN</td>\n",
       "      <td>NaN</td>\n",
       "      <td>NaN</td>\n",
       "      <td>NaN</td>\n",
       "      <td>5270</td>\n",
       "      <td>NaN</td>\n",
       "      <td>5597</td>\n",
       "      <td>6225</td>\n",
       "      <td>166</td>\n",
       "      <td>15</td>\n",
       "      <td>NaN</td>\n",
       "    </tr>\n",
       "    <tr>\n",
       "      <th>top</th>\n",
       "      <td>Cd3IHD_KmBW</td>\n",
       "      <td>NaN</td>\n",
       "      <td>NaN</td>\n",
       "      <td>NaN</td>\n",
       "      <td>NaN</td>\n",
       "      <td>NaN</td>\n",
       "      <td>NaN</td>\n",
       "      <td></td>\n",
       "      <td>NaN</td>\n",
       "      <td>text</td>\n",
       "      <td></td>\n",
       "      <td>1h</td>\n",
       "      <td>06/06/2022</td>\n",
       "      <td>NaN</td>\n",
       "    </tr>\n",
       "    <tr>\n",
       "      <th>freq</th>\n",
       "      <td>9</td>\n",
       "      <td>NaN</td>\n",
       "      <td>NaN</td>\n",
       "      <td>NaN</td>\n",
       "      <td>NaN</td>\n",
       "      <td>NaN</td>\n",
       "      <td>NaN</td>\n",
       "      <td>119</td>\n",
       "      <td>NaN</td>\n",
       "      <td>103</td>\n",
       "      <td>459</td>\n",
       "      <td>815</td>\n",
       "      <td>1141</td>\n",
       "      <td>NaN</td>\n",
       "    </tr>\n",
       "    <tr>\n",
       "      <th>mean</th>\n",
       "      <td>NaN</td>\n",
       "      <td>1.081872e+04</td>\n",
       "      <td>1171.248281</td>\n",
       "      <td>8.590198e+04</td>\n",
       "      <td>1319.232235</td>\n",
       "      <td>0.032280</td>\n",
       "      <td>0.164941</td>\n",
       "      <td>NaN</td>\n",
       "      <td>16.219423</td>\n",
       "      <td>NaN</td>\n",
       "      <td>NaN</td>\n",
       "      <td>NaN</td>\n",
       "      <td>NaN</td>\n",
       "      <td>0.132608</td>\n",
       "    </tr>\n",
       "    <tr>\n",
       "      <th>std</th>\n",
       "      <td>NaN</td>\n",
       "      <td>2.969207e+05</td>\n",
       "      <td>1616.284394</td>\n",
       "      <td>3.351094e+05</td>\n",
       "      <td>2701.106340</td>\n",
       "      <td>0.176755</td>\n",
       "      <td>0.371153</td>\n",
       "      <td>NaN</td>\n",
       "      <td>11.517614</td>\n",
       "      <td>NaN</td>\n",
       "      <td>NaN</td>\n",
       "      <td>NaN</td>\n",
       "      <td>NaN</td>\n",
       "      <td>0.339176</td>\n",
       "    </tr>\n",
       "    <tr>\n",
       "      <th>min</th>\n",
       "      <td>NaN</td>\n",
       "      <td>2.000000e+00</td>\n",
       "      <td>0.000000</td>\n",
       "      <td>1.000000e+00</td>\n",
       "      <td>1.000000</td>\n",
       "      <td>0.000000</td>\n",
       "      <td>0.000000</td>\n",
       "      <td>NaN</td>\n",
       "      <td>0.000000</td>\n",
       "      <td>NaN</td>\n",
       "      <td>NaN</td>\n",
       "      <td>NaN</td>\n",
       "      <td>NaN</td>\n",
       "      <td>0.000000</td>\n",
       "    </tr>\n",
       "    <tr>\n",
       "      <th>25%</th>\n",
       "      <td>NaN</td>\n",
       "      <td>2.165000e+02</td>\n",
       "      <td>195.000000</td>\n",
       "      <td>4.268000e+03</td>\n",
       "      <td>188.000000</td>\n",
       "      <td>0.000000</td>\n",
       "      <td>0.000000</td>\n",
       "      <td>NaN</td>\n",
       "      <td>4.000000</td>\n",
       "      <td>NaN</td>\n",
       "      <td>NaN</td>\n",
       "      <td>NaN</td>\n",
       "      <td>NaN</td>\n",
       "      <td>0.000000</td>\n",
       "    </tr>\n",
       "    <tr>\n",
       "      <th>50%</th>\n",
       "      <td>NaN</td>\n",
       "      <td>6.040000e+02</td>\n",
       "      <td>609.000000</td>\n",
       "      <td>1.480000e+04</td>\n",
       "      <td>504.500000</td>\n",
       "      <td>0.000000</td>\n",
       "      <td>0.000000</td>\n",
       "      <td>NaN</td>\n",
       "      <td>18.000000</td>\n",
       "      <td>NaN</td>\n",
       "      <td>NaN</td>\n",
       "      <td>NaN</td>\n",
       "      <td>NaN</td>\n",
       "      <td>0.000000</td>\n",
       "    </tr>\n",
       "    <tr>\n",
       "      <th>75%</th>\n",
       "      <td>NaN</td>\n",
       "      <td>2.187000e+03</td>\n",
       "      <td>1315.000000</td>\n",
       "      <td>5.570000e+04</td>\n",
       "      <td>1340.000000</td>\n",
       "      <td>0.000000</td>\n",
       "      <td>0.000000</td>\n",
       "      <td>NaN</td>\n",
       "      <td>27.000000</td>\n",
       "      <td>NaN</td>\n",
       "      <td>NaN</td>\n",
       "      <td>NaN</td>\n",
       "      <td>NaN</td>\n",
       "      <td>0.000000</td>\n",
       "    </tr>\n",
       "    <tr>\n",
       "      <th>max</th>\n",
       "      <td>NaN</td>\n",
       "      <td>2.425880e+07</td>\n",
       "      <td>7561.000000</td>\n",
       "      <td>1.440000e+07</td>\n",
       "      <td>53792.000000</td>\n",
       "      <td>1.000000</td>\n",
       "      <td>1.000000</td>\n",
       "      <td>NaN</td>\n",
       "      <td>59.000000</td>\n",
       "      <td>NaN</td>\n",
       "      <td>NaN</td>\n",
       "      <td>NaN</td>\n",
       "      <td>NaN</td>\n",
       "      <td>1.000000</td>\n",
       "    </tr>\n",
       "  </tbody>\n",
       "</table>\n",
       "</div>"
      ],
      "text/plain": [
       "                 id         likes    following     followers  posts_amount  \\\n",
       "count          7342  6.863000e+03  6980.000000  6.980000e+03   6980.000000   \n",
       "unique         6654           NaN          NaN           NaN           NaN   \n",
       "top     Cd3IHD_KmBW           NaN          NaN           NaN           NaN   \n",
       "freq              9           NaN          NaN           NaN           NaN   \n",
       "mean            NaN  1.081872e+04  1171.248281  8.590198e+04   1319.232235   \n",
       "std             NaN  2.969207e+05  1616.284394  3.351094e+05   2701.106340   \n",
       "min             NaN  2.000000e+00     0.000000  1.000000e+00      1.000000   \n",
       "25%             NaN  2.165000e+02   195.000000  4.268000e+03    188.000000   \n",
       "50%             NaN  6.040000e+02   609.000000  1.480000e+04    504.500000   \n",
       "75%             NaN  2.187000e+03  1315.000000  5.570000e+04   1340.000000   \n",
       "max             NaN  2.425880e+07  7561.000000  1.440000e+07  53792.000000   \n",
       "\n",
       "              celeb      pic_vid hashtag  hashtag_amount    pCo content  \\\n",
       "count   7342.000000  7342.000000    5963     7342.000000   6924    7326   \n",
       "unique          NaN          NaN    5270             NaN   5597    6225   \n",
       "top             NaN          NaN                     NaN  text            \n",
       "freq            NaN          NaN     119             NaN    103     459   \n",
       "mean       0.032280     0.164941     NaN       16.219423    NaN     NaN   \n",
       "std        0.176755     0.371153     NaN       11.517614    NaN     NaN   \n",
       "min        0.000000     0.000000     NaN        0.000000    NaN     NaN   \n",
       "25%        0.000000     0.000000     NaN        4.000000    NaN     NaN   \n",
       "50%        0.000000     0.000000     NaN       18.000000    NaN     NaN   \n",
       "75%        0.000000     0.000000     NaN       27.000000    NaN     NaN   \n",
       "max        1.000000     1.000000     NaN       59.000000    NaN     NaN   \n",
       "\n",
       "       post_date   curr_date      predict  \n",
       "count       7340        7342  6523.000000  \n",
       "unique       166          15          NaN  \n",
       "top           1h  06/06/2022          NaN  \n",
       "freq         815        1141          NaN  \n",
       "mean         NaN         NaN     0.132608  \n",
       "std          NaN         NaN     0.339176  \n",
       "min          NaN         NaN     0.000000  \n",
       "25%          NaN         NaN     0.000000  \n",
       "50%          NaN         NaN     0.000000  \n",
       "75%          NaN         NaN     0.000000  \n",
       "max          NaN         NaN     1.000000  "
      ]
     },
     "execution_count": 53,
     "metadata": {},
     "output_type": "execute_result"
    }
   ],
   "source": [
    "df.describe(include='all')"
   ]
  },
  {
   "cell_type": "code",
   "execution_count": 54,
   "metadata": {},
   "outputs": [
    {
     "data": {
      "text/html": [
       "<div>\n",
       "<style scoped>\n",
       "    .dataframe tbody tr th:only-of-type {\n",
       "        vertical-align: middle;\n",
       "    }\n",
       "\n",
       "    .dataframe tbody tr th {\n",
       "        vertical-align: top;\n",
       "    }\n",
       "\n",
       "    .dataframe thead th {\n",
       "        text-align: right;\n",
       "    }\n",
       "</style>\n",
       "<table border=\"1\" class=\"dataframe\">\n",
       "  <thead>\n",
       "    <tr style=\"text-align: right;\">\n",
       "      <th></th>\n",
       "      <th>id</th>\n",
       "      <th>likes</th>\n",
       "      <th>following</th>\n",
       "      <th>followers</th>\n",
       "      <th>posts_amount</th>\n",
       "      <th>celeb</th>\n",
       "      <th>pic_vid</th>\n",
       "      <th>hashtag</th>\n",
       "      <th>hashtag_amount</th>\n",
       "      <th>pCo</th>\n",
       "      <th>content</th>\n",
       "      <th>post_date</th>\n",
       "      <th>curr_date</th>\n",
       "      <th>predict</th>\n",
       "    </tr>\n",
       "  </thead>\n",
       "  <tbody>\n",
       "    <tr>\n",
       "      <th>0</th>\n",
       "      <td>CeRUvKzq3n4</td>\n",
       "      <td>407.0</td>\n",
       "      <td>867.0</td>\n",
       "      <td>32400.0</td>\n",
       "      <td>792.0</td>\n",
       "      <td>0</td>\n",
       "      <td>1</td>\n",
       "      <td>diormakeup diorbeautylovers</td>\n",
       "      <td>2</td>\n",
       "      <td>person text hairpiece human face clothing scre...</td>\n",
       "      <td>אם את טסה בקרוב או שסתם באלך להתפנק במותג מהמם...</td>\n",
       "      <td>4d</td>\n",
       "      <td>05/06/2022</td>\n",
       "      <td>0.0</td>\n",
       "    </tr>\n",
       "    <tr>\n",
       "      <th>1</th>\n",
       "      <td>Cd4EPrQqumz</td>\n",
       "      <td>697.0</td>\n",
       "      <td>450.0</td>\n",
       "      <td>40600.0</td>\n",
       "      <td>125.0</td>\n",
       "      <td>0</td>\n",
       "      <td>0</td>\n",
       "      <td>NaN</td>\n",
       "      <td>0</td>\n",
       "      <td>NaN</td>\n",
       "      <td>أذكر تلك المقولة الس اخرة ثمة نوعان من الأغبيا...</td>\n",
       "      <td>1w</td>\n",
       "      <td>05/06/2022</td>\n",
       "      <td>0.0</td>\n",
       "    </tr>\n",
       "    <tr>\n",
       "      <th>2</th>\n",
       "      <td>CeT8winMlKi</td>\n",
       "      <td>928.0</td>\n",
       "      <td>234.0</td>\n",
       "      <td>5910.0</td>\n",
       "      <td>105.0</td>\n",
       "      <td>0</td>\n",
       "      <td>0</td>\n",
       "      <td>NaN</td>\n",
       "      <td>0</td>\n",
       "      <td>outdoor person sky clothing girl summer furnit...</td>\n",
       "      <td>תודה רבה על כל הברכות והאיחולים חיממתם לי ת לב</td>\n",
       "      <td>3d</td>\n",
       "      <td>05/06/2022</td>\n",
       "      <td>0.0</td>\n",
       "    </tr>\n",
       "    <tr>\n",
       "      <th>3</th>\n",
       "      <td>CeGNHlljW1M</td>\n",
       "      <td>22607.0</td>\n",
       "      <td>6.0</td>\n",
       "      <td>166000.0</td>\n",
       "      <td>2124.0</td>\n",
       "      <td>0</td>\n",
       "      <td>0</td>\n",
       "      <td>NaN</td>\n",
       "      <td>0</td>\n",
       "      <td>clothing human face person tie smile</td>\n",
       "      <td>تابعوا قناتنا تليجرام موجودة بالبايو من اجمل ا...</td>\n",
       "      <td>1w</td>\n",
       "      <td>05/06/2022</td>\n",
       "      <td>0.0</td>\n",
       "    </tr>\n",
       "    <tr>\n",
       "      <th>4</th>\n",
       "      <td>CeRBpNosRXh</td>\n",
       "      <td>1239.0</td>\n",
       "      <td>676.0</td>\n",
       "      <td>6542.0</td>\n",
       "      <td>40.0</td>\n",
       "      <td>0</td>\n",
       "      <td>0</td>\n",
       "      <td>foryou muscle musica fortnite 🌴 motivation for...</td>\n",
       "      <td>6</td>\n",
       "      <td>NaN</td>\n",
       "      <td>page</td>\n",
       "      <td>4d</td>\n",
       "      <td>05/06/2022</td>\n",
       "      <td>0.0</td>\n",
       "    </tr>\n",
       "  </tbody>\n",
       "</table>\n",
       "</div>"
      ],
      "text/plain": [
       "            id    likes  following  followers  posts_amount  celeb  pic_vid  \\\n",
       "0  CeRUvKzq3n4    407.0      867.0    32400.0         792.0      0        1   \n",
       "1  Cd4EPrQqumz    697.0      450.0    40600.0         125.0      0        0   \n",
       "2  CeT8winMlKi    928.0      234.0     5910.0         105.0      0        0   \n",
       "3  CeGNHlljW1M  22607.0        6.0   166000.0        2124.0      0        0   \n",
       "4  CeRBpNosRXh   1239.0      676.0     6542.0          40.0      0        0   \n",
       "\n",
       "                                             hashtag  hashtag_amount  \\\n",
       "0                       diormakeup diorbeautylovers                2   \n",
       "1                                                NaN               0   \n",
       "2                                                NaN               0   \n",
       "3                                                NaN               0   \n",
       "4  foryou muscle musica fortnite 🌴 motivation for...               6   \n",
       "\n",
       "                                                 pCo  \\\n",
       "0  person text hairpiece human face clothing scre...   \n",
       "1                                                NaN   \n",
       "2  outdoor person sky clothing girl summer furnit...   \n",
       "3              clothing human face person tie smile    \n",
       "4                                                NaN   \n",
       "\n",
       "                                             content post_date   curr_date  \\\n",
       "0  אם את טסה בקרוב או שסתם באלך להתפנק במותג מהמם...        4d  05/06/2022   \n",
       "1  أذكر تلك المقولة الس اخرة ثمة نوعان من الأغبيا...        1w  05/06/2022   \n",
       "2    תודה רבה על כל הברכות והאיחולים חיממתם לי ת לב         3d  05/06/2022   \n",
       "3  تابعوا قناتنا تليجرام موجودة بالبايو من اجمل ا...        1w  05/06/2022   \n",
       "4                                              page         4d  05/06/2022   \n",
       "\n",
       "   predict  \n",
       "0      0.0  \n",
       "1      0.0  \n",
       "2      0.0  \n",
       "3      0.0  \n",
       "4      0.0  "
      ]
     },
     "execution_count": 54,
     "metadata": {},
     "output_type": "execute_result"
    }
   ],
   "source": [
    "df.head()"
   ]
  },
  {
   "cell_type": "code",
   "execution_count": 55,
   "metadata": {},
   "outputs": [
    {
     "name": "stdout",
     "output_type": "stream",
     "text": [
      "<class 'pandas.core.frame.DataFrame'>\n",
      "RangeIndex: 7342 entries, 0 to 7341\n",
      "Data columns (total 14 columns):\n",
      " #   Column          Non-Null Count  Dtype  \n",
      "---  ------          --------------  -----  \n",
      " 0   id              7342 non-null   object \n",
      " 1   likes           6863 non-null   float64\n",
      " 2   following       6980 non-null   float64\n",
      " 3   followers       6980 non-null   float64\n",
      " 4   posts_amount    6980 non-null   float64\n",
      " 5   celeb           7342 non-null   int64  \n",
      " 6   pic_vid         7342 non-null   int64  \n",
      " 7   hashtag         5963 non-null   object \n",
      " 8   hashtag_amount  7342 non-null   int64  \n",
      " 9   pCo             6924 non-null   object \n",
      " 10  content         7326 non-null   object \n",
      " 11  post_date       7340 non-null   object \n",
      " 12  curr_date       7342 non-null   object \n",
      " 13  predict         6523 non-null   float64\n",
      "dtypes: float64(5), int64(3), object(6)\n",
      "memory usage: 803.2+ KB\n"
     ]
    }
   ],
   "source": [
    "df.info()"
   ]
  },
  {
   "cell_type": "code",
   "execution_count": 56,
   "metadata": {},
   "outputs": [
    {
     "data": {
      "text/plain": [
       "array([[<AxesSubplot:title={'center':'likes'}>,\n",
       "        <AxesSubplot:title={'center':'following'}>,\n",
       "        <AxesSubplot:title={'center':'followers'}>],\n",
       "       [<AxesSubplot:title={'center':'posts_amount'}>,\n",
       "        <AxesSubplot:title={'center':'celeb'}>,\n",
       "        <AxesSubplot:title={'center':'pic_vid'}>],\n",
       "       [<AxesSubplot:title={'center':'hashtag_amount'}>,\n",
       "        <AxesSubplot:title={'center':'predict'}>, <AxesSubplot:>]],\n",
       "      dtype=object)"
      ]
     },
     "execution_count": 56,
     "metadata": {},
     "output_type": "execute_result"
    },
    {
     "data": {
      "image/png": "[encoded data removed]",
      "text/plain": [
       "<Figure size 432x288 with 9 Axes>"
      ]
     },
     "metadata": {
      "needs_background": "light"
     },
     "output_type": "display_data"
    }
   ],
   "source": [
    "df.hist()"
   ]
  },
  {
   "cell_type": "code",
   "execution_count": 57,
   "metadata": {},
   "outputs": [
    {
     "data": {
      "text/plain": [
       "(7342, 14)"
      ]
     },
     "execution_count": 57,
     "metadata": {},
     "output_type": "execute_result"
    }
   ],
   "source": [
    "df.shape"
   ]
  },
  {
   "cell_type": "code",
   "execution_count": 58,
   "metadata": {},
   "outputs": [
    {
     "data": {
      "text/html": [
       "<div>\n",
       "<style scoped>\n",
       "    .dataframe tbody tr th:only-of-type {\n",
       "        vertical-align: middle;\n",
       "    }\n",
       "\n",
       "    .dataframe tbody tr th {\n",
       "        vertical-align: top;\n",
       "    }\n",
       "\n",
       "    .dataframe thead th {\n",
       "        text-align: right;\n",
       "    }\n",
       "</style>\n",
       "<table border=\"1\" class=\"dataframe\">\n",
       "  <thead>\n",
       "    <tr style=\"text-align: right;\">\n",
       "      <th></th>\n",
       "      <th>likes</th>\n",
       "      <th>following</th>\n",
       "      <th>followers</th>\n",
       "      <th>posts_amount</th>\n",
       "      <th>celeb</th>\n",
       "      <th>pic_vid</th>\n",
       "      <th>hashtag_amount</th>\n",
       "      <th>predict</th>\n",
       "    </tr>\n",
       "  </thead>\n",
       "  <tbody>\n",
       "    <tr>\n",
       "      <th>likes</th>\n",
       "      <td>1.000000</td>\n",
       "      <td>0.001672</td>\n",
       "      <td>0.526538</td>\n",
       "      <td>0.008988</td>\n",
       "      <td>0.069112</td>\n",
       "      <td>0.021585</td>\n",
       "      <td>-0.019700</td>\n",
       "      <td>0.070163</td>\n",
       "    </tr>\n",
       "    <tr>\n",
       "      <th>following</th>\n",
       "      <td>0.001672</td>\n",
       "      <td>1.000000</td>\n",
       "      <td>-0.063522</td>\n",
       "      <td>0.069225</td>\n",
       "      <td>-0.024452</td>\n",
       "      <td>-0.082334</td>\n",
       "      <td>0.075980</td>\n",
       "      <td>-0.066072</td>\n",
       "    </tr>\n",
       "    <tr>\n",
       "      <th>followers</th>\n",
       "      <td>0.526538</td>\n",
       "      <td>-0.063522</td>\n",
       "      <td>1.000000</td>\n",
       "      <td>0.319790</td>\n",
       "      <td>0.287803</td>\n",
       "      <td>0.092441</td>\n",
       "      <td>-0.084035</td>\n",
       "      <td>-0.054100</td>\n",
       "    </tr>\n",
       "    <tr>\n",
       "      <th>posts_amount</th>\n",
       "      <td>0.008988</td>\n",
       "      <td>0.069225</td>\n",
       "      <td>0.319790</td>\n",
       "      <td>1.000000</td>\n",
       "      <td>0.168610</td>\n",
       "      <td>0.028316</td>\n",
       "      <td>-0.023277</td>\n",
       "      <td>-0.118411</td>\n",
       "    </tr>\n",
       "    <tr>\n",
       "      <th>celeb</th>\n",
       "      <td>0.069112</td>\n",
       "      <td>-0.024452</td>\n",
       "      <td>0.287803</td>\n",
       "      <td>0.168610</td>\n",
       "      <td>1.000000</td>\n",
       "      <td>-0.002266</td>\n",
       "      <td>-0.175045</td>\n",
       "      <td>-0.024641</td>\n",
       "    </tr>\n",
       "    <tr>\n",
       "      <th>pic_vid</th>\n",
       "      <td>0.021585</td>\n",
       "      <td>-0.082334</td>\n",
       "      <td>0.092441</td>\n",
       "      <td>0.028316</td>\n",
       "      <td>-0.002266</td>\n",
       "      <td>1.000000</td>\n",
       "      <td>0.021041</td>\n",
       "      <td>0.171019</td>\n",
       "    </tr>\n",
       "    <tr>\n",
       "      <th>hashtag_amount</th>\n",
       "      <td>-0.019700</td>\n",
       "      <td>0.075980</td>\n",
       "      <td>-0.084035</td>\n",
       "      <td>-0.023277</td>\n",
       "      <td>-0.175045</td>\n",
       "      <td>0.021041</td>\n",
       "      <td>1.000000</td>\n",
       "      <td>-0.065574</td>\n",
       "    </tr>\n",
       "    <tr>\n",
       "      <th>predict</th>\n",
       "      <td>0.070163</td>\n",
       "      <td>-0.066072</td>\n",
       "      <td>-0.054100</td>\n",
       "      <td>-0.118411</td>\n",
       "      <td>-0.024641</td>\n",
       "      <td>0.171019</td>\n",
       "      <td>-0.065574</td>\n",
       "      <td>1.000000</td>\n",
       "    </tr>\n",
       "  </tbody>\n",
       "</table>\n",
       "</div>"
      ],
      "text/plain": [
       "                   likes  following  followers  posts_amount     celeb  \\\n",
       "likes           1.000000   0.001672   0.526538      0.008988  0.069112   \n",
       "following       0.001672   1.000000  -0.063522      0.069225 -0.024452   \n",
       "followers       0.526538  -0.063522   1.000000      0.319790  0.287803   \n",
       "posts_amount    0.008988   0.069225   0.319790      1.000000  0.168610   \n",
       "celeb           0.069112  -0.024452   0.287803      0.168610  1.000000   \n",
       "pic_vid         0.021585  -0.082334   0.092441      0.028316 -0.002266   \n",
       "hashtag_amount -0.019700   0.075980  -0.084035     -0.023277 -0.175045   \n",
       "predict         0.070163  -0.066072  -0.054100     -0.118411 -0.024641   \n",
       "\n",
       "                 pic_vid  hashtag_amount   predict  \n",
       "likes           0.021585       -0.019700  0.070163  \n",
       "following      -0.082334        0.075980 -0.066072  \n",
       "followers       0.092441       -0.084035 -0.054100  \n",
       "posts_amount    0.028316       -0.023277 -0.118411  \n",
       "celeb          -0.002266       -0.175045 -0.024641  \n",
       "pic_vid         1.000000        0.021041  0.171019  \n",
       "hashtag_amount  0.021041        1.000000 -0.065574  \n",
       "predict         0.171019       -0.065574  1.000000  "
      ]
     },
     "execution_count": 58,
     "metadata": {},
     "output_type": "execute_result"
    }
   ],
   "source": [
    "df.corr()"
   ]
  },
  {
   "cell_type": "code",
   "execution_count": 59,
   "metadata": {},
   "outputs": [
    {
     "data": {
      "text/plain": [
       "array([[<AxesSubplot:xlabel='likes', ylabel='likes'>,\n",
       "        <AxesSubplot:xlabel='following', ylabel='likes'>,\n",
       "        <AxesSubplot:xlabel='followers', ylabel='likes'>,\n",
       "        <AxesSubplot:xlabel='posts_amount', ylabel='likes'>,\n",
       "        <AxesSubplot:xlabel='celeb', ylabel='likes'>,\n",
       "        <AxesSubplot:xlabel='pic_vid', ylabel='likes'>,\n",
       "        <AxesSubplot:xlabel='hashtag_amount', ylabel='likes'>,\n",
       "        <AxesSubplot:xlabel='predict', ylabel='likes'>],\n",
       "       [<AxesSubplot:xlabel='likes', ylabel='following'>,\n",
       "        <AxesSubplot:xlabel='following', ylabel='following'>,\n",
       "        <AxesSubplot:xlabel='followers', ylabel='following'>,\n",
       "        <AxesSubplot:xlabel='posts_amount', ylabel='following'>,\n",
       "        <AxesSubplot:xlabel='celeb', ylabel='following'>,\n",
       "        <AxesSubplot:xlabel='pic_vid', ylabel='following'>,\n",
       "        <AxesSubplot:xlabel='hashtag_amount', ylabel='following'>,\n",
       "        <AxesSubplot:xlabel='predict', ylabel='following'>],\n",
       "       [<AxesSubplot:xlabel='likes', ylabel='followers'>,\n",
       "        <AxesSubplot:xlabel='following', ylabel='followers'>,\n",
       "        <AxesSubplot:xlabel='followers', ylabel='followers'>,\n",
       "        <AxesSubplot:xlabel='posts_amount', ylabel='followers'>,\n",
       "        <AxesSubplot:xlabel='celeb', ylabel='followers'>,\n",
       "        <AxesSubplot:xlabel='pic_vid', ylabel='followers'>,\n",
       "        <AxesSubplot:xlabel='hashtag_amount', ylabel='followers'>,\n",
       "        <AxesSubplot:xlabel='predict', ylabel='followers'>],\n",
       "       [<AxesSubplot:xlabel='likes', ylabel='posts_amount'>,\n",
       "        <AxesSubplot:xlabel='following', ylabel='posts_amount'>,\n",
       "        <AxesSubplot:xlabel='followers', ylabel='posts_amount'>,\n",
       "        <AxesSubplot:xlabel='posts_amount', ylabel='posts_amount'>,\n",
       "        <AxesSubplot:xlabel='celeb', ylabel='posts_amount'>,\n",
       "        <AxesSubplot:xlabel='pic_vid', ylabel='posts_amount'>,\n",
       "        <AxesSubplot:xlabel='hashtag_amount', ylabel='posts_amount'>,\n",
       "        <AxesSubplot:xlabel='predict', ylabel='posts_amount'>],\n",
       "       [<AxesSubplot:xlabel='likes', ylabel='celeb'>,\n",
       "        <AxesSubplot:xlabel='following', ylabel='celeb'>,\n",
       "        <AxesSubplot:xlabel='followers', ylabel='celeb'>,\n",
       "        <AxesSubplot:xlabel='posts_amount', ylabel='celeb'>,\n",
       "        <AxesSubplot:xlabel='celeb', ylabel='celeb'>,\n",
       "        <AxesSubplot:xlabel='pic_vid', ylabel='celeb'>,\n",
       "        <AxesSubplot:xlabel='hashtag_amount', ylabel='celeb'>,\n",
       "        <AxesSubplot:xlabel='predict', ylabel='celeb'>],\n",
       "       [<AxesSubplot:xlabel='likes', ylabel='pic_vid'>,\n",
       "        <AxesSubplot:xlabel='following', ylabel='pic_vid'>,\n",
       "        <AxesSubplot:xlabel='followers', ylabel='pic_vid'>,\n",
       "        <AxesSubplot:xlabel='posts_amount', ylabel='pic_vid'>,\n",
       "        <AxesSubplot:xlabel='celeb', ylabel='pic_vid'>,\n",
       "        <AxesSubplot:xlabel='pic_vid', ylabel='pic_vid'>,\n",
       "        <AxesSubplot:xlabel='hashtag_amount', ylabel='pic_vid'>,\n",
       "        <AxesSubplot:xlabel='predict', ylabel='pic_vid'>],\n",
       "       [<AxesSubplot:xlabel='likes', ylabel='hashtag_amount'>,\n",
       "        <AxesSubplot:xlabel='following', ylabel='hashtag_amount'>,\n",
       "        <AxesSubplot:xlabel='followers', ylabel='hashtag_amount'>,\n",
       "        <AxesSubplot:xlabel='posts_amount', ylabel='hashtag_amount'>,\n",
       "        <AxesSubplot:xlabel='celeb', ylabel='hashtag_amount'>,\n",
       "        <AxesSubplot:xlabel='pic_vid', ylabel='hashtag_amount'>,\n",
       "        <AxesSubplot:xlabel='hashtag_amount', ylabel='hashtag_amount'>,\n",
       "        <AxesSubplot:xlabel='predict', ylabel='hashtag_amount'>],\n",
       "       [<AxesSubplot:xlabel='likes', ylabel='predict'>,\n",
       "        <AxesSubplot:xlabel='following', ylabel='predict'>,\n",
       "        <AxesSubplot:xlabel='followers', ylabel='predict'>,\n",
       "        <AxesSubplot:xlabel='posts_amount', ylabel='predict'>,\n",
       "        <AxesSubplot:xlabel='celeb', ylabel='predict'>,\n",
       "        <AxesSubplot:xlabel='pic_vid', ylabel='predict'>,\n",
       "        <AxesSubplot:xlabel='hashtag_amount', ylabel='predict'>,\n",
       "        <AxesSubplot:xlabel='predict', ylabel='predict'>]], dtype=object)"
      ]
     },
     "execution_count": 59,
     "metadata": {},
     "output_type": "execute_result"
    },
    {
     "data": {
      "image/png": "[encoded data removed]",
      "text/plain": [
       "<Figure size 432x288 with 64 Axes>"
      ]
     },
     "metadata": {
      "needs_background": "light"
     },
     "output_type": "display_data"
    }
   ],
   "source": [
    "pd.plotting.scatter_matrix(df)"
   ]
  },
  {
   "cell_type": "markdown",
   "metadata": {},
   "source": [
    "Dropping duplicates posts by ID:"
   ]
  },
  {
   "cell_type": "code",
   "execution_count": 60,
   "metadata": {},
   "outputs": [],
   "source": [
    "df.drop_duplicates(\"id\",inplace=True)"
   ]
  },
  {
   "cell_type": "code",
   "execution_count": 61,
   "metadata": {},
   "outputs": [
    {
     "data": {
      "text/plain": [
       "(6654, 14)"
      ]
     },
     "execution_count": 61,
     "metadata": {},
     "output_type": "execute_result"
    }
   ],
   "source": [
    "df.shape"
   ]
  },
  {
   "cell_type": "markdown",
   "metadata": {},
   "source": [
    "Dropping rows with NaN values:"
   ]
  },
  {
   "cell_type": "code",
   "execution_count": 62,
   "metadata": {},
   "outputs": [],
   "source": [
    "df.dropna(inplace=True)"
   ]
  },
  {
   "cell_type": "code",
   "execution_count": 63,
   "metadata": {},
   "outputs": [
    {
     "data": {
      "text/plain": [
       "(4683, 14)"
      ]
     },
     "execution_count": 63,
     "metadata": {},
     "output_type": "execute_result"
    }
   ],
   "source": [
    "df.shape"
   ]
  },
  {
   "cell_type": "code",
   "execution_count": 64,
   "metadata": {},
   "outputs": [
    {
     "name": "stdout",
     "output_type": "stream",
     "text": [
      "<class 'pandas.core.frame.DataFrame'>\n",
      "Int64Index: 4683 entries, 0 to 7341\n",
      "Data columns (total 14 columns):\n",
      " #   Column          Non-Null Count  Dtype  \n",
      "---  ------          --------------  -----  \n",
      " 0   id              4683 non-null   object \n",
      " 1   likes           4683 non-null   float64\n",
      " 2   following       4683 non-null   float64\n",
      " 3   followers       4683 non-null   float64\n",
      " 4   posts_amount    4683 non-null   float64\n",
      " 5   celeb           4683 non-null   int64  \n",
      " 6   pic_vid         4683 non-null   int64  \n",
      " 7   hashtag         4683 non-null   object \n",
      " 8   hashtag_amount  4683 non-null   int64  \n",
      " 9   pCo             4683 non-null   object \n",
      " 10  content         4683 non-null   object \n",
      " 11  post_date       4683 non-null   object \n",
      " 12  curr_date       4683 non-null   object \n",
      " 13  predict         4683 non-null   float64\n",
      "dtypes: float64(5), int64(3), object(6)\n",
      "memory usage: 548.8+ KB\n"
     ]
    }
   ],
   "source": [
    "df.info()"
   ]
  },
  {
   "cell_type": "code",
   "execution_count": 65,
   "metadata": {},
   "outputs": [
    {
     "data": {
      "text/plain": [
       "0.0    4185\n",
       "1.0     498\n",
       "Name: predict, dtype: int64"
      ]
     },
     "execution_count": 65,
     "metadata": {},
     "output_type": "execute_result"
    }
   ],
   "source": [
    "df['predict'].value_counts()"
   ]
  },
  {
   "cell_type": "code",
   "execution_count": 66,
   "metadata": {},
   "outputs": [
    {
     "data": {
      "text/plain": [
       "array(['אם את טסה בקרוב או שסתם באלך להתפנק במותג מהמם הנה כמה מוצרים שממש אהבתי lovers',\n",
       "       'הלםיהודה יצחקוב ואלמוג חדד שהכירו בבית האח הגדול והפכו לזוג נפרדומדובר בלא פחות מהפתעה אחרי שרק לאחרונה הם חסרו מחופשה ממיאמימה אתם חושבים עוד נראה קאמבק או אין סיכויחשיפה של ערן סויסה ',\n",
       "       'There is not such thing as bad weather for a walk on the beach Do you agree ישראלי פה ות ',\n",
       "       ...,\n",
       "       'Freeway light trails in Perth life isok _shots _wa _shotz vibes ',\n",
       "       'Quiz is this a night elf or Void elf Art by Astri Lohn Visit the link in my Bio for Warcraft shirts tags art art addict classic cosplay cosplay ',\n",
       "       '515 West 22nd Street in LANTERN HOUSE By b koncepts b travel Comments and support by sharing are always welcome gram photography destinations exodus new york '],\n",
       "      dtype=object)"
      ]
     },
     "execution_count": 66,
     "metadata": {},
     "output_type": "execute_result"
    }
   ],
   "source": [
    "df['content'].unique()"
   ]
  },
  {
   "cell_type": "markdown",
   "metadata": {},
   "source": [
    "As we can see, we have a lot more unsuccessful posts then successful.\n",
    "\n",
    "so we will change the paramater of the prediction to be more related to the time of the post.\n",
    "\n",
    "we will run the code on each row and take the date to check how much times have passed from the publication to the crawling (w-weeks, d-days, h-hours, m-minutes).\n",
    "\n",
    "+ for w we will check for 0.3 likes/followers ratio\n",
    "+ for d we will check for 0.25 likes/followers ratio\n",
    "+ for h we will check for 0.2 likes/followers ratio\n",
    "+ for m we will check for 0.15 likes/followers ratio"
   ]
  },
  {
   "cell_type": "code",
   "execution_count": 67,
   "metadata": {},
   "outputs": [],
   "source": [
    "for index,row in df.iterrows():\n",
    "        if 'd' in row['content']:\n",
    "            if row['likes']/row['followers'] > 0.20:\n",
    "                df.at[index,'predict'] = 1\n",
    "\n",
    "        elif 'h' in row['content']:\n",
    "            if row['likes']/row['followers'] > 0.15:\n",
    "                df.at[index,'predict'] = 1\n",
    "\n",
    "        elif 'm' in row['content']:\n",
    "            if row['likes']/row['followers'] > 0.10:\n",
    "                df.at[index,'predict'] = 1\n"
   ]
  },
  {
   "cell_type": "code",
   "execution_count": 18,
   "metadata": {},
   "outputs": [
    {
     "data": {
      "text/plain": [
       "0.0    3783\n",
       "1.0     900\n",
       "Name: predict, dtype: int64"
      ]
     },
     "execution_count": 18,
     "metadata": {},
     "output_type": "execute_result"
    }
   ],
   "source": [
    "df['predict'].value_counts()"
   ]
  },
  {
   "cell_type": "markdown",
   "metadata": {},
   "source": [
    "As we can see above, we have got a better distribution of predics and more accurate for the long time."
   ]
  },
  {
   "cell_type": "markdown",
   "metadata": {},
   "source": [
    "We want to make all our data to be in the same language, so everything that is not english we be dropped:"
   ]
  },
  {
   "cell_type": "code",
   "execution_count": 69,
   "metadata": {},
   "outputs": [],
   "source": [
    "# check if text is in english if not, drop row\n",
    "for index,row in df.iterrows():\n",
    "        try:\n",
    "                if detect(row['content']) == 'en':\n",
    "                        None\n",
    "                else:\n",
    "                        df.drop(index, inplace=True) \n",
    "        except:\n",
    "                None"
   ]
  },
  {
   "cell_type": "code",
   "execution_count": 74,
   "metadata": {},
   "outputs": [
    {
     "data": {
      "text/plain": [
       "(2794, 14)"
      ]
     },
     "execution_count": 74,
     "metadata": {},
     "output_type": "execute_result"
    }
   ],
   "source": [
    "df.shape"
   ]
  },
  {
   "cell_type": "code",
   "execution_count": 75,
   "metadata": {},
   "outputs": [
    {
     "data": {
      "text/html": [
       "<div>\n",
       "<style scoped>\n",
       "    .dataframe tbody tr th:only-of-type {\n",
       "        vertical-align: middle;\n",
       "    }\n",
       "\n",
       "    .dataframe tbody tr th {\n",
       "        vertical-align: top;\n",
       "    }\n",
       "\n",
       "    .dataframe thead th {\n",
       "        text-align: right;\n",
       "    }\n",
       "</style>\n",
       "<table border=\"1\" class=\"dataframe\">\n",
       "  <thead>\n",
       "    <tr style=\"text-align: right;\">\n",
       "      <th></th>\n",
       "      <th>id</th>\n",
       "      <th>likes</th>\n",
       "      <th>following</th>\n",
       "      <th>followers</th>\n",
       "      <th>posts_amount</th>\n",
       "      <th>celeb</th>\n",
       "      <th>pic_vid</th>\n",
       "      <th>hashtag</th>\n",
       "      <th>hashtag_amount</th>\n",
       "      <th>pCo</th>\n",
       "      <th>content</th>\n",
       "      <th>post_date</th>\n",
       "      <th>curr_date</th>\n",
       "      <th>predict</th>\n",
       "    </tr>\n",
       "  </thead>\n",
       "  <tbody>\n",
       "    <tr>\n",
       "      <th>12</th>\n",
       "      <td>CddePlFIwQJ</td>\n",
       "      <td>107.0</td>\n",
       "      <td>406.0</td>\n",
       "      <td>1440.0</td>\n",
       "      <td>406.0</td>\n",
       "      <td>0</td>\n",
       "      <td>0</td>\n",
       "      <td>רשותהטבעוהגנים חוף טבע ים טיולשבת מטייליםבארץי...</td>\n",
       "      <td>30</td>\n",
       "      <td>water outdoor sky swimwear person</td>\n",
       "      <td>There is not such thing as bad weather for a w...</td>\n",
       "      <td>3w</td>\n",
       "      <td>05/06/2022</td>\n",
       "      <td>0.0</td>\n",
       "    </tr>\n",
       "    <tr>\n",
       "      <th>13</th>\n",
       "      <td>CeGcpDcNfCk</td>\n",
       "      <td>27418.0</td>\n",
       "      <td>70.0</td>\n",
       "      <td>53000.0</td>\n",
       "      <td>789.0</td>\n",
       "      <td>0</td>\n",
       "      <td>0</td>\n",
       "      <td>iansomerhalder damonsalvatore tvd thevampiredi...</td>\n",
       "      <td>30</td>\n",
       "      <td>person bride kiss wedding dress love female pe...</td>\n",
       "      <td>Comment Your Favorite Heart Emoji Letter by le...</td>\n",
       "      <td>1w</td>\n",
       "      <td>05/06/2022</td>\n",
       "      <td>1.0</td>\n",
       "    </tr>\n",
       "    <tr>\n",
       "      <th>17</th>\n",
       "      <td>Ceb6uWBJATp</td>\n",
       "      <td>1513.0</td>\n",
       "      <td>591.0</td>\n",
       "      <td>179000.0</td>\n",
       "      <td>1050.0</td>\n",
       "      <td>0</td>\n",
       "      <td>0</td>\n",
       "      <td>lifeoftheparty</td>\n",
       "      <td>1</td>\n",
       "      <td>person long hair female person human face clot...</td>\n",
       "      <td>Happy Sangria Sunday Just finished my 4th glas...</td>\n",
       "      <td>12m</td>\n",
       "      <td>05/06/2022</td>\n",
       "      <td>0.0</td>\n",
       "    </tr>\n",
       "    <tr>\n",
       "      <th>19</th>\n",
       "      <td>Ceb37QdvpTh</td>\n",
       "      <td>252.0</td>\n",
       "      <td>1018.0</td>\n",
       "      <td>263000.0</td>\n",
       "      <td>11950.0</td>\n",
       "      <td>0</td>\n",
       "      <td>0</td>\n",
       "      <td>BlackBrides BlackWoman BlackQueens Melanina Bl...</td>\n",
       "      <td>22</td>\n",
       "      <td>text bride person wedding dress clothing femal...</td>\n",
       "      <td></td>\n",
       "      <td>39m</td>\n",
       "      <td>05/06/2022</td>\n",
       "      <td>0.0</td>\n",
       "    </tr>\n",
       "    <tr>\n",
       "      <th>22</th>\n",
       "      <td>Ceb5Q_OMFEp</td>\n",
       "      <td>144.0</td>\n",
       "      <td>569.0</td>\n",
       "      <td>23100.0</td>\n",
       "      <td>672.0</td>\n",
       "      <td>0</td>\n",
       "      <td>0</td>\n",
       "      <td>sunset sunrise sunsets sunsetlovers sunsetpics...</td>\n",
       "      <td>30</td>\n",
       "      <td>animal aquatic bird bird outdoor sea gull wate...</td>\n",
       "      <td>s lovers pics _vision photography porn lover ...</td>\n",
       "      <td>30m</td>\n",
       "      <td>05/06/2022</td>\n",
       "      <td>0.0</td>\n",
       "    </tr>\n",
       "  </tbody>\n",
       "</table>\n",
       "</div>"
      ],
      "text/plain": [
       "             id    likes  following  followers  posts_amount  celeb  pic_vid  \\\n",
       "12  CddePlFIwQJ    107.0      406.0     1440.0         406.0      0        0   \n",
       "13  CeGcpDcNfCk  27418.0       70.0    53000.0         789.0      0        0   \n",
       "17  Ceb6uWBJATp   1513.0      591.0   179000.0        1050.0      0        0   \n",
       "19  Ceb37QdvpTh    252.0     1018.0   263000.0       11950.0      0        0   \n",
       "22  Ceb5Q_OMFEp    144.0      569.0    23100.0         672.0      0        0   \n",
       "\n",
       "                                              hashtag  hashtag_amount  \\\n",
       "12  רשותהטבעוהגנים חוף טבע ים טיולשבת מטייליםבארץי...              30   \n",
       "13  iansomerhalder damonsalvatore tvd thevampiredi...              30   \n",
       "17                                    lifeoftheparty                1   \n",
       "19  BlackBrides BlackWoman BlackQueens Melanina Bl...              22   \n",
       "22  sunset sunrise sunsets sunsetlovers sunsetpics...              30   \n",
       "\n",
       "                                                  pCo  \\\n",
       "12                 water outdoor sky swimwear person    \n",
       "13  person bride kiss wedding dress love female pe...   \n",
       "17  person long hair female person human face clot...   \n",
       "19  text bride person wedding dress clothing femal...   \n",
       "22  animal aquatic bird bird outdoor sea gull wate...   \n",
       "\n",
       "                                              content post_date   curr_date  \\\n",
       "12  There is not such thing as bad weather for a w...        3w  05/06/2022   \n",
       "13  Comment Your Favorite Heart Emoji Letter by le...        1w  05/06/2022   \n",
       "17  Happy Sangria Sunday Just finished my 4th glas...       12m  05/06/2022   \n",
       "19                                                          39m  05/06/2022   \n",
       "22   s lovers pics _vision photography porn lover ...       30m  05/06/2022   \n",
       "\n",
       "    predict  \n",
       "12      0.0  \n",
       "13      1.0  \n",
       "17      0.0  \n",
       "19      0.0  \n",
       "22      0.0  "
      ]
     },
     "execution_count": 75,
     "metadata": {},
     "output_type": "execute_result"
    }
   ],
   "source": [
    "df.head()"
   ]
  },
  {
   "cell_type": "code",
   "execution_count": 76,
   "metadata": {},
   "outputs": [
    {
     "data": {
      "text/plain": [
       "0.0    2305\n",
       "1.0     489\n",
       "Name: predict, dtype: int64"
      ]
     },
     "execution_count": 76,
     "metadata": {},
     "output_type": "execute_result"
    }
   ],
   "source": [
    "df['predict'].value_counts()"
   ]
  }
 ],
 "metadata": {
  "kernelspec": {
   "display_name": "Python 3.10.1 64-bit",
   "language": "python",
   "name": "python3"
  },
  "language_info": {
   "codemirror_mode": {
    "name": "ipython",
    "version": 3
   },
   "file_extension": ".py",
   "mimetype": "text/x-python",
   "name": "python",
   "nbconvert_exporter": "python",
   "pygments_lexer": "ipython3",
   "version": "3.10.1"
  },
  "orig_nbformat": 4,
  "vscode": {
   "interpreter": {
    "hash": "369f2c481f4da34e4445cda3fffd2e751bd1c4d706f27375911949ba6bb62e1c"
   }
  }
 },
 "nbformat": 4,
 "nbformat_minor": 2
}
